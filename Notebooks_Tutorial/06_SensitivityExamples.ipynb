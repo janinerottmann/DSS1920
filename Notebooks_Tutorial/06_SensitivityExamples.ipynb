{
 "cells": [
  {
   "cell_type": "markdown",
   "metadata": {},
   "source": [
    "This notebook provides a possibility to generate sensitivity reports.For generating them we need different tools, which we first have to install in Colab. In particular, we use the GLPK-solver. Outside of Colab this can be done much easier. However, this is not part of the lecture and the tutorials.\n"
   ]
  },
  {
   "cell_type": "code",
   "execution_count": null,
   "metadata": {},
   "outputs": [],
   "source": [
    "!wget https://repo.anaconda.com/archive/Anaconda3-5.2.0-Linux-x86_64.sh && bash Anaconda3-5.2.0-Linux-x86_64.sh -bfp /usr/local\n",
    "\n",
    "import sys\n",
    "sys.path.append('/usr/local/lib/python3.6/site-packages')\n",
    "\n",
    "!conda install -c conda-forge glpk -y"
   ]
  },
  {
   "cell_type": "code",
   "execution_count": 1,
   "metadata": {
    "scrolled": false
   },
   "outputs": [
    {
     "name": "stdout",
     "output_type": "stream",
     "text": [
      "Requirement already satisfied: pulp in c:\\users\\toni greif\\anaconda3\\lib\\site-packages (1.6.10)\n",
      "Requirement already satisfied: pyparsing>=2.0.1 in c:\\users\\toni greif\\anaconda3\\lib\\site-packages (from pulp) (2.3.0)\n"
     ]
    }
   ],
   "source": [
    "!pip install pulp\n",
    "from pulp import *"
   ]
  },
  {
   "cell_type": "code",
   "execution_count": 2,
   "metadata": {},
   "outputs": [],
   "source": [
    "# model\n",
    "prob = LpProblem(\"VehicleManufacturing\", LpMaximize)\n",
    "\n",
    "# variables \n",
    "x = LpVariable.dicts(\"production\", ['c', 't'], 0)\n",
    "m = LpVariable.dicts(\"machines\", [1], 0)\n",
    "\n",
    "# objective function\n",
    "prob += 300*x['c']+400*x['t']-50*m[1]\n",
    "\n",
    "# constraints\n",
    "prob += 0.8*x['c']+ x['t']-m[1] <= 0 ,'days_machine1'\n",
    "prob += m[1] <= 98, 'numbers_machine1'\n",
    "prob += 0.6*x['c']+ 0.7*x['t'] <= 73, 'days_machine2'\n",
    "prob += 2*x['c']+ 3*x['t'] <= 260,'steel'\n",
    "prob += x['c']>= 88,'min_cars'\n",
    "prob += x['t'] >= 26,'min_trucks'"
   ]
  },
  {
   "cell_type": "code",
   "execution_count": 3,
   "metadata": {},
   "outputs": [],
   "source": [
    "prob.writeLP(\"VehicleManufacturing.lp\")"
   ]
  },
  {
   "cell_type": "code",
   "execution_count": null,
   "metadata": {},
   "outputs": [],
   "source": [
    "%cd /home\n",
    "prob.writeLP(\"VehicleManufacturing.lp\")\n",
    "!glpsol --lp VehicleManufacturing.lp --ranges \"/dev/stdout\""
   ]
  },
  {
   "cell_type": "code",
   "execution_count": 4,
   "metadata": {},
   "outputs": [],
   "source": [
    "# model\n",
    "prob = LpProblem(\"ComputerProduction\", LpMaximize)\n",
    "\n",
    "# variables \n",
    "x = LpVariable.dicts(\"production\", ['NP', 'LP', 'NV', 'LV'], 0)\n",
    "l = LpVariable.dicts(\"labour\", [1], 0)\n",
    "\n",
    "# objective function\n",
    "prob += 600*x['NP']+1000*x['LP']+800*x['NV']+1300*x['LV']-20*l[1]\n",
    "\n",
    "# constraints\n",
    "prob += 2*x['NP']+3*x['LP']+2*x['NV']+4*x['LV']-l[1] <= 0 ,'labour'\n",
    "prob += l[1] <= 4000, 'purchased_labour'\n",
    "\n",
    "prob += x['NV'] + x['NP'] <= 800,'production_NewYork'\n",
    "prob += x['LV'] + x['LP'] <= 1000,'production_LosAngeles'\n",
    "\n",
    "prob += x['NP'] + x['LP'] <= 900,'selling_limitPC'\n",
    "prob += x['NV'] + x['LV'] <= 900,'selling_limitVAX'"
   ]
  },
  {
   "cell_type": "code",
   "execution_count": 5,
   "metadata": {},
   "outputs": [],
   "source": [
    "prob.writeLP(\"ComputerProduction.lp\")"
   ]
  },
  {
   "cell_type": "code",
   "execution_count": null,
   "metadata": {},
   "outputs": [],
   "source": [
    "%cd /home\n",
    "prob.writeLP(\"ComputerProduction.lp\")\n",
    "!glpsol --lp ComputerProduction.lp --ranges \"/dev/stdout\""
   ]
  }
 ],
 "metadata": {
  "kernelspec": {
   "display_name": "Python 3",
   "language": "python",
   "name": "python3"
  },
  "language_info": {
   "codemirror_mode": {
    "name": "ipython",
    "version": 3
   },
   "file_extension": ".py",
   "mimetype": "text/x-python",
   "name": "python",
   "nbconvert_exporter": "python",
   "pygments_lexer": "ipython3",
   "version": "3.7.1"
  },
  "toc": {
   "base_numbering": 1,
   "nav_menu": {},
   "number_sections": true,
   "sideBar": true,
   "skip_h1_title": false,
   "title_cell": "Table of Contents",
   "title_sidebar": "Contents",
   "toc_cell": false,
   "toc_position": {},
   "toc_section_display": true,
   "toc_window_display": false
  }
 },
 "nbformat": 4,
 "nbformat_minor": 2
}
