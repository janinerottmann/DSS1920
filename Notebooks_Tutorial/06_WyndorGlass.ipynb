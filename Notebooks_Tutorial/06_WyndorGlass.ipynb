{
 "cells": [
  {
   "cell_type": "markdown",
   "metadata": {},
   "source": [
    "## Standard Problem"
   ]
  },
  {
   "cell_type": "code",
   "execution_count": 60,
   "metadata": {
    "scrolled": false
   },
   "outputs": [
    {
     "name": "stdout",
     "output_type": "stream",
     "text": [
      "Requirement already satisfied: pulp in c:\\users\\toni greif\\anaconda3\\lib\\site-packages (1.6.10)\n",
      "Requirement already satisfied: pyparsing>=2.0.1 in c:\\users\\toni greif\\anaconda3\\lib\\site-packages (from pulp) (2.3.0)\n"
     ]
    }
   ],
   "source": [
    "!pip install pulp\n",
    "from pulp import *\n",
    "from scipy.stats import norm"
   ]
  },
  {
   "cell_type": "code",
   "execution_count": 43,
   "metadata": {},
   "outputs": [],
   "source": [
    "# model\n",
    "m1 = LpProblem(\"Wyndor\", LpMaximize)"
   ]
  },
  {
   "cell_type": "code",
   "execution_count": 44,
   "metadata": {},
   "outputs": [],
   "source": [
    "# data\n",
    "hours = {1: 4,\n",
    "         2: 12,\n",
    "         3: 18\n",
    "        }\n",
    "\n",
    "time = {'window': {1: 0, 2:2, 3:2},\n",
    "        'door': {1: 1, 2:0, 3:3}\n",
    "       }\n",
    "\n",
    "profit = {'window': 5,\n",
    "          'door': 3\n",
    "         }"
   ]
  },
  {
   "cell_type": "code",
   "execution_count": 45,
   "metadata": {},
   "outputs": [],
   "source": [
    "# variables \n",
    "x = LpVariable.dicts(\"production\", profit, 0)\n",
    "\n",
    "# objective function\n",
    "m1 += lpSum([profit[item]*x[item] for item in profit])\n",
    "\n",
    "# constraints\n",
    "for plant in hours:\n",
    "    m1 += lpSum([time[item][plant]*x[item] for item in profit]) <= hours[plant] ,\"resource{}\".format(plant)"
   ]
  },
  {
   "cell_type": "code",
   "execution_count": 46,
   "metadata": {
    "scrolled": true
   },
   "outputs": [
    {
     "name": "stdout",
     "output_type": "stream",
     "text": [
      "Status = Optimal\n",
      "Objective = 36.000000\n",
      "production_door = 2.000000\n",
      "production_window = 6.000000\n"
     ]
    }
   ],
   "source": [
    "# Optimize\n",
    "m1.solve()\n",
    "print(\"Status = %s\" % LpStatus[m1.status])\n",
    "\n",
    "# Solution\n",
    "print(\"Objective = %f\" % value(m1.objective))\n",
    "for var in m1.variables():\n",
    "    print(\"%s = %f\" % (var,var.varValue))"
   ]
  },
  {
   "cell_type": "markdown",
   "metadata": {},
   "source": [
    "## Robust Optimization"
   ]
  },
  {
   "cell_type": "code",
   "execution_count": 54,
   "metadata": {},
   "outputs": [],
   "source": [
    "# model\n",
    "m2 = LpProblem(\"WyndorRobust\", LpMaximize)"
   ]
  },
  {
   "cell_type": "code",
   "execution_count": 55,
   "metadata": {},
   "outputs": [],
   "source": [
    "# data\n",
    "hours = {1: [3.6,4.4],\n",
    "         2: [11,13],\n",
    "         3: [16,20]\n",
    "        }\n",
    "\n",
    "time = {'window': {1: [0], 2:[1.8,2.2], 3:[1.5,2.5]},\n",
    "        'door': {1: [0.8,1.2], 2:[0], 3:[2.5,3.5]}\n",
    "       }\n",
    "\n",
    "profit = {'window': [4.5,5.5],\n",
    "          'door': [2.5,3.5]\n",
    "         }"
   ]
  },
  {
   "cell_type": "code",
   "execution_count": 56,
   "metadata": {},
   "outputs": [],
   "source": [
    "# variables \n",
    "x = LpVariable.dicts(\"production\", profit, 0)\n",
    "\n",
    "# objective function\n",
    "m2 += lpSum([min(profit[item])*x[item] for item in profit])\n",
    "\n",
    "# constraints\n",
    "for plant in hours:\n",
    "    m2 += lpSum([max(time[item][plant])*x[item] for item in profit]) <= min(hours[plant]) ,\"resource{}\".format(plant)"
   ]
  },
  {
   "cell_type": "code",
   "execution_count": 58,
   "metadata": {
    "scrolled": false
   },
   "outputs": [
    {
     "name": "stdout",
     "output_type": "stream",
     "text": [
      "Status = Optimal\n",
      "Objective = 25.000000\n",
      "production_door = 1.000000\n",
      "production_window = 5.000000\n"
     ]
    }
   ],
   "source": [
    "# Optimize\n",
    "m2.solve()\n",
    "print(\"Status = %s\" % LpStatus[m2.status])\n",
    "\n",
    "# Solution\n",
    "print(\"Objective = %f\" % value(m2.objective))\n",
    "for var in m2.variables():\n",
    "    print(\"%s = %f\" % (var,var.varValue))"
   ]
  },
  {
   "cell_type": "markdown",
   "metadata": {},
   "source": [
    "## Chance Constraints"
   ]
  },
  {
   "cell_type": "code",
   "execution_count": 80,
   "metadata": {},
   "outputs": [],
   "source": [
    "# model\n",
    "m3 = LpProblem(\"WyndorChance\", LpMaximize)"
   ]
  },
  {
   "cell_type": "code",
   "execution_count": 81,
   "metadata": {},
   "outputs": [],
   "source": [
    "# data\n",
    "hours = {1: [4,0.2],\n",
    "         2: [12,0.5],\n",
    "         3: [18,1]\n",
    "        }\n",
    "\n",
    "time = {'window': {1: 0, 2:2, 3:2},\n",
    "        'door': {1: 1, 2:0, 3:3}\n",
    "       }\n",
    "\n",
    "profit = {'window': 5,\n",
    "          'door': 3\n",
    "         }"
   ]
  },
  {
   "cell_type": "code",
   "execution_count": 83,
   "metadata": {},
   "outputs": [],
   "source": [
    "# variables \n",
    "x = LpVariable.dicts(\"production\", profit, 0)\n",
    "\n",
    "# objective function\n",
    "m3 += lpSum([profit[item]*x[item] for item in profit])\n",
    "\n",
    "# constraints\n",
    "for plant in hours:\n",
    "    m3 += lpSum([time[item][plant]*x[item] for item in profit]) <= (hours[plant][0]-norm.ppf(0.95)*hours[plant][1]) ,\"resource{}\".format(plant)"
   ]
  },
  {
   "cell_type": "code",
   "execution_count": 85,
   "metadata": {},
   "outputs": [
    {
     "name": "stdout",
     "output_type": "stream",
     "text": [
      "Status = Optimal\n",
      "Objective = 33.121506\n",
      "production_door = 1.725858\n",
      "production_window = 5.588787\n"
     ]
    }
   ],
   "source": [
    "# Optimize\n",
    "m3.solve()\n",
    "print(\"Status = %s\" % LpStatus[m3.status])\n",
    "\n",
    "# Solution\n",
    "print(\"Objective = %f\" % value(m3.objective))\n",
    "for var in m3.variables():\n",
    "    print(\"%s = %f\" % (var,var.varValue))"
   ]
  }
 ],
 "metadata": {
  "kernelspec": {
   "display_name": "Python 3",
   "language": "python",
   "name": "python3"
  },
  "language_info": {
   "codemirror_mode": {
    "name": "ipython",
    "version": 3
   },
   "file_extension": ".py",
   "mimetype": "text/x-python",
   "name": "python",
   "nbconvert_exporter": "python",
   "pygments_lexer": "ipython3",
   "version": "3.7.1"
  },
  "toc": {
   "base_numbering": 1,
   "nav_menu": {},
   "number_sections": true,
   "sideBar": true,
   "skip_h1_title": false,
   "title_cell": "Table of Contents",
   "title_sidebar": "Contents",
   "toc_cell": false,
   "toc_position": {},
   "toc_section_display": true,
   "toc_window_display": false
  }
 },
 "nbformat": 4,
 "nbformat_minor": 2
}
