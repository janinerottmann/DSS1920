{
 "cells": [
  {
   "cell_type": "code",
   "execution_count": 1,
   "metadata": {
    "scrolled": false
   },
   "outputs": [
    {
     "name": "stdout",
     "output_type": "stream",
     "text": [
      "Requirement already satisfied: pulp in c:\\users\\toni greif\\anaconda3\\lib\\site-packages (1.6.10)\n",
      "Requirement already satisfied: pyparsing>=2.0.1 in c:\\users\\toni greif\\anaconda3\\lib\\site-packages (from pulp) (2.3.0)\n"
     ]
    }
   ],
   "source": [
    "!pip install pulp\n",
    "from pulp import *\n",
    "from scipy.stats import norm"
   ]
  },
  {
   "cell_type": "code",
   "execution_count": 2,
   "metadata": {},
   "outputs": [],
   "source": [
    "# model\n",
    "m = LpProblem(\"EnergySupplier\", LpMinimize)"
   ]
  },
  {
   "cell_type": "code",
   "execution_count": 3,
   "metadata": {},
   "outputs": [],
   "source": [
    "# data\n",
    "scenarios = {'normal': [5,100],\n",
    "             'cold': [8,150],\n",
    "             'very_cold': [10,180]\n",
    "            }\n",
    "l = 0.2"
   ]
  },
  {
   "cell_type": "code",
   "execution_count": 4,
   "metadata": {},
   "outputs": [],
   "source": [
    "# variables \n",
    "x_order = LpVariable(\"order_amount_period1\", 0)\n",
    "x_sold = LpVariable(\"sold_amount_period1\", 0)\n",
    "y_order = LpVariable.dicts(\"order_amount_period2\",scenarios, 0)"
   ]
  },
  {
   "cell_type": "code",
   "execution_count": 5,
   "metadata": {},
   "outputs": [],
   "source": [
    "# objective function\n",
    "m += 1/len(scenarios) * lpSum([y_order[s]*scenarios[s][0] for s in scenarios]\n",
    "                             ) + x_order * scenarios['normal'][0] +(x_order-x_sold) * l\n",
    "\n",
    "# constraints\n",
    "m += x_sold >= scenarios['normal'][1]  ,\"demand_period1\"\n",
    "m += x_sold <= x_order, \"order_period1\"\n",
    "\n",
    "for s in scenarios:\n",
    "    m += x_order-x_sold + y_order[s] >= scenarios[s][1] , '{}'.format(s)"
   ]
  },
  {
   "cell_type": "code",
   "execution_count": 7,
   "metadata": {
    "scrolled": true
   },
   "outputs": [
    {
     "name": "stdout",
     "output_type": "stream",
     "text": [
      "Status = Optimal\n",
      "Objective = 1380.000000\n",
      "order_amount_period1 = 250.000000\n",
      "order_amount_period2_cold = 0.000000\n",
      "order_amount_period2_normal = 0.000000\n",
      "order_amount_period2_very_cold = 30.000000\n",
      "sold_amount_period1 = 100.000000\n"
     ]
    }
   ],
   "source": [
    "# Optimize\n",
    "m.solve()\n",
    "print(\"Status = %s\" % LpStatus[m.status])\n",
    "\n",
    "# Solution\n",
    "print(\"Objective = %f\" % value(m.objective))\n",
    "for var in m.variables():\n",
    "    print(\"%s = %f\" % (var,var.varValue))"
   ]
  }
 ],
 "metadata": {
  "kernelspec": {
   "display_name": "Python 3",
   "language": "python",
   "name": "python3"
  },
  "language_info": {
   "codemirror_mode": {
    "name": "ipython",
    "version": 3
   },
   "file_extension": ".py",
   "mimetype": "text/x-python",
   "name": "python",
   "nbconvert_exporter": "python",
   "pygments_lexer": "ipython3",
   "version": "3.7.1"
  },
  "toc": {
   "base_numbering": 1,
   "nav_menu": {},
   "number_sections": true,
   "sideBar": true,
   "skip_h1_title": false,
   "title_cell": "Table of Contents",
   "title_sidebar": "Contents",
   "toc_cell": false,
   "toc_position": {},
   "toc_section_display": true,
   "toc_window_display": false
  }
 },
 "nbformat": 4,
 "nbformat_minor": 2
}
