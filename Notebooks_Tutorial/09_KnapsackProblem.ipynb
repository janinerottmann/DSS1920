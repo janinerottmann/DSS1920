{
 "cells": [
  {
   "cell_type": "code",
   "execution_count": 1,
   "metadata": {},
   "outputs": [
    {
     "name": "stdout",
     "output_type": "stream",
     "text": [
      "Requirement already satisfied: pulp in c:\\users\\toni greif\\anaconda3\\lib\\site-packages (1.6.10)\n",
      "Requirement already satisfied: pyparsing>=2.0.1 in c:\\users\\toni greif\\anaconda3\\lib\\site-packages (from pulp) (2.3.0)\n"
     ]
    }
   ],
   "source": [
    "!pip install pulp\n",
    "from pulp import *\n",
    "import pandas as pd\n",
    "import numpy as np"
   ]
  },
  {
   "cell_type": "code",
   "execution_count": 2,
   "metadata": {},
   "outputs": [],
   "source": [
    "items_df = pd.read_csv(\"https://github.com/wi3jmu/DSS1920/raw/master/Data/items.csv\")\n",
    "bags_df = pd.read_csv(\"https://github.com/wi3jmu/DSS1920/raw/master/Data/bags.csv\")"
   ]
  },
  {
   "cell_type": "code",
   "execution_count": 3,
   "metadata": {
    "slideshow": {
     "slide_type": "subslide"
    }
   },
   "outputs": [],
   "source": [
    "def solve_knapsack(items_data, bags_data):\n",
    "    \n",
    "    weights = items_data.weight\n",
    "    values = items_data.value\n",
    "    items = items_data.index.tolist()\n",
    "\n",
    "    costs = bags_data.cost\n",
    "    capas = bags_data.capacity\n",
    "    bags = bags_data.index.tolist()\n",
    "\n",
    "    m = LpProblem(\"KnapsackProblem\", LpMaximize)\n",
    "\n",
    "    # Variables\n",
    "    x = LpVariable.dicts('x',(bags, items), lowBound=0, upBound=1, cat=pulp.LpInteger)\n",
    "    y = LpVariable.dicts('y',(bags), lowBound=0, upBound=1, cat=pulp.LpInteger)\n",
    "\n",
    "    # Objective\n",
    "    m += lpSum([values[i] * x[b][i] for i in items for b in bags] + [-costs[b] * y[b] for b in bags])\n",
    "\n",
    "    # Constraints\n",
    "    for b in bags:\n",
    "        #m += lpSum([weights[i] * x[b][i] for i in items ]) <= capas[b]\n",
    "        m += LpAffineExpression(list(map(tuple,(zip(x[b].values(), weights))))) <= capas[b]\n",
    "        m += lpSum([x[b][i] for i in items]) <= y[b]*max(bags_data.capacity)\n",
    "\n",
    "    for i in items:\n",
    "        m += lpSum([x[b][i] for b in bags]) <= 1  \n",
    "\n",
    "    m.solve(PULP_CBC_CMD(maxSeconds=60))\n",
    "    print (\"Status:\", LpStatus[m.status])\n",
    "    print(\"Objective = %f\" % value(m.objective))"
   ]
  },
  {
   "cell_type": "code",
   "execution_count": 4,
   "metadata": {
    "slideshow": {
     "slide_type": "subslide"
    }
   },
   "outputs": [],
   "source": [
    "items_data = items_df\n",
    "bags_data = bags_df"
   ]
  },
  {
   "cell_type": "code",
   "execution_count": 5,
   "metadata": {
    "slideshow": {
     "slide_type": "-"
    }
   },
   "outputs": [
    {
     "name": "stdout",
     "output_type": "stream",
     "text": [
      "Status: Not Solved\n",
      "Objective = 26063.200000\n"
     ]
    }
   ],
   "source": [
    "solve_knapsack(items_data, bags_data)"
   ]
  },
  {
   "cell_type": "code",
   "execution_count": 6,
   "metadata": {
    "slideshow": {
     "slide_type": "fragment"
    }
   },
   "outputs": [
    {
     "name": "stdout",
     "output_type": "stream",
     "text": [
      "110146\n",
      "278.66938\n"
     ]
    }
   ],
   "source": [
    "print(sum(items_data.weight))\n",
    "print(sum(bags_data.capacity))"
   ]
  },
  {
   "cell_type": "markdown",
   "metadata": {
    "slideshow": {
     "slide_type": "slide"
    }
   },
   "source": [
    "### Remove low value items "
   ]
  },
  {
   "cell_type": "code",
   "execution_count": 7,
   "metadata": {},
   "outputs": [
    {
     "name": "stdout",
     "output_type": "stream",
     "text": [
      "305\n",
      "278.66938\n"
     ]
    }
   ],
   "source": [
    "items_data = items_df.sort_values(by=['value'], ascending=False).head(50)\n",
    "bags_data = bags_df\n",
    "print(sum(items_data.weight))\n",
    "print(sum(bags_data.capacity))"
   ]
  },
  {
   "cell_type": "code",
   "execution_count": 8,
   "metadata": {},
   "outputs": [
    {
     "name": "stdout",
     "output_type": "stream",
     "text": [
      "Status: Optimal\n",
      "Objective = 4681.200000\n"
     ]
    }
   ],
   "source": [
    "solve_knapsack(items_data, bags_data)"
   ]
  },
  {
   "cell_type": "markdown",
   "metadata": {
    "slideshow": {
     "slide_type": "slide"
    }
   },
   "source": [
    "### Remove heavy items"
   ]
  },
  {
   "cell_type": "code",
   "execution_count": 9,
   "metadata": {},
   "outputs": [
    {
     "name": "stdout",
     "output_type": "stream",
     "text": [
      "350\n",
      "278.66938\n"
     ]
    }
   ],
   "source": [
    "items_data = items_df.sort_values(by=['weight']).head(350)\n",
    "bags_data = bags_df\n",
    "print(sum(items_data.weight))\n",
    "print(sum(bags_data.capacity))"
   ]
  },
  {
   "cell_type": "code",
   "execution_count": 10,
   "metadata": {
    "scrolled": true
   },
   "outputs": [
    {
     "name": "stdout",
     "output_type": "stream",
     "text": [
      "Status: Optimal\n",
      "Objective = 18281.200000\n"
     ]
    }
   ],
   "source": [
    "solve_knapsack(items_data, bags_data)"
   ]
  },
  {
   "cell_type": "markdown",
   "metadata": {
    "slideshow": {
     "slide_type": "slide"
    }
   },
   "source": [
    "### Value Density"
   ]
  },
  {
   "cell_type": "code",
   "execution_count": 11,
   "metadata": {},
   "outputs": [],
   "source": [
    "items_df['valueDensity'] = items_df.apply(lambda r: (r.value/r.weight), axis=1)"
   ]
  },
  {
   "cell_type": "code",
   "execution_count": 12,
   "metadata": {},
   "outputs": [
    {
     "data": {
      "text/html": [
       "<div>\n",
       "<style scoped>\n",
       "    .dataframe tbody tr th:only-of-type {\n",
       "        vertical-align: middle;\n",
       "    }\n",
       "\n",
       "    .dataframe tbody tr th {\n",
       "        vertical-align: top;\n",
       "    }\n",
       "\n",
       "    .dataframe thead th {\n",
       "        text-align: right;\n",
       "    }\n",
       "</style>\n",
       "<table border=\"1\" class=\"dataframe\">\n",
       "  <thead>\n",
       "    <tr style=\"text-align: right;\">\n",
       "      <th></th>\n",
       "      <th>weight</th>\n",
       "      <th>value</th>\n",
       "      <th>valueDensity</th>\n",
       "    </tr>\n",
       "  </thead>\n",
       "  <tbody>\n",
       "    <tr>\n",
       "      <th>0</th>\n",
       "      <td>7</td>\n",
       "      <td>89</td>\n",
       "      <td>12.714286</td>\n",
       "    </tr>\n",
       "    <tr>\n",
       "      <th>1</th>\n",
       "      <td>1</td>\n",
       "      <td>58</td>\n",
       "      <td>58.000000</td>\n",
       "    </tr>\n",
       "    <tr>\n",
       "      <th>2</th>\n",
       "      <td>6</td>\n",
       "      <td>35</td>\n",
       "      <td>5.833333</td>\n",
       "    </tr>\n",
       "    <tr>\n",
       "      <th>3</th>\n",
       "      <td>8</td>\n",
       "      <td>88</td>\n",
       "      <td>11.000000</td>\n",
       "    </tr>\n",
       "    <tr>\n",
       "      <th>4</th>\n",
       "      <td>9</td>\n",
       "      <td>43</td>\n",
       "      <td>4.777778</td>\n",
       "    </tr>\n",
       "  </tbody>\n",
       "</table>\n",
       "</div>"
      ],
      "text/plain": [
       "   weight  value  valueDensity\n",
       "0       7     89     12.714286\n",
       "1       1     58     58.000000\n",
       "2       6     35      5.833333\n",
       "3       8     88     11.000000\n",
       "4       9     43      4.777778"
      ]
     },
     "execution_count": 12,
     "metadata": {},
     "output_type": "execute_result"
    }
   ],
   "source": [
    "items_df.head()"
   ]
  },
  {
   "cell_type": "code",
   "execution_count": 13,
   "metadata": {},
   "outputs": [
    {
     "name": "stdout",
     "output_type": "stream",
     "text": [
      "350\n",
      "278.66938\n"
     ]
    }
   ],
   "source": [
    "items_data = items_df.sort_values(by=['valueDensity'], ascending=False).head(350)\n",
    "bags_data = bags_df\n",
    "print(sum(items_data.weight))\n",
    "print(sum(bags_data.capacity))"
   ]
  },
  {
   "cell_type": "code",
   "execution_count": 14,
   "metadata": {},
   "outputs": [
    {
     "name": "stdout",
     "output_type": "stream",
     "text": [
      "Status: Optimal\n",
      "Objective = 26063.200000\n"
     ]
    }
   ],
   "source": [
    "solve_knapsack(items_data, bags_data)"
   ]
  },
  {
   "cell_type": "markdown",
   "metadata": {
    "slideshow": {
     "slide_type": "slide"
    }
   },
   "source": [
    "### Random Subproblems"
   ]
  },
  {
   "cell_type": "code",
   "execution_count": 15,
   "metadata": {},
   "outputs": [],
   "source": [
    "items_df_1, items_df_2, items_df_3, items_df_4 = np.array_split(items_df, 4)\n",
    "bags_df_1, bags_df_2, bags_df_3, bags_df_4 = np.array_split(bags_df, 4)"
   ]
  },
  {
   "cell_type": "code",
   "execution_count": 16,
   "metadata": {},
   "outputs": [
    {
     "name": "stdout",
     "output_type": "stream",
     "text": [
      "Status: Optimal\n",
      "Objective = 5714.900000\n"
     ]
    }
   ],
   "source": [
    "items_data = items_df_1\n",
    "bags_data = bags_df_1\n",
    "\n",
    "solve_knapsack(items_data, bags_data)"
   ]
  },
  {
   "cell_type": "code",
   "execution_count": 17,
   "metadata": {},
   "outputs": [
    {
     "name": "stdout",
     "output_type": "stream",
     "text": [
      "Status: Optimal\n",
      "Objective = 5520.600000\n"
     ]
    }
   ],
   "source": [
    "items_data = items_df_2\n",
    "bags_data = bags_df_2\n",
    "\n",
    "solve_knapsack(items_data, bags_data)"
   ]
  },
  {
   "cell_type": "code",
   "execution_count": 18,
   "metadata": {
    "scrolled": true
   },
   "outputs": [
    {
     "name": "stdout",
     "output_type": "stream",
     "text": [
      "Status: Optimal\n",
      "Objective = 6288.100000\n"
     ]
    }
   ],
   "source": [
    "items_data = items_df_3\n",
    "bags_data = bags_df_3\n",
    "\n",
    "solve_knapsack(items_data, bags_data)"
   ]
  },
  {
   "cell_type": "code",
   "execution_count": 19,
   "metadata": {},
   "outputs": [
    {
     "name": "stdout",
     "output_type": "stream",
     "text": [
      "Status: Optimal\n",
      "Objective = 8476.600000\n"
     ]
    }
   ],
   "source": [
    "items_data = items_df_4\n",
    "bags_data = bags_df_4\n",
    "\n",
    "solve_knapsack(items_data, bags_data)"
   ]
  },
  {
   "cell_type": "code",
   "execution_count": 20,
   "metadata": {},
   "outputs": [
    {
     "data": {
      "text/plain": [
       "26000.199999999997"
      ]
     },
     "execution_count": 20,
     "metadata": {},
     "output_type": "execute_result"
    }
   ],
   "source": [
    "5714.9 + 5520.6 + 6288.1 + 8476.6"
   ]
  }
 ],
 "metadata": {
  "celltoolbar": "Slideshow",
  "kernelspec": {
   "display_name": "Python 3",
   "language": "python",
   "name": "python3"
  },
  "language_info": {
   "codemirror_mode": {
    "name": "ipython",
    "version": 3
   },
   "file_extension": ".py",
   "mimetype": "text/x-python",
   "name": "python",
   "nbconvert_exporter": "python",
   "pygments_lexer": "ipython3",
   "version": "3.7.1"
  },
  "toc": {
   "base_numbering": 1,
   "nav_menu": {},
   "number_sections": true,
   "sideBar": true,
   "skip_h1_title": false,
   "title_cell": "Table of Contents",
   "title_sidebar": "Contents",
   "toc_cell": false,
   "toc_position": {},
   "toc_section_display": true,
   "toc_window_display": false
  }
 },
 "nbformat": 4,
 "nbformat_minor": 2
}
