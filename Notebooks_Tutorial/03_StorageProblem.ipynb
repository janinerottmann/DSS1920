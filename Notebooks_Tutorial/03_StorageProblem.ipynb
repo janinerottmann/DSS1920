{
 "cells": [
  {
   "cell_type": "markdown",
   "metadata": {},
   "source": [
    "## Storage Model revisited"
   ]
  },
  {
   "cell_type": "code",
   "execution_count": 1,
   "metadata": {},
   "outputs": [
    {
     "name": "stdout",
     "output_type": "stream",
     "text": [
      "Requirement already satisfied: pulp in c:\\users\\toni greif\\anaconda3\\lib\\site-packages (1.6.10)\n",
      "Requirement already satisfied: pyparsing>=2.0.1 in c:\\users\\toni greif\\anaconda3\\lib\\site-packages (from pulp) (2.3.0)\n"
     ]
    }
   ],
   "source": [
    "!pip install pulp\n",
    "from pulp import *"
   ]
  },
  {
   "cell_type": "code",
   "execution_count": 2,
   "metadata": {},
   "outputs": [],
   "source": [
    "# Creates a list of the products\n",
    "months = ['000','JAN', 'FEB', 'MAR', 'APR', 'MAY', 'JUN']\n",
    "\n",
    "# A dictionary of the unit cost per month\n",
    "cost = {'000': 0,\n",
    "    'JAN': 240, \n",
    "         'FEB': 250,\n",
    "       'MAR': 265, \n",
    "         'APR': 285,\n",
    "       'MAY': 280, \n",
    "         'JUN': 260}\n",
    "\n",
    "# A dictionary of the demand per month\n",
    "demand = {'000': 0,\n",
    "          'JAN': 1000, \n",
    "         'FEB': 4500,\n",
    "       'MAR': 6000, \n",
    "         'APR': 5500,\n",
    "       'MAY': 3500, \n",
    "         'JUN': 4000}\n",
    "\n",
    "# A dictionary of the min production per month\n",
    "minOut = {'000': 0,\n",
    "          'JAN': 2000, \n",
    "         'FEB': 1750,\n",
    "       'MAR': 2000, \n",
    "         'APR': 2250,\n",
    "       'MAY': 2000, \n",
    "         'JUN': 1750}\n",
    "\n",
    "# A dictionary of the max production per month\n",
    "maxOut = {'JAN': 4000, \n",
    "         'FEB': 3500,\n",
    "       'MAR': 4000, \n",
    "         'APR': 4500,\n",
    "       'MAY': 4000, \n",
    "         'JUN': 3500,\n",
    "         '000': 0}\n"
   ]
  },
  {
   "cell_type": "code",
   "execution_count": 3,
   "metadata": {},
   "outputs": [],
   "source": [
    "# Create the 'prob' variable to contain the problem data\n",
    "prob = LpProblem(\"Upton Corporation Production Planning\", LpMinimize)\n",
    "\n",
    "# A dictionary of the output variables\n",
    "o = LpVariable.dicts(\"output\",months,0)\n",
    "\n",
    "# A dictionary of the storage variables\n",
    "s = LpVariable.dicts(\"storage\",months,1500,6000)\n",
    "\n",
    "# A dictionary of the overtime output variables\n",
    "ot = LpVariable.dicts(\"overtimeOutput\",months,0)\n",
    "\n",
    "# A dictionary of the external supplier variables\n",
    "sp = LpVariable.dicts(\"supplierPurchases\",months,0)\n",
    "\n",
    "# Create objective function\n",
    "prob += lpSum([o[i]*cost[i] for i in months]) + lpSum(\n",
    "    [0.015*cost[months[i+1]]*0.5*(s[months[i+1]]+s[months[i]]) for i in range(6)]) + lpSum(\n",
    "    [ot[i]*cost[i]*1.1 for i in months]) + lpSum(\n",
    "    [sp[i]*cost[i]*1.2 for i in months]), \"Total Cost\"\n",
    "\n",
    "#Enforce values of init period\n",
    "prob += s[\"000\"] == 2750\n",
    "prob += sp[\"000\"] == 0\n",
    "\n",
    "# Create constraints\n",
    "for month in months:\n",
    "    prob += o[month] >= minOut[month], \"minOut{}\".format(month)\n",
    "    prob += o[month] <= maxOut[month], \"maxOut{}\".format(month)\n",
    "    prob += ot[month] <= 0.2*maxOut[month], \"maxOvertimeOut{}\".format(month)\n",
    "\n",
    "for i in range(6):\n",
    "    prob += s[months[i]]+o[months[i+1]]+ot[months[i+1]]+sp[months[i+1]]-demand[months[i+1]]==s[months[i+1]]"
   ]
  },
  {
   "cell_type": "code",
   "execution_count": 4,
   "metadata": {},
   "outputs": [
    {
     "name": "stdout",
     "output_type": "stream",
     "text": [
      "Status = Optimal\n"
     ]
    }
   ],
   "source": [
    "# Optimize\n",
    "\n",
    "prob.solve()\n",
    "\n",
    "# Print the status of the solved LP\n",
    "print(\"Status = %s\" % LpStatus[prob.status])"
   ]
  },
  {
   "cell_type": "code",
   "execution_count": 5,
   "metadata": {
    "scrolled": true
   },
   "outputs": [
    {
     "name": "stdout",
     "output_type": "stream",
     "text": [
      "000 | s= 2750.000000 | o= 0.000000 | ot= 0.000000 | sp= 0.000000\n",
      "JAN | s= 6000.000000 | o= 4000.000000 | ot= 250.000000 | sp= 0.000000\n",
      "FEB | s= 5700.000000 | o= 3500.000000 | ot= 700.000000 | sp= 0.000000\n",
      "MAR | s= 3700.000000 | o= 4000.000000 | ot= 0.000000 | sp= 0.000000\n",
      "APR | s= 1500.000000 | o= 3300.000000 | ot= 0.000000 | sp= 0.000000\n",
      "MAY | s= 2000.000000 | o= 4000.000000 | ot= 0.000000 | sp= 0.000000\n",
      "JUN | s= 1500.000000 | o= 3500.000000 | ot= 0.000000 | sp= 0.000000\n",
      "Objective = 6205660.000000\n"
     ]
    }
   ],
   "source": [
    "# Print the value of the variables at the optimum\n",
    "for i in months:\n",
    "    print(\"%s | s= %f | o= %f | ot= %f | sp= %f\" % (i, s[i].varValue, o[i].varValue, ot[i].varValue, sp[i].varValue))\n",
    "\n",
    "# Print the value of the objective\n",
    "print(\"Objective = %f\" % value(prob.objective))"
   ]
  }
 ],
 "metadata": {
  "kernelspec": {
   "display_name": "Python 3",
   "language": "python",
   "name": "python3"
  },
  "language_info": {
   "codemirror_mode": {
    "name": "ipython",
    "version": 3
   },
   "file_extension": ".py",
   "mimetype": "text/x-python",
   "name": "python",
   "nbconvert_exporter": "python",
   "pygments_lexer": "ipython3",
   "version": "3.7.1"
  },
  "toc": {
   "base_numbering": 1,
   "nav_menu": {},
   "number_sections": true,
   "sideBar": true,
   "skip_h1_title": false,
   "title_cell": "Table of Contents",
   "title_sidebar": "Contents",
   "toc_cell": false,
   "toc_position": {},
   "toc_section_display": true,
   "toc_window_display": false
  }
 },
 "nbformat": 4,
 "nbformat_minor": 2
}
