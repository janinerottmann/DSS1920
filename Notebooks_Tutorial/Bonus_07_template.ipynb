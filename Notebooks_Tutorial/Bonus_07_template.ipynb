{
 "cells": [
  {
   "cell_type": "markdown",
   "metadata": {
    "cell_style": "center",
    "slideshow": {
     "slide_type": "slide"
    }
   },
   "source": [
    "<div class='bar_title'></div>\n",
    "\n",
    "*Decision Support Systems*\n",
    "\n",
    "# Headline\n",
    "\n",
    "student1, student2, student3, student,4 <br>\n",
    "\n",
    "Winter Semester 19/20"
   ]
  },
  {
   "cell_type": "markdown",
   "metadata": {
    "toc": true
   },
   "source": [
    "<h1>Table of Contents<span class=\"tocSkip\"></span></h1>\n",
    "<div class=\"toc\"><ul class=\"toc-item\"><li><span><a href=\"#Data\" data-toc-modified-id=\"Data-1\"><span class=\"toc-item-num\">1&nbsp;&nbsp;</span>Data</a></span><ul class=\"toc-item\"><li><span><a href=\"#Distances\" data-toc-modified-id=\"Distances-1.1\"><span class=\"toc-item-num\">1.1&nbsp;&nbsp;</span>Distances</a></span></li></ul></li><li><span><a href=\"#Implementation\" data-toc-modified-id=\"Implementation-2\"><span class=\"toc-item-num\">2&nbsp;&nbsp;</span>Implementation</a></span></li></ul></div>"
   ]
  },
  {
   "cell_type": "code",
   "execution_count": 1,
   "metadata": {},
   "outputs": [
    {
     "name": "stdout",
     "output_type": "stream",
     "text": [
      "Requirement already satisfied: pulp in c:\\users\\toni greif\\anaconda3\\lib\\site-packages (1.6.10)\n",
      "Requirement already satisfied: pyparsing>=2.0.1 in c:\\users\\toni greif\\anaconda3\\lib\\site-packages (from pulp) (2.3.0)\n"
     ]
    }
   ],
   "source": [
    "!pip install pulp\n",
    "from pulp import *\n",
    "from geopy.distance import great_circle\n",
    "\n",
    "import pandas as pd\n",
    "import numpy as np"
   ]
  },
  {
   "cell_type": "markdown",
   "metadata": {},
   "source": [
    "## Data"
   ]
  },
  {
   "cell_type": "code",
   "execution_count": 2,
   "metadata": {},
   "outputs": [],
   "source": [
    "shipping = {\n",
    "    ('LosMiranas','Medellin'): [99999, 5, 0.2],\n",
    "    ('Curillo','Medellin'): [99999, 5, 0.2],\n",
    "    ('Segovia','Medellin'): [99999, 5, 0.2],\n",
    "    \n",
    "    ('Medellin','NewYork'): [500, 3, 1], \n",
    "    ('Medellin','Miami'): [1000, 3, 1],\n",
    "    \n",
    "    ('Medellin','Varadero'): [5000, 10, 1],\n",
    "    \n",
    "    ('Varadero','NewYork'): [3000, 5, 1], \n",
    "    ('Varadero','Miami'): [4000, 15, 1],\n",
    "    \n",
    "    ('Medellin','NuevoLaredo'): [5000, 5, 1],\n",
    "    \n",
    "    ('NuevoLaredo','NewYork'): [2000, 10, 1], \n",
    "    ('NuevoLaredo','Miami'): [4000, 10, 1],     \n",
    "}\n",
    "\n",
    "links = list(shipping.keys())"
   ]
  },
  {
   "cell_type": "markdown",
   "metadata": {},
   "source": [
    "### Distances"
   ]
  },
  {
   "cell_type": "code",
   "execution_count": 3,
   "metadata": {},
   "outputs": [],
   "source": [
    "locations = {\n",
    "    'LosMiranas': (-1.320259, -70.811026),\n",
    "    'Curillo': (1.032862, -75.919891),\n",
    "    'Segovia': (7.078689, -74.700168),\n",
    "    \n",
    "    'Medellin': (6.250175, -75.572972), \n",
    "    'Varadero': (23.177815, -81.200339),\n",
    "    'NuevoLaredo': (27.464579, -99.545107),\n",
    "    \n",
    "    'NewYork': (40.706773, -74.010585), \n",
    "    'Miami': (25.758597, -80.190835)    \n",
    "}"
   ]
  },
  {
   "cell_type": "code",
   "execution_count": 4,
   "metadata": {},
   "outputs": [],
   "source": [
    "dist = pd.DataFrame([[great_circle(locations[i],locations[j]).km for i in locations] for j in locations])\n",
    "\n",
    "dist.columns = locations\n",
    "dist.index = locations"
   ]
  },
  {
   "cell_type": "code",
   "execution_count": 5,
   "metadata": {},
   "outputs": [
    {
     "data": {
      "text/html": [
       "<div>\n",
       "<style scoped>\n",
       "    .dataframe tbody tr th:only-of-type {\n",
       "        vertical-align: middle;\n",
       "    }\n",
       "\n",
       "    .dataframe tbody tr th {\n",
       "        vertical-align: top;\n",
       "    }\n",
       "\n",
       "    .dataframe thead th {\n",
       "        text-align: right;\n",
       "    }\n",
       "</style>\n",
       "<table border=\"1\" class=\"dataframe\">\n",
       "  <thead>\n",
       "    <tr style=\"text-align: right;\">\n",
       "      <th></th>\n",
       "      <th>LosMiranas</th>\n",
       "      <th>Curillo</th>\n",
       "      <th>Segovia</th>\n",
       "      <th>Medellin</th>\n",
       "      <th>Varadero</th>\n",
       "      <th>NuevoLaredo</th>\n",
       "      <th>NewYork</th>\n",
       "      <th>Miami</th>\n",
       "    </tr>\n",
       "  </thead>\n",
       "  <tbody>\n",
       "    <tr>\n",
       "      <th>LosMiranas</th>\n",
       "      <td>0.000000</td>\n",
       "      <td>625.405343</td>\n",
       "      <td>1028.793964</td>\n",
       "      <td>994.015054</td>\n",
       "      <td>2947.051773</td>\n",
       "      <td>4436.319685</td>\n",
       "      <td>4684.430496</td>\n",
       "      <td>3175.394061</td>\n",
       "    </tr>\n",
       "    <tr>\n",
       "      <th>Curillo</th>\n",
       "      <td>625.405343</td>\n",
       "      <td>0.000000</td>\n",
       "      <td>685.731268</td>\n",
       "      <td>581.414610</td>\n",
       "      <td>2527.520475</td>\n",
       "      <td>3870.025141</td>\n",
       "      <td>4415.741427</td>\n",
       "      <td>2787.224898</td>\n",
       "    </tr>\n",
       "    <tr>\n",
       "      <th>Segovia</th>\n",
       "      <td>1028.793964</td>\n",
       "      <td>685.731268</td>\n",
       "      <td>0.000000</td>\n",
       "      <td>133.339007</td>\n",
       "      <td>1920.286961</td>\n",
       "      <td>3463.026031</td>\n",
       "      <td>3739.904367</td>\n",
       "      <td>2157.199936</td>\n",
       "    </tr>\n",
       "    <tr>\n",
       "      <th>Medellin</th>\n",
       "      <td>994.015054</td>\n",
       "      <td>581.414610</td>\n",
       "      <td>133.339007</td>\n",
       "      <td>0.000000</td>\n",
       "      <td>1976.356181</td>\n",
       "      <td>3459.581054</td>\n",
       "      <td>3834.557783</td>\n",
       "      <td>2224.021630</td>\n",
       "    </tr>\n",
       "    <tr>\n",
       "      <th>Varadero</th>\n",
       "      <td>2947.051773</td>\n",
       "      <td>2527.520475</td>\n",
       "      <td>1920.286961</td>\n",
       "      <td>1976.356181</td>\n",
       "      <td>0.000000</td>\n",
       "      <td>1902.380226</td>\n",
       "      <td>2061.887379</td>\n",
       "      <td>304.611024</td>\n",
       "    </tr>\n",
       "    <tr>\n",
       "      <th>NuevoLaredo</th>\n",
       "      <td>4436.319685</td>\n",
       "      <td>3870.025141</td>\n",
       "      <td>3463.026031</td>\n",
       "      <td>3459.581054</td>\n",
       "      <td>1902.380226</td>\n",
       "      <td>0.000000</td>\n",
       "      <td>2758.622064</td>\n",
       "      <td>1931.475359</td>\n",
       "    </tr>\n",
       "    <tr>\n",
       "      <th>NewYork</th>\n",
       "      <td>4684.430496</td>\n",
       "      <td>4415.741427</td>\n",
       "      <td>3739.904367</td>\n",
       "      <td>3834.557783</td>\n",
       "      <td>2061.887379</td>\n",
       "      <td>2758.622064</td>\n",
       "      <td>0.000000</td>\n",
       "      <td>1757.500063</td>\n",
       "    </tr>\n",
       "    <tr>\n",
       "      <th>Miami</th>\n",
       "      <td>3175.394061</td>\n",
       "      <td>2787.224898</td>\n",
       "      <td>2157.199936</td>\n",
       "      <td>2224.021630</td>\n",
       "      <td>304.611024</td>\n",
       "      <td>1931.475359</td>\n",
       "      <td>1757.500063</td>\n",
       "      <td>0.000000</td>\n",
       "    </tr>\n",
       "  </tbody>\n",
       "</table>\n",
       "</div>"
      ],
      "text/plain": [
       "              LosMiranas      Curillo      Segovia     Medellin     Varadero  \\\n",
       "LosMiranas      0.000000   625.405343  1028.793964   994.015054  2947.051773   \n",
       "Curillo       625.405343     0.000000   685.731268   581.414610  2527.520475   \n",
       "Segovia      1028.793964   685.731268     0.000000   133.339007  1920.286961   \n",
       "Medellin      994.015054   581.414610   133.339007     0.000000  1976.356181   \n",
       "Varadero     2947.051773  2527.520475  1920.286961  1976.356181     0.000000   \n",
       "NuevoLaredo  4436.319685  3870.025141  3463.026031  3459.581054  1902.380226   \n",
       "NewYork      4684.430496  4415.741427  3739.904367  3834.557783  2061.887379   \n",
       "Miami        3175.394061  2787.224898  2157.199936  2224.021630   304.611024   \n",
       "\n",
       "             NuevoLaredo      NewYork        Miami  \n",
       "LosMiranas   4436.319685  4684.430496  3175.394061  \n",
       "Curillo      3870.025141  4415.741427  2787.224898  \n",
       "Segovia      3463.026031  3739.904367  2157.199936  \n",
       "Medellin     3459.581054  3834.557783  2224.021630  \n",
       "Varadero     1902.380226  2061.887379   304.611024  \n",
       "NuevoLaredo     0.000000  2758.622064  1931.475359  \n",
       "NewYork      2758.622064     0.000000  1757.500063  \n",
       "Miami        1931.475359  1757.500063     0.000000  "
      ]
     },
     "execution_count": 5,
     "metadata": {},
     "output_type": "execute_result"
    }
   ],
   "source": [
    "dist"
   ]
  },
  {
   "cell_type": "code",
   "execution_count": 6,
   "metadata": {},
   "outputs": [
    {
     "data": {
      "text/plain": [
       "625.4053428319017"
      ]
     },
     "execution_count": 6,
     "metadata": {},
     "output_type": "execute_result"
    }
   ],
   "source": [
    "dist['LosMiranas']['Curillo']"
   ]
  },
  {
   "cell_type": "markdown",
   "metadata": {},
   "source": [
    "## Implementation "
   ]
  }
 ],
 "metadata": {
  "celltoolbar": "Slideshow",
  "kernelspec": {
   "display_name": "Python 3",
   "language": "python",
   "name": "python3"
  },
  "language_info": {
   "codemirror_mode": {
    "name": "ipython",
    "version": 3
   },
   "file_extension": ".py",
   "mimetype": "text/x-python",
   "name": "python",
   "nbconvert_exporter": "python",
   "pygments_lexer": "ipython3",
   "version": "3.7.1"
  },
  "rise": {
   "enable_chalkboard": false,
   "overlay": "<div class='background'></div><div class='header'>WS 19/20</br>DSS</div><div class='logo'><img src='images/unilogo.png'></div><div class='bar'></div>",
   "scroll": true,
   "slideNumber": "h.v"
  },
  "toc": {
   "base_numbering": 1,
   "nav_menu": {},
   "number_sections": true,
   "sideBar": true,
   "skip_h1_title": true,
   "title_cell": "Table of Contents",
   "title_sidebar": "Contents",
   "toc_cell": true,
   "toc_position": {},
   "toc_section_display": true,
   "toc_window_display": false
  }
 },
 "nbformat": 4,
 "nbformat_minor": 2
}
