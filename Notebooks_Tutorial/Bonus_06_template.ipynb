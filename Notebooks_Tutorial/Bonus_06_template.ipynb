{
 "cells": [
  {
   "cell_type": "markdown",
   "metadata": {
    "cell_style": "center",
    "slideshow": {
     "slide_type": "slide"
    }
   },
   "source": [
    "<div class='bar_title'></div>\n",
    "\n",
    "*Decision Support Systems*\n",
    "\n",
    "# Headline\n",
    "\n",
    "student1, student2, student3, student,4 <br>\n",
    "\n",
    "Winter Semester 19/20"
   ]
  },
  {
   "cell_type": "markdown",
   "metadata": {
    "toc": true
   },
   "source": [
    "<h1>Table of Contents<span class=\"tocSkip\"></span></h1>\n",
    "<div class=\"toc\"><ul class=\"toc-item\"><li><span><a href=\"#Data-Preparation\" data-toc-modified-id=\"Data-Preparation-1\"><span class=\"toc-item-num\">1&nbsp;&nbsp;</span>Data Preparation</a></span></li><li><span><a href=\"#Standard-LP\" data-toc-modified-id=\"Standard-LP-2\"><span class=\"toc-item-num\">2&nbsp;&nbsp;</span>Standard LP</a></span></li><li><span><a href=\"#Robust-Optimization\" data-toc-modified-id=\"Robust-Optimization-3\"><span class=\"toc-item-num\">3&nbsp;&nbsp;</span>Robust Optimization</a></span></li><li><span><a href=\"#Chance-Constraints\" data-toc-modified-id=\"Chance-Constraints-4\"><span class=\"toc-item-num\">4&nbsp;&nbsp;</span>Chance Constraints</a></span></li><li><span><a href=\"#Stochastic-Programming-1\" data-toc-modified-id=\"Stochastic-Programming-1-5\"><span class=\"toc-item-num\">5&nbsp;&nbsp;</span>Stochastic Programming 1</a></span></li><li><span><a href=\"#Stochastic-Programming-2\" data-toc-modified-id=\"Stochastic-Programming-2-6\"><span class=\"toc-item-num\">6&nbsp;&nbsp;</span>Stochastic Programming 2</a></span></li></ul></div>"
   ]
  },
  {
   "cell_type": "code",
   "execution_count": 1,
   "metadata": {},
   "outputs": [
    {
     "name": "stdout",
     "output_type": "stream",
     "text": [
      "Requirement already satisfied: pulp in c:\\users\\toni greif\\anaconda3\\lib\\site-packages (1.6.10)\n",
      "Requirement already satisfied: pyparsing>=2.0.1 in c:\\users\\toni greif\\anaconda3\\lib\\site-packages (from pulp) (2.3.0)\n"
     ]
    }
   ],
   "source": [
    "!pip install pulp\n",
    "from pulp import *\n",
    "import pandas as pd\n",
    "import numpy as np\n",
    "import matplotlib.pyplot as plt\n",
    "from scipy.stats import norm"
   ]
  },
  {
   "cell_type": "markdown",
   "metadata": {},
   "source": [
    "## Data Preparation"
   ]
  },
  {
   "cell_type": "code",
   "execution_count": 2,
   "metadata": {},
   "outputs": [],
   "source": [
    "df_solar = pd.read_csv('https://github.com/wi3jmu/DSS1920/raw/master/Data/Solar_Data.csv', index_col=0)\n",
    "df_consum = pd.read_csv('https://github.com/wi3jmu/DSS1920/raw/master/Data/Consum_Data.csv', index_col=0)"
   ]
  },
  {
   "cell_type": "code",
   "execution_count": 3,
   "metadata": {},
   "outputs": [],
   "source": [
    "# we want to have day 0-365 instead of dates\n",
    "days = df_consum.reset_index().index.tolist()\n",
    "\n",
    "df_consum=df_consum.reset_index(drop=True)\n",
    "df_solar=df_solar.reset_index(drop=True)"
   ]
  },
  {
   "cell_type": "code",
   "execution_count": 4,
   "metadata": {},
   "outputs": [
    {
     "data": {
      "text/html": [
       "<div>\n",
       "<style scoped>\n",
       "    .dataframe tbody tr th:only-of-type {\n",
       "        vertical-align: middle;\n",
       "    }\n",
       "\n",
       "    .dataframe tbody tr th {\n",
       "        vertical-align: top;\n",
       "    }\n",
       "\n",
       "    .dataframe thead th {\n",
       "        text-align: right;\n",
       "    }\n",
       "</style>\n",
       "<table border=\"1\" class=\"dataframe\">\n",
       "  <thead>\n",
       "    <tr style=\"text-align: right;\">\n",
       "      <th></th>\n",
       "      <th>consum_0</th>\n",
       "      <th>consum_1</th>\n",
       "      <th>consum_2</th>\n",
       "      <th>consum_3</th>\n",
       "      <th>consum_4</th>\n",
       "      <th>consum_5</th>\n",
       "      <th>consum_6</th>\n",
       "      <th>consum_7</th>\n",
       "      <th>consum_8</th>\n",
       "      <th>consum_9</th>\n",
       "      <th>...</th>\n",
       "      <th>consum_490</th>\n",
       "      <th>consum_491</th>\n",
       "      <th>consum_492</th>\n",
       "      <th>consum_493</th>\n",
       "      <th>consum_494</th>\n",
       "      <th>consum_495</th>\n",
       "      <th>consum_496</th>\n",
       "      <th>consum_497</th>\n",
       "      <th>consum_498</th>\n",
       "      <th>consum_499</th>\n",
       "    </tr>\n",
       "  </thead>\n",
       "  <tbody>\n",
       "    <tr>\n",
       "      <th>0</th>\n",
       "      <td>79.026813</td>\n",
       "      <td>79.166693</td>\n",
       "      <td>79.603195</td>\n",
       "      <td>79.321704</td>\n",
       "      <td>78.426286</td>\n",
       "      <td>79.815542</td>\n",
       "      <td>78.060443</td>\n",
       "      <td>77.979138</td>\n",
       "      <td>79.978409</td>\n",
       "      <td>80.389137</td>\n",
       "      <td>...</td>\n",
       "      <td>76.788895</td>\n",
       "      <td>80.680322</td>\n",
       "      <td>78.984695</td>\n",
       "      <td>80.012801</td>\n",
       "      <td>79.185524</td>\n",
       "      <td>79.695756</td>\n",
       "      <td>78.573123</td>\n",
       "      <td>79.163573</td>\n",
       "      <td>78.000456</td>\n",
       "      <td>80.359045</td>\n",
       "    </tr>\n",
       "    <tr>\n",
       "      <th>1</th>\n",
       "      <td>78.145723</td>\n",
       "      <td>77.121751</td>\n",
       "      <td>77.307550</td>\n",
       "      <td>76.807391</td>\n",
       "      <td>79.711418</td>\n",
       "      <td>76.460352</td>\n",
       "      <td>75.988529</td>\n",
       "      <td>77.208810</td>\n",
       "      <td>78.901799</td>\n",
       "      <td>78.137209</td>\n",
       "      <td>...</td>\n",
       "      <td>80.060448</td>\n",
       "      <td>77.694551</td>\n",
       "      <td>76.057983</td>\n",
       "      <td>79.814416</td>\n",
       "      <td>79.439387</td>\n",
       "      <td>77.981815</td>\n",
       "      <td>78.109007</td>\n",
       "      <td>78.377900</td>\n",
       "      <td>78.283468</td>\n",
       "      <td>78.697465</td>\n",
       "    </tr>\n",
       "    <tr>\n",
       "      <th>2</th>\n",
       "      <td>67.557088</td>\n",
       "      <td>67.551236</td>\n",
       "      <td>66.104895</td>\n",
       "      <td>67.823331</td>\n",
       "      <td>67.983887</td>\n",
       "      <td>67.317197</td>\n",
       "      <td>68.318782</td>\n",
       "      <td>68.897925</td>\n",
       "      <td>68.324301</td>\n",
       "      <td>68.578712</td>\n",
       "      <td>...</td>\n",
       "      <td>66.727674</td>\n",
       "      <td>67.646057</td>\n",
       "      <td>68.218354</td>\n",
       "      <td>66.893765</td>\n",
       "      <td>67.366920</td>\n",
       "      <td>66.888175</td>\n",
       "      <td>66.818032</td>\n",
       "      <td>66.626834</td>\n",
       "      <td>68.943628</td>\n",
       "      <td>66.809443</td>\n",
       "    </tr>\n",
       "    <tr>\n",
       "      <th>3</th>\n",
       "      <td>48.924967</td>\n",
       "      <td>51.043785</td>\n",
       "      <td>50.011764</td>\n",
       "      <td>48.057107</td>\n",
       "      <td>48.912827</td>\n",
       "      <td>49.631908</td>\n",
       "      <td>49.234540</td>\n",
       "      <td>50.298924</td>\n",
       "      <td>49.099525</td>\n",
       "      <td>49.465574</td>\n",
       "      <td>...</td>\n",
       "      <td>47.933095</td>\n",
       "      <td>49.864442</td>\n",
       "      <td>50.377888</td>\n",
       "      <td>48.651444</td>\n",
       "      <td>50.087791</td>\n",
       "      <td>51.411981</td>\n",
       "      <td>48.692300</td>\n",
       "      <td>49.715442</td>\n",
       "      <td>48.837446</td>\n",
       "      <td>47.407127</td>\n",
       "    </tr>\n",
       "    <tr>\n",
       "      <th>4</th>\n",
       "      <td>64.006552</td>\n",
       "      <td>64.603618</td>\n",
       "      <td>66.193391</td>\n",
       "      <td>64.910703</td>\n",
       "      <td>64.366256</td>\n",
       "      <td>64.775522</td>\n",
       "      <td>65.708589</td>\n",
       "      <td>63.506945</td>\n",
       "      <td>64.870407</td>\n",
       "      <td>65.495740</td>\n",
       "      <td>...</td>\n",
       "      <td>65.216538</td>\n",
       "      <td>62.774642</td>\n",
       "      <td>63.506108</td>\n",
       "      <td>63.539502</td>\n",
       "      <td>64.806208</td>\n",
       "      <td>63.774012</td>\n",
       "      <td>64.974321</td>\n",
       "      <td>63.424658</td>\n",
       "      <td>64.080026</td>\n",
       "      <td>63.653913</td>\n",
       "    </tr>\n",
       "  </tbody>\n",
       "</table>\n",
       "<p>5 rows × 500 columns</p>\n",
       "</div>"
      ],
      "text/plain": [
       "    consum_0   consum_1   consum_2   consum_3   consum_4   consum_5  \\\n",
       "0  79.026813  79.166693  79.603195  79.321704  78.426286  79.815542   \n",
       "1  78.145723  77.121751  77.307550  76.807391  79.711418  76.460352   \n",
       "2  67.557088  67.551236  66.104895  67.823331  67.983887  67.317197   \n",
       "3  48.924967  51.043785  50.011764  48.057107  48.912827  49.631908   \n",
       "4  64.006552  64.603618  66.193391  64.910703  64.366256  64.775522   \n",
       "\n",
       "    consum_6   consum_7   consum_8   consum_9     ...      consum_490  \\\n",
       "0  78.060443  77.979138  79.978409  80.389137     ...       76.788895   \n",
       "1  75.988529  77.208810  78.901799  78.137209     ...       80.060448   \n",
       "2  68.318782  68.897925  68.324301  68.578712     ...       66.727674   \n",
       "3  49.234540  50.298924  49.099525  49.465574     ...       47.933095   \n",
       "4  65.708589  63.506945  64.870407  65.495740     ...       65.216538   \n",
       "\n",
       "   consum_491  consum_492  consum_493  consum_494  consum_495  consum_496  \\\n",
       "0   80.680322   78.984695   80.012801   79.185524   79.695756   78.573123   \n",
       "1   77.694551   76.057983   79.814416   79.439387   77.981815   78.109007   \n",
       "2   67.646057   68.218354   66.893765   67.366920   66.888175   66.818032   \n",
       "3   49.864442   50.377888   48.651444   50.087791   51.411981   48.692300   \n",
       "4   62.774642   63.506108   63.539502   64.806208   63.774012   64.974321   \n",
       "\n",
       "   consum_497  consum_498  consum_499  \n",
       "0   79.163573   78.000456   80.359045  \n",
       "1   78.377900   78.283468   78.697465  \n",
       "2   66.626834   68.943628   66.809443  \n",
       "3   49.715442   48.837446   47.407127  \n",
       "4   63.424658   64.080026   63.653913  \n",
       "\n",
       "[5 rows x 500 columns]"
      ]
     },
     "execution_count": 4,
     "metadata": {},
     "output_type": "execute_result"
    }
   ],
   "source": [
    "df_consum.head()"
   ]
  },
  {
   "cell_type": "code",
   "execution_count": 5,
   "metadata": {},
   "outputs": [
    {
     "data": {
      "text/html": [
       "<div>\n",
       "<style scoped>\n",
       "    .dataframe tbody tr th:only-of-type {\n",
       "        vertical-align: middle;\n",
       "    }\n",
       "\n",
       "    .dataframe tbody tr th {\n",
       "        vertical-align: top;\n",
       "    }\n",
       "\n",
       "    .dataframe thead th {\n",
       "        text-align: right;\n",
       "    }\n",
       "</style>\n",
       "<table border=\"1\" class=\"dataframe\">\n",
       "  <thead>\n",
       "    <tr style=\"text-align: right;\">\n",
       "      <th></th>\n",
       "      <th>solar_0</th>\n",
       "      <th>solar_1</th>\n",
       "      <th>solar_2</th>\n",
       "      <th>solar_3</th>\n",
       "      <th>solar_4</th>\n",
       "      <th>solar_5</th>\n",
       "      <th>solar_6</th>\n",
       "      <th>solar_7</th>\n",
       "      <th>solar_8</th>\n",
       "      <th>solar_9</th>\n",
       "    </tr>\n",
       "  </thead>\n",
       "  <tbody>\n",
       "    <tr>\n",
       "      <th>0</th>\n",
       "      <td>32.882083</td>\n",
       "      <td>33.528512</td>\n",
       "      <td>33.277529</td>\n",
       "      <td>33.873368</td>\n",
       "      <td>32.593289</td>\n",
       "      <td>33.582332</td>\n",
       "      <td>34.723709</td>\n",
       "      <td>33.890378</td>\n",
       "      <td>33.931324</td>\n",
       "      <td>34.700612</td>\n",
       "    </tr>\n",
       "    <tr>\n",
       "      <th>1</th>\n",
       "      <td>12.709871</td>\n",
       "      <td>12.278981</td>\n",
       "      <td>11.906540</td>\n",
       "      <td>13.306186</td>\n",
       "      <td>11.247804</td>\n",
       "      <td>11.964842</td>\n",
       "      <td>13.746997</td>\n",
       "      <td>13.189224</td>\n",
       "      <td>14.020067</td>\n",
       "      <td>12.965316</td>\n",
       "    </tr>\n",
       "    <tr>\n",
       "      <th>2</th>\n",
       "      <td>73.700604</td>\n",
       "      <td>73.458066</td>\n",
       "      <td>73.794748</td>\n",
       "      <td>73.397938</td>\n",
       "      <td>73.936536</td>\n",
       "      <td>75.131642</td>\n",
       "      <td>71.898934</td>\n",
       "      <td>74.021681</td>\n",
       "      <td>74.778660</td>\n",
       "      <td>74.111016</td>\n",
       "    </tr>\n",
       "    <tr>\n",
       "      <th>3</th>\n",
       "      <td>65.019633</td>\n",
       "      <td>62.821818</td>\n",
       "      <td>63.353230</td>\n",
       "      <td>63.795378</td>\n",
       "      <td>64.872601</td>\n",
       "      <td>63.624012</td>\n",
       "      <td>62.227826</td>\n",
       "      <td>64.055256</td>\n",
       "      <td>63.332238</td>\n",
       "      <td>63.844992</td>\n",
       "    </tr>\n",
       "    <tr>\n",
       "      <th>4</th>\n",
       "      <td>68.856726</td>\n",
       "      <td>67.962777</td>\n",
       "      <td>66.685048</td>\n",
       "      <td>68.398001</td>\n",
       "      <td>67.465437</td>\n",
       "      <td>69.204134</td>\n",
       "      <td>67.827804</td>\n",
       "      <td>68.758371</td>\n",
       "      <td>68.372007</td>\n",
       "      <td>67.796201</td>\n",
       "    </tr>\n",
       "  </tbody>\n",
       "</table>\n",
       "</div>"
      ],
      "text/plain": [
       "     solar_0    solar_1    solar_2    solar_3    solar_4    solar_5  \\\n",
       "0  32.882083  33.528512  33.277529  33.873368  32.593289  33.582332   \n",
       "1  12.709871  12.278981  11.906540  13.306186  11.247804  11.964842   \n",
       "2  73.700604  73.458066  73.794748  73.397938  73.936536  75.131642   \n",
       "3  65.019633  62.821818  63.353230  63.795378  64.872601  63.624012   \n",
       "4  68.856726  67.962777  66.685048  68.398001  67.465437  69.204134   \n",
       "\n",
       "     solar_6    solar_7    solar_8    solar_9  \n",
       "0  34.723709  33.890378  33.931324  34.700612  \n",
       "1  13.746997  13.189224  14.020067  12.965316  \n",
       "2  71.898934  74.021681  74.778660  74.111016  \n",
       "3  62.227826  64.055256  63.332238  63.844992  \n",
       "4  67.827804  68.758371  68.372007  67.796201  "
      ]
     },
     "execution_count": 5,
     "metadata": {},
     "output_type": "execute_result"
    }
   ],
   "source": [
    "df_solar.head()"
   ]
  },
  {
   "cell_type": "code",
   "execution_count": 6,
   "metadata": {},
   "outputs": [],
   "source": [
    "# Dictionaries for available solar energy and consumption\n",
    "solar = df_solar.transpose().to_dict()\n",
    "consum = df_consum.transpose().to_dict()\n",
    "\n",
    "# Mean (and standard deviation) for available solar energy and consumption\n",
    "solar_mean = df_solar.transpose().mean()\n",
    "\n",
    "consum_std = df_consum.transpose().std()\n",
    "consum_mean = df_consum.transpose().mean()"
   ]
  },
  {
   "cell_type": "markdown",
   "metadata": {},
   "source": [
    "## Standard LP"
   ]
  },
  {
   "cell_type": "code",
   "execution_count": 7,
   "metadata": {},
   "outputs": [],
   "source": [
    "# Parameters\n",
    "batterie_cost = 84/15\n",
    "recycling_cost = 150\n",
    "buying_price = 0.3"
   ]
  },
  {
   "cell_type": "code",
   "execution_count": 8,
   "metadata": {},
   "outputs": [],
   "source": [
    "# Variables\n",
    "solar_elec = LpVariable.dicts(\"solar_elec\", days, lowBound=0, cat='Continuous')\n",
    "buying_elec = LpVariable.dicts(\"buying_elec\", days, lowBound=0, cat='Continuous')\n",
    "battery_elec = LpVariable.dicts(\"battery_elec\", days, lowBound=0, cat='Continuous')\n",
    "\n",
    "battery_status = LpVariable.dicts(\"battery_status\", days, lowBound=0, cat='Continuous')\n",
    "battery_charge = LpVariable.dicts(\"battery_charge\", days, lowBound=0, cat='Continuous')\n",
    "\n",
    "batterie_kap = LpVariable(\"batterie_kap\", lowBound=0, cat='Continuous')"
   ]
  },
  {
   "cell_type": "code",
   "execution_count": 9,
   "metadata": {},
   "outputs": [
    {
     "name": "stdout",
     "output_type": "stream",
     "text": [
      "Optimal\n",
      "4573.776773859999\n",
      "27.080882\n"
     ]
    },
    {
     "data": {
      "image/png": "[encoded data removed]",
      "text/plain": [
       "<Figure size 432x288 with 1 Axes>"
      ]
     },
     "metadata": {
      "needs_background": "light"
     },
     "output_type": "display_data"
    },
    {
     "data": {
      "text/html": [
       "<div>\n",
       "<style scoped>\n",
       "    .dataframe tbody tr th:only-of-type {\n",
       "        vertical-align: middle;\n",
       "    }\n",
       "\n",
       "    .dataframe tbody tr th {\n",
       "        vertical-align: top;\n",
       "    }\n",
       "\n",
       "    .dataframe thead th {\n",
       "        text-align: right;\n",
       "    }\n",
       "</style>\n",
       "<table border=\"1\" class=\"dataframe\">\n",
       "  <thead>\n",
       "    <tr style=\"text-align: right;\">\n",
       "      <th></th>\n",
       "      <th>Consumption</th>\n",
       "      <th>Solar</th>\n",
       "      <th>Solar Electricity</th>\n",
       "      <th>Buying Electricity</th>\n",
       "      <th>Battery Electricity</th>\n",
       "      <th>Battery Status</th>\n",
       "      <th>Battery Charge</th>\n",
       "    </tr>\n",
       "  </thead>\n",
       "  <tbody>\n",
       "    <tr>\n",
       "      <th>0</th>\n",
       "      <td>79.043769</td>\n",
       "      <td>33.698314</td>\n",
       "      <td>33.698314</td>\n",
       "      <td>45.345455</td>\n",
       "      <td>0.0</td>\n",
       "      <td>0.000000</td>\n",
       "      <td>0.000000</td>\n",
       "    </tr>\n",
       "    <tr>\n",
       "      <th>1</th>\n",
       "      <td>78.107283</td>\n",
       "      <td>12.733583</td>\n",
       "      <td>12.733583</td>\n",
       "      <td>65.373700</td>\n",
       "      <td>0.0</td>\n",
       "      <td>0.000000</td>\n",
       "      <td>0.000000</td>\n",
       "    </tr>\n",
       "    <tr>\n",
       "      <th>2</th>\n",
       "      <td>67.877886</td>\n",
       "      <td>73.822982</td>\n",
       "      <td>67.877886</td>\n",
       "      <td>0.000000</td>\n",
       "      <td>0.0</td>\n",
       "      <td>5.945096</td>\n",
       "      <td>5.945096</td>\n",
       "    </tr>\n",
       "    <tr>\n",
       "      <th>3</th>\n",
       "      <td>49.243723</td>\n",
       "      <td>63.694698</td>\n",
       "      <td>49.243723</td>\n",
       "      <td>0.000000</td>\n",
       "      <td>0.0</td>\n",
       "      <td>20.396072</td>\n",
       "      <td>14.450976</td>\n",
       "    </tr>\n",
       "    <tr>\n",
       "      <th>4</th>\n",
       "      <td>63.972130</td>\n",
       "      <td>68.132651</td>\n",
       "      <td>63.972130</td>\n",
       "      <td>0.000000</td>\n",
       "      <td>0.0</td>\n",
       "      <td>24.556593</td>\n",
       "      <td>4.160521</td>\n",
       "    </tr>\n",
       "  </tbody>\n",
       "</table>\n",
       "</div>"
      ],
      "text/plain": [
       "   Consumption      Solar  Solar Electricity  Buying Electricity  \\\n",
       "0    79.043769  33.698314          33.698314           45.345455   \n",
       "1    78.107283  12.733583          12.733583           65.373700   \n",
       "2    67.877886  73.822982          67.877886            0.000000   \n",
       "3    49.243723  63.694698          49.243723            0.000000   \n",
       "4    63.972130  68.132651          63.972130            0.000000   \n",
       "\n",
       "   Battery Electricity  Battery Status  Battery Charge  \n",
       "0                  0.0        0.000000        0.000000  \n",
       "1                  0.0        0.000000        0.000000  \n",
       "2                  0.0        5.945096        5.945096  \n",
       "3                  0.0       20.396072       14.450976  \n",
       "4                  0.0       24.556593        4.160521  "
      ]
     },
     "execution_count": 9,
     "metadata": {},
     "output_type": "execute_result"
    }
   ],
   "source": [
    "# Create model\n",
    "m = LpProblem(\"Solar System\", sense=pulp.LpMinimize)\n",
    "\n",
    "# Objective\n",
    "m += lpSum([150 + batterie_cost * batterie_kap] + [buying_price * buying_elec[t] for t in days])\n",
    "\n",
    "# Constraints\n",
    "for t in days:\n",
    "    m += solar_elec[t] + buying_elec[t] + battery_elec[t] >= consum_mean[t]\n",
    "    \n",
    "    m += solar_elec[t] + battery_charge[t] <= solar_mean[t]\n",
    "    \n",
    "    if (t==0):   \n",
    "        m += 0 - battery_elec[t] + battery_charge[t] == battery_status[t]\n",
    "    else:\n",
    "        m += battery_status[t-1] - battery_elec[t] + battery_charge[t] == battery_status[t]\n",
    "        \n",
    "    m += battery_status[t] <= batterie_kap\n",
    "    \n",
    "# Solve problem\n",
    "m.solve()\n",
    "print (LpStatus[m.status])\n",
    "obj = value(m.objective)\n",
    "print (obj)\n",
    "\n",
    "kap = batterie_kap.varValue\n",
    "print(batterie_kap.varValue)\n",
    "\n",
    "out = pd.DataFrame([[consum_mean[t], solar_mean[t],  solar_elec[t].varValue, buying_elec[t].varValue, battery_elec[t].varValue,\n",
    "                     battery_status[t].varValue, battery_charge[t].varValue] for t in days],\n",
    "                   columns = ['Consumption', 'Solar', 'Solar Electricity', 'Buying Electricity', 'Battery Electricity',\n",
    "                              'Battery Status', 'Battery Charge'])\n",
    "out.plot()\n",
    "plt.show()\n",
    "out.head()"
   ]
  },
  {
   "cell_type": "markdown",
   "metadata": {
    "slideshow": {
     "slide_type": "-"
    }
   },
   "source": [
    "## Robust Optimization"
   ]
  },
  {
   "cell_type": "code",
   "execution_count": null,
   "metadata": {},
   "outputs": [],
   "source": []
  },
  {
   "cell_type": "markdown",
   "metadata": {},
   "source": [
    "## Chance Constraints"
   ]
  },
  {
   "cell_type": "code",
   "execution_count": null,
   "metadata": {},
   "outputs": [],
   "source": []
  },
  {
   "cell_type": "markdown",
   "metadata": {},
   "source": [
    "## Stochastic Programming 1"
   ]
  },
  {
   "cell_type": "code",
   "execution_count": 10,
   "metadata": {},
   "outputs": [],
   "source": [
    "# different scenarios for the buying price\n",
    "buying_price = [0.28, 0.3, 0.32, 0.35, 0.4, 0.5]\n",
    "scenarios = range(len(buying_price))\n",
    "days_scenarios = [(t,s) for s in scenarios for t in days]"
   ]
  },
  {
   "cell_type": "code",
   "execution_count": null,
   "metadata": {},
   "outputs": [],
   "source": []
  },
  {
   "cell_type": "markdown",
   "metadata": {},
   "source": [
    "## Stochastic Programming 2"
   ]
  },
  {
   "cell_type": "code",
   "execution_count": null,
   "metadata": {},
   "outputs": [],
   "source": []
  }
 ],
 "metadata": {
  "celltoolbar": "Slideshow",
  "kernelspec": {
   "display_name": "Python 3",
   "language": "python",
   "name": "python3"
  },
  "language_info": {
   "codemirror_mode": {
    "name": "ipython",
    "version": 3
   },
   "file_extension": ".py",
   "mimetype": "text/x-python",
   "name": "python",
   "nbconvert_exporter": "python",
   "pygments_lexer": "ipython3",
   "version": "3.7.1"
  },
  "rise": {
   "enable_chalkboard": false,
   "overlay": "<div class='background'></div><div class='header'>WS 19/20</br>DSS</div><div class='logo'><img src='images/unilogo.png'></div><div class='bar'></div>",
   "scroll": true,
   "slideNumber": "h.v"
  },
  "toc": {
   "base_numbering": 1,
   "nav_menu": {},
   "number_sections": true,
   "sideBar": true,
   "skip_h1_title": true,
   "title_cell": "Table of Contents",
   "title_sidebar": "Contents",
   "toc_cell": true,
   "toc_position": {},
   "toc_section_display": true,
   "toc_window_display": false
  }
 },
 "nbformat": 4,
 "nbformat_minor": 2
}
