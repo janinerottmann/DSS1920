{
 "cells": [
  {
   "cell_type": "code",
   "execution_count": 1,
   "metadata": {},
   "outputs": [
    {
     "name": "stdout",
     "output_type": "stream",
     "text": [
      "Requirement already satisfied: pulp in c:\\users\\toni greif\\anaconda3\\lib\\site-packages (1.6.10)\n",
      "Requirement already satisfied: pyparsing>=2.0.1 in c:\\users\\toni greif\\anaconda3\\lib\\site-packages (from pulp) (2.3.0)\n"
     ]
    }
   ],
   "source": [
    "!pip install pulp\n",
    "from pulp import *"
   ]
  },
  {
   "cell_type": "code",
   "execution_count": 15,
   "metadata": {},
   "outputs": [],
   "source": [
    "# A dictionary of the profits per cocktail\n",
    "profit = {'Daiquiri': 5.5, \n",
    "          'Kamikaze': 4.5,\n",
    "          'LongIsland': 7}\n",
    "\n",
    "# A dictionary of the the alcohols per cocktail\n",
    "portion = {'Daiquiri':\n",
    "            {'whiteRum': 45,\n",
    "            'cointreau': 30,\n",
    "            'gin': 0,\n",
    "            'vodka': 0\n",
    "            },\n",
    "            'Kamikaze':\n",
    "            {'whiteRum': 0,\n",
    "            'cointreau': 30,\n",
    "            'gin': 0,\n",
    "            'vodka': 30\n",
    "            },\n",
    "            'LongIsland':\n",
    "            {'whiteRum': 20,\n",
    "            'cointreau': 20,\n",
    "            'gin': 20,\n",
    "            'vodka': 20\n",
    "            }\n",
    "          }\n",
    "\n",
    "# A dictionary of the available per alcohols\n",
    "alcohols = {'whiteRum': 5000,\n",
    "            'cointreau': 6000,\n",
    "            'gin': 3000,\n",
    "            'vodka': 4000\n",
    "            }\n",
    "\n",
    "# Create the 'prob' variable to contain the problem data\n",
    "prob = LpProblem(\"Bartender Problem\", LpMaximize)\n",
    "\n",
    "# A dictionary called 'production_vars' is created to contain the referenced Variables\n",
    "x = LpVariable.dicts(\"Cocktails\", profit.keys(), 0)\n",
    "\n",
    "# Create objective function\n",
    "prob += lpSum([profit[c]*x[c] for c in profit.keys()])\n",
    "\n",
    "# Create constraints\n",
    "for a in alcohols.keys():\n",
    "    prob += lpSum([x[c]*portion[c][a] for c in profit.keys()]) <= alcohols[a], \"{}\".format(a)"
   ]
  },
  {
   "cell_type": "code",
   "execution_count": 17,
   "metadata": {},
   "outputs": [
    {
     "name": "stdout",
     "output_type": "stream",
     "text": [
      "Bartender Problem:\n",
      "MAXIMIZE\n",
      "5.5*Cocktails_Daiquiri + 4.5*Cocktails_Kamikaze + 7*Cocktails_LongIsland + 0.0\n",
      "SUBJECT TO\n",
      "whiteRum: 45 Cocktails_Daiquiri + 20 Cocktails_LongIsland <= 5000\n",
      "\n",
      "cointreau: 30 Cocktails_Daiquiri + 30 Cocktails_Kamikaze\n",
      " + 20 Cocktails_LongIsland <= 6000\n",
      "\n",
      "gin: 20 Cocktails_LongIsland <= 3000\n",
      "\n",
      "vodka: 30 Cocktails_Kamikaze + 20 Cocktails_LongIsland <= 4000\n",
      "\n",
      "VARIABLES\n",
      "Cocktails_Daiquiri Continuous\n",
      "Cocktails_Kamikaze Continuous\n",
      "Cocktails_LongIsland Continuous\n",
      "\n"
     ]
    }
   ],
   "source": [
    "print(prob)"
   ]
  },
  {
   "cell_type": "code",
   "execution_count": 16,
   "metadata": {},
   "outputs": [
    {
     "name": "stdout",
     "output_type": "stream",
     "text": [
      "Status = Optimal\n",
      "Cocktails_Daiquiri = 44.444444\n",
      "Cocktails_Kamikaze = 33.333333\n",
      "Cocktails_LongIsland = 150.000000\n",
      "Objective = 1444.444440\n"
     ]
    }
   ],
   "source": [
    "# Optimize\n",
    "prob.solve()\n",
    "\n",
    "# Print the status of the solved LP\n",
    "print(\"Status = %s\" % LpStatus[prob.status])\n",
    "\n",
    "# Print the value of the variables at the optimum\n",
    "for c in profit.keys():\n",
    "    print(\"%s = %f\" % (x[c].name, x[c].varValue))\n",
    "\n",
    "# Print the value of the objective\n",
    "print(\"Objective = %f\" % value(prob.objective))"
   ]
  },
  {
   "cell_type": "code",
   "execution_count": 27,
   "metadata": {},
   "outputs": [],
   "source": [
    "# A dictionary of the profits per cocktail\n",
    "profit = {'Daiquiri': 5.5, \n",
    "          'Kamikaze': 4.5,\n",
    "          'LongIsland': 7}\n",
    "\n",
    "# A dictionary of the the alcohols per cocktail\n",
    "portion = {'Daiquiri':\n",
    "            {'whiteRum': 45,\n",
    "            'cointreau': 30,\n",
    "            'gin': 0,\n",
    "            'vodka': 0\n",
    "            },\n",
    "            'Kamikaze':\n",
    "            {'whiteRum': 0,\n",
    "            'cointreau': 30,\n",
    "            'gin': 0,\n",
    "            'vodka': 30\n",
    "            },\n",
    "            'LongIsland':\n",
    "            {'whiteRum': 20,\n",
    "            'cointreau': 20,\n",
    "            'gin': 20,\n",
    "            'vodka': 20\n",
    "            }\n",
    "          }\n",
    "\n",
    "# A dictionary of the available per alcohols\n",
    "alcohols = {'whiteRum': 5000,\n",
    "            'cointreau': 6000,\n",
    "            'gin': 3000,\n",
    "            'vodka': 4000\n",
    "            }\n",
    "\n",
    "# Create the 'prob' variable to contain the problem data\n",
    "prob = LpProblem(\"Bartender Problem\", LpMaximize)\n",
    "\n",
    "# A dictionary called 'production_vars' is created to contain the referenced Variables\n",
    "x = LpVariable.dicts(\"Cocktails\", profit.keys(), 0, cat ='Integer')\n",
    "\n",
    "# Create objective function\n",
    "prob += lpSum([profit[c]*x[c] for c in profit.keys()])\n",
    "\n",
    "# Create constraints\n",
    "for a in alcohols.keys():\n",
    "    prob += lpSum([x[c]*portion[c][a] for c in profit.keys()]) <= alcohols[a], \"{}\".format(a)"
   ]
  },
  {
   "cell_type": "code",
   "execution_count": 29,
   "metadata": {},
   "outputs": [
    {
     "name": "stdout",
     "output_type": "stream",
     "text": [
      "Bartender Problem:\n",
      "MAXIMIZE\n",
      "5.5*Cocktails_Daiquiri + 4.5*Cocktails_Kamikaze + 7*Cocktails_LongIsland + 0.0\n",
      "SUBJECT TO\n",
      "whiteRum: 45 Cocktails_Daiquiri + 20 Cocktails_LongIsland <= 5000\n",
      "\n",
      "cointreau: 30 Cocktails_Daiquiri + 30 Cocktails_Kamikaze\n",
      " + 20 Cocktails_LongIsland <= 6000\n",
      "\n",
      "gin: 20 Cocktails_LongIsland <= 3000\n",
      "\n",
      "vodka: 30 Cocktails_Kamikaze + 20 Cocktails_LongIsland <= 4000\n",
      "\n",
      "VARIABLES\n",
      "0 <= Cocktails_Daiquiri Integer\n",
      "0 <= Cocktails_Kamikaze Integer\n",
      "0 <= Cocktails_LongIsland Integer\n",
      "\n"
     ]
    }
   ],
   "source": [
    "print(prob)"
   ]
  },
  {
   "cell_type": "code",
   "execution_count": 28,
   "metadata": {},
   "outputs": [
    {
     "name": "stdout",
     "output_type": "stream",
     "text": [
      "Status = Optimal\n",
      "Cocktails_Daiquiri = 44.000000\n",
      "Cocktails_Kamikaze = 33.000000\n",
      "Cocktails_LongIsland = 150.000000\n",
      "Objective = 1440.500000\n"
     ]
    }
   ],
   "source": [
    "# Optimize\n",
    "prob.solve()\n",
    "\n",
    "# Print the status of the solved LP\n",
    "print(\"Status = %s\" % LpStatus[prob.status])\n",
    "\n",
    "# Print the value of the variables at the optimum\n",
    "for c in profit.keys():\n",
    "    print(\"%s = %f\" % (x[c].name, x[c].varValue))\n",
    "\n",
    "# Print the value of the objective\n",
    "print(\"Objective = %f\" % value(prob.objective))"
   ]
  }
 ],
 "metadata": {
  "kernelspec": {
   "display_name": "Python 3",
   "language": "python",
   "name": "python3"
  },
  "language_info": {
   "codemirror_mode": {
    "name": "ipython",
    "version": 3
   },
   "file_extension": ".py",
   "mimetype": "text/x-python",
   "name": "python",
   "nbconvert_exporter": "python",
   "pygments_lexer": "ipython3",
   "version": "3.7.1"
  },
  "toc": {
   "base_numbering": 1,
   "nav_menu": {},
   "number_sections": true,
   "sideBar": true,
   "skip_h1_title": false,
   "title_cell": "Table of Contents",
   "title_sidebar": "Contents",
   "toc_cell": false,
   "toc_position": {},
   "toc_section_display": true,
   "toc_window_display": false
  }
 },
 "nbformat": 4,
 "nbformat_minor": 2
}
