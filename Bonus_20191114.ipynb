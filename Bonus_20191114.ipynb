{
  "nbformat": 4,
  "nbformat_minor": 0,
  "metadata": {
    "celltoolbar": "Slideshow",
    "kernelspec": {
      "display_name": "Python 3",
      "language": "python",
      "name": "python3"
    },
    "language_info": {
      "codemirror_mode": {
        "name": "ipython",
        "version": 3
      },
      "file_extension": ".py",
      "mimetype": "text/x-python",
      "name": "python",
      "nbconvert_exporter": "python",
      "pygments_lexer": "ipython3",
      "version": "3.7.1"
    },
    "rise": {
      "enable_chalkboard": false,
      "overlay": "<div class='background'></div><div class='header'>WS 19/20</br>DSS</div><div class='logo'><img src='images/unilogo.png'></div><div class='bar'></div>",
      "scroll": true,
      "slideNumber": "h.v"
    },
    "toc": {
      "base_numbering": 1,
      "nav_menu": {},
      "number_sections": true,
      "sideBar": true,
      "skip_h1_title": true,
      "title_cell": "Table of Contents",
      "title_sidebar": "Contents",
      "toc_cell": true,
      "toc_position": {},
      "toc_section_display": true,
      "toc_window_display": false
    },
    "colab": {
      "name": "Copy of 00_Bonus_template.ipynb",
      "provenance": [],
      "include_colab_link": true
    }
  },
  "cells": [
    {
      "cell_type": "markdown",
      "metadata": {
        "id": "view-in-github",
        "colab_type": "text"
      },
      "source": [
        "<a href=\"https://colab.research.google.com/github/janinerottmann/DSS1920/blob/master/Bonus_20191114.ipynb\" target=\"_parent\"><img src=\"https://colab.research.google.com/assets/colab-badge.svg\" alt=\"Open In Colab\"/></a>"
      ]
    },
    {
      "cell_type": "markdown",
      "metadata": {
        "cell_style": "center",
        "id": "dcP9gwJYRsmD",
        "colab_type": "text"
      },
      "source": [
        "<div class='bar_title'></div>\n",
        "\n",
        "*Decision Support Systems*\n",
        "\n",
        "# Headline\n",
        "\n",
        "student1, student2, student3, student,4 <br>\n",
        "\n",
        "Winter Semester 19/20"
      ]
    },
    {
      "cell_type": "markdown",
      "metadata": {
        "toc": true,
        "id": "XR2gIrS5RsmF",
        "colab_type": "text"
      },
      "source": [
        "<h1>Table of Contents<span class=\"tocSkip\"></span></h1>\n",
        "<div class=\"toc\"><ul class=\"toc-item\"><li><span><a href=\"#Section\" data-toc-modified-id=\"Section-1\"><span class=\"toc-item-num\">1&nbsp;&nbsp;</span>Section</a></span><ul class=\"toc-item\"><li><span><a href=\"#Subsection\" data-toc-modified-id=\"Subsection-1.1\"><span class=\"toc-item-num\">1.1&nbsp;&nbsp;</span>Subsection</a></span><ul class=\"toc-item\"><li><span><a href=\"#Subsubsection\" data-toc-modified-id=\"Subsubsection-1.1.1\"><span class=\"toc-item-num\">1.1.1&nbsp;&nbsp;</span>Subsubsection</a></span></li></ul></li></ul></li></ul></div>"
      ]
    },
    {
      "cell_type": "code",
      "metadata": {
        "id": "awd-YsZmRsmG",
        "colab_type": "code",
        "outputId": "7cca8eae-60f6-4a33-8545-2eb3302c11f8",
        "colab": {}
      },
      "source": [
        "!pip install pulp\n",
        "from pulp import *"
      ],
      "execution_count": 0,
      "outputs": [
        {
          "output_type": "stream",
          "text": [
            "Requirement already satisfied: pulp in c:\\users\\toni greif\\anaconda3\\lib\\site-packages (1.6.10)\n",
            "Requirement already satisfied: pyparsing>=2.0.1 in c:\\users\\toni greif\\anaconda3\\lib\\site-packages (from pulp) (2.3.0)\n"
          ],
          "name": "stdout"
        }
      ]
    },
    {
      "cell_type": "markdown",
      "metadata": {
        "id": "S-oV8ZJ2RsmL",
        "colab_type": "text"
      },
      "source": [
        "## Section"
      ]
    },
    {
      "cell_type": "markdown",
      "metadata": {
        "id": "KVUDEfTsRsmL",
        "colab_type": "text"
      },
      "source": [
        "text"
      ]
    },
    {
      "cell_type": "markdown",
      "metadata": {
        "id": "OUugyfCBRsmM",
        "colab_type": "text"
      },
      "source": [
        "### Subsection"
      ]
    },
    {
      "cell_type": "markdown",
      "metadata": {
        "cell_style": "center",
        "id": "1IRdR1BVRsmN",
        "colab_type": "text"
      },
      "source": [
        "#### Subsubsection\n",
        "\n",
        "text"
      ]
    },
    {
      "cell_type": "code",
      "metadata": {
        "cell_style": "center",
        "id": "tkMrH-_URsmO",
        "colab_type": "code",
        "colab": {}
      },
      "source": [
        "# code cell"
      ],
      "execution_count": 0,
      "outputs": []
    }
  ]
}