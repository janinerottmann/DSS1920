{
 "cells": [
  {
   "cell_type": "markdown",
   "metadata": {
    "slideshow": {
     "slide_type": "slide"
    }
   },
   "source": [
    "<div class='bar_title'></div>\n",
    "\n",
    "*Decision Support Systems*\n",
    "\n",
    "# PuLP Introduction\n",
    "\n",
    "Toni Greif<br>\n",
    "Chair of Information Systems and Management\n",
    "\n",
    "Winter Semester 19/20"
   ]
  },
  {
   "cell_type": "markdown",
   "metadata": {
    "slideshow": {
     "slide_type": "slide"
    }
   },
   "source": [
    "## Using Drive to save Colab notebooks\n",
    "\n",
    "The default location for storing your data is Google Drive. When you choose File → Save, the content you create goes to the root directory of your Google Drive. If you want to save the content to a different folder, you need to select that folder in Google Drive.\n",
    "\n",
    "In WueCampus you find a introduction for saving and opening notebooks via Google Drive "
   ]
  },
  {
   "cell_type": "markdown",
   "metadata": {
    "slideshow": {
     "slide_type": "slide"
    }
   },
   "source": [
    "Before each PuLP implementation the package must be installed (not necessary if you don't use the Colab enviroment) and imported."
   ]
  },
  {
   "cell_type": "code",
   "execution_count": 2,
   "metadata": {},
   "outputs": [
    {
     "name": "stdout",
     "output_type": "stream",
     "text": [
      "Requirement already satisfied: pulp in c:\\users\\toni greif\\anaconda3\\lib\\site-packages (1.6.10)\n",
      "Requirement already satisfied: pyparsing>=2.0.1 in c:\\users\\toni greif\\anaconda3\\lib\\site-packages (from pulp) (2.3.0)\n"
     ]
    }
   ],
   "source": [
    "!pip install pulp\n",
    "from pulp import *\n",
    "import pandas as pd"
   ]
  },
  {
   "cell_type": "markdown",
   "metadata": {
    "slideshow": {
     "slide_type": "slide"
    }
   },
   "source": [
    "## Example"
   ]
  },
  {
   "cell_type": "markdown",
   "metadata": {
    "slideshow": {
     "slide_type": "-"
    }
   },
   "source": [
    "A chocolate manufacturing company produces two types of chocolate – A and B. Both the chocolates require Milk and Choco only,\n",
    "\n",
    "\n",
    "- each unit of Milk costs \\\\$0.1 and each unit of Choco \\\\$0.3\n",
    "- each unit of A requires 1 unit of Milk and 2 units of Choco,\n",
    "- each unit of B requires 3 unit of Milk and 2 units of Choco.\n",
    "\n",
    "The company has a total of 20 units of Milk and 40 units of Choco.\n",
    "\n",
    "The company sells\n",
    "- each unit of A for \\\\$9\n",
    "- each unit of B for \\\\$14\n",
    "\n",
    "How many units of A and B should the company produce  to maximize its profit?"
   ]
  },
  {
   "cell_type": "markdown",
   "metadata": {
    "slideshow": {
     "slide_type": "subslide"
    }
   },
   "source": [
    "Our typical workflow will be the following:"
   ]
  },
  {
   "cell_type": "markdown",
   "metadata": {
    "cell_style": "split",
    "slideshow": {
     "slide_type": "-"
    }
   },
   "source": [
    "\n",
    "- Read the text carefully and try to identify the following elements\n",
    "    1. parameters\n",
    "    2. decision variables\n",
    "    3. objective\n",
    "    4. constraints\n",
    "    \n",
    "    \n",
    "- Try to formulate the complete optimization problem by hand"
   ]
  },
  {
   "cell_type": "markdown",
   "metadata": {
    "cell_style": "split",
    "slideshow": {
     "slide_type": "-"
    }
   },
   "source": [
    "- Implement your model with the following steps\n",
    "    1. create the model\n",
    "    2. set the parameters\n",
    "    3. create the decision variables\n",
    "    4. set the objective\n",
    "    5. set the constraints\n",
    "    6. solve the problem\n",
    "    7. print the solution"
   ]
  },
  {
   "cell_type": "markdown",
   "metadata": {
    "slideshow": {
     "slide_type": "subslide"
    }
   },
   "source": [
    "So let's start with our first model..."
   ]
  },
  {
   "cell_type": "code",
   "execution_count": 3,
   "metadata": {},
   "outputs": [],
   "source": [
    "# Create model\n",
    "prob = LpProblem(\"chocolate maufacturing\", sense=pulp.LpMaximize)"
   ]
  },
  {
   "cell_type": "code",
   "execution_count": 4,
   "metadata": {},
   "outputs": [],
   "source": [
    "# Set parameters\n",
    "## Creates a list of the chocolates and ingredients\n",
    "chocolates = ['A', 'B']\n",
    "ingredients = ['Milk', 'Choco']\n",
    "\n",
    "## Dictionaries of the costs, prices, milk and choco protion, maximal Ingredients are created\n",
    "costs = {'Milk': 0.1, \n",
    "         'Choco': 0.3}\n",
    "\n",
    "prices = {'A': 9,\n",
    "          'B': 14}\n",
    "\n",
    "portion = {'Milk': {'A': 1, 'B': 2},\n",
    "           'Choco': {'A': 3,'B': 2}}\n",
    "\n",
    "maxIngredients = {'Milk': 20, \n",
    "                  'Choco': 40}"
   ]
  },
  {
   "cell_type": "code",
   "execution_count": 5,
   "metadata": {
    "slideshow": {
     "slide_type": "subslide"
    }
   },
   "outputs": [],
   "source": [
    "# Create variables\n",
    "chocolates_vars = LpVariable.dicts(\"chocolates_production\", chocolates, lowBound=0, cat='Continuous')"
   ]
  },
  {
   "cell_type": "code",
   "execution_count": 6,
   "metadata": {},
   "outputs": [],
   "source": [
    "# Set objective\n",
    "prob += lpSum([chocolates_vars[chocolate] * prices[chocolate] for chocolate in chocolates]\n",
    "            +[chocolates_vars[chocolate] * portion[ingredient][chocolate] * -costs[ingredient]\n",
    "                 for chocolate in chocolates for ingredient in ingredients])"
   ]
  },
  {
   "cell_type": "code",
   "execution_count": 7,
   "metadata": {},
   "outputs": [],
   "source": [
    "# Set constraints\n",
    "for ingredient in ingredients:\n",
    "    prob += lpSum(chocolates_vars[chocolate] * portion[ingredient][chocolate]\n",
    "                  for chocolate in chocolates) <= maxIngredients[ingredient]"
   ]
  },
  {
   "cell_type": "markdown",
   "metadata": {},
   "source": [
    "The quantifiers have become `` for...in loops`` and the summations have become calls to ``lpSum``"
   ]
  },
  {
   "cell_type": "code",
   "execution_count": 8,
   "metadata": {
    "slideshow": {
     "slide_type": "subslide"
    }
   },
   "outputs": [
    {
     "data": {
      "text/plain": [
       "chocolate maufacturing:\n",
       "MAXIMIZE\n",
       "8.0*chocolates_production_A + 13.200000000000001*chocolates_production_B + 0.0\n",
       "SUBJECT TO\n",
       "_C1: chocolates_production_A + 2 chocolates_production_B <= 20\n",
       "\n",
       "_C2: 3 chocolates_production_A + 2 chocolates_production_B <= 40\n",
       "\n",
       "VARIABLES\n",
       "chocolates_production_A Continuous\n",
       "chocolates_production_B Continuous"
      ]
     },
     "execution_count": 8,
     "metadata": {},
     "output_type": "execute_result"
    }
   ],
   "source": [
    "prob"
   ]
  },
  {
   "cell_type": "code",
   "execution_count": 8,
   "metadata": {
    "slideshow": {
     "slide_type": "subslide"
    }
   },
   "outputs": [
    {
     "data": {
      "text/plain": [
       "'Optimal'"
      ]
     },
     "execution_count": 8,
     "metadata": {},
     "output_type": "execute_result"
    }
   ],
   "source": [
    "# Solve problem\n",
    "prob.solve()\n",
    "LpStatus[prob.status]"
   ]
  },
  {
   "cell_type": "code",
   "execution_count": 9,
   "metadata": {},
   "outputs": [
    {
     "name": "stdout",
     "output_type": "stream",
     "text": [
      "chocolates_production_A = 10.0\n",
      "chocolates_production_B = 5.0\n"
     ]
    }
   ],
   "source": [
    "for variable in prob.variables():\n",
    "    print (\"{} = {}\".format(variable.name, variable.varValue))"
   ]
  },
  {
   "cell_type": "code",
   "execution_count": 10,
   "metadata": {},
   "outputs": [
    {
     "name": "stdout",
     "output_type": "stream",
     "text": [
      "146.0\n"
     ]
    }
   ],
   "source": [
    "print (pulp.value(prob.objective))"
   ]
  }
 ],
 "metadata": {
  "celltoolbar": "Slideshow",
  "kernelspec": {
   "display_name": "Python 3",
   "language": "python",
   "name": "python3"
  },
  "language_info": {
   "codemirror_mode": {
    "name": "ipython",
    "version": 3
   },
   "file_extension": ".py",
   "mimetype": "text/x-python",
   "name": "python",
   "nbconvert_exporter": "python",
   "pygments_lexer": "ipython3",
   "version": "3.7.1"
  },
  "rise": {
   "enable_chalkboard": false,
   "overlay": "<div class='background'></div><div class='header'>WS 19/20</br>DSS</div><div class='logo'><img src='images/unilogo.png'></div><div class='bar'></div>",
   "scroll": true,
   "slideNumber": "h.v"
  },
  "toc": {
   "base_numbering": 1,
   "nav_menu": {},
   "number_sections": true,
   "sideBar": true,
   "skip_h1_title": false,
   "title_cell": "Table of Contents",
   "title_sidebar": "Contents",
   "toc_cell": false,
   "toc_position": {},
   "toc_section_display": true,
   "toc_window_display": false
  }
 },
 "nbformat": 4,
 "nbformat_minor": 2
}
