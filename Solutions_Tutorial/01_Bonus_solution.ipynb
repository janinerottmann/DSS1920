{
 "cells": [
  {
   "cell_type": "markdown",
   "metadata": {
    "cell_style": "center",
    "slideshow": {
     "slide_type": "slide"
    }
   },
   "source": [
    "<div class='bar_title'></div>\n",
    "\n",
    "*Decision Support Systems*\n",
    "\n",
    "# Bonus 01\n",
    "\n",
    "Toni Greif <br>\n",
    "\n",
    "Winter Semester 19/20"
   ]
  },
  {
   "cell_type": "markdown",
   "metadata": {
    "slideshow": {
     "slide_type": "subslide"
    },
    "toc": true
   },
   "source": [
    "<h1>Table of Contents<span class=\"tocSkip\"></span></h1>\n",
    "<div class=\"toc\"><ul class=\"toc-item\"><li><span><a href=\"#Standard-Model\" data-toc-modified-id=\"Standard-Model-1\"><span class=\"toc-item-num\">1&nbsp;&nbsp;</span>Standard Model</a></span></li><li><span><a href=\"#Alternative-Model\" data-toc-modified-id=\"Alternative-Model-2\"><span class=\"toc-item-num\">2&nbsp;&nbsp;</span>Alternative Model</a></span></li><li><span><a href=\"#Continued-Model\" data-toc-modified-id=\"Continued-Model-3\"><span class=\"toc-item-num\">3&nbsp;&nbsp;</span>Continued Model</a></span></li></ul></div>"
   ]
  },
  {
   "cell_type": "code",
   "execution_count": 1,
   "metadata": {},
   "outputs": [
    {
     "name": "stdout",
     "output_type": "stream",
     "text": [
      "Requirement already satisfied: pulp in c:\\users\\toni greif\\anaconda3\\lib\\site-packages (1.6.10)\n",
      "Requirement already satisfied: pyparsing>=2.0.1 in c:\\users\\toni greif\\anaconda3\\lib\\site-packages (from pulp) (2.3.0)\n"
     ]
    }
   ],
   "source": [
    "!pip install pulp\n",
    "from pulp import *\n",
    "import pandas as pd"
   ]
  },
  {
   "cell_type": "markdown",
   "metadata": {
    "slideshow": {
     "slide_type": "slide"
    }
   },
   "source": [
    "## Standard Model"
   ]
  },
  {
   "cell_type": "code",
   "execution_count": 2,
   "metadata": {
    "cell_style": "center"
   },
   "outputs": [],
   "source": [
    "# Models\n",
    "m1 = LpProblem(\"Wildlife\", sense=pulp.LpMaximize)\n",
    "m2 = m1.copy()\n",
    "m3 = m1.copy()\n",
    "m4 = m1.copy()\n",
    "m5 = m1.copy()\n",
    "m6 = m1.copy()\n",
    "\n",
    "models = [m1,m2,m3,m4,m5,m6]"
   ]
  },
  {
   "cell_type": "code",
   "execution_count": 3,
   "metadata": {
    "slideshow": {
     "slide_type": "subslide"
    }
   },
   "outputs": [],
   "source": [
    "# Dictionaries\n",
    "coeff = {'Elephant': {'B': 1800, 'C': 0, 'T': 0, 'L': 0, 'S': 2200, 'y': 0.04},\n",
    "        'WhiteRhino': {'B': 1500, 'C': 2000, 'T': 8500, 'L': 2000, 'S': 0, 'y': 0.08},\n",
    "        'BlackRhino': {'B': 860, 'C': 15000, 'T': 0, 'L': 0, 'S': 0, 'y': 0.08},\n",
    "        'Giraffe': {'B': 750, 'C': 0, 'T': 0, 'L': 2000, 'S': 920, 'y': 0.10},\n",
    "        'Buffalo': {'B': 450, 'C': 4000, 'T': 0, 'L': 0, 'S': 0, 'y': 0.10},\n",
    "        'Eland': {'B': 360, 'C': 0, 'T': 0, 'L': 500, 'S': 440, 'y': 0.15},\n",
    "        'Zebra': {'B': 210, 'C': 0, 'T': 450, 'L': 220, 'S': 250, 'y': 0.10},\n",
    "        'Roan': {'B': 200, 'C': 6000, 'T': 0, 'L': 0, 'S': 0, 'y': 0.10}\n",
    "        }"
   ]
  },
  {
   "cell_type": "code",
   "execution_count": 4,
   "metadata": {
    "slideshow": {
     "slide_type": "subslide"
    }
   },
   "outputs": [],
   "source": [
    "consum = {'Elephant': {'Browse2.5': 0, 'Browse5': 20.57, 'Forbs': 1.21, 'Leaf': 0.48, 'GrasFine': 1.21, 'GrasCoarse': 0.73},\n",
    "        'WhiteRhino': {'Browse2.5': 0, 'Browse5': 0, 'Forbs': 1.03, 'Leaf': 0, 'GrasFine': 11.33, 'GrasCoarse': 8.24},\n",
    "        'BlackRhino': {'Browse2.5': 12.66, 'Browse5': 12.66, 'Forbs': 1.49, 'Leaf': 0.45, 'GrasFine': 0, 'GrasCoarse': 0.3},\n",
    "        'Giraffe': {'Browse2.5': 0, 'Browse5': 13.72, 'Forbs': 0.14, 'Leaf': 0.14, 'GrasFine': 0, 'GrasCoarse': 0},\n",
    "        'Buffalo': {'Browse2.5': 0, 'Browse5': 0, 'Forbs': 0.09, 'Leaf': 0.09, 'GrasFine': 5.16, 'GrasCoarse': 3.56},\n",
    "        'Eland': {'Browse2.5': 6.2, 'Browse5': 6.2, 'Forbs': 0.73, 'Leaf': 0, 'GrasFine': 0.22, 'GrasCoarse': 0.15},\n",
    "        'Zebra': {'Browse2.5': 0, 'Browse5': 0, 'Forbs': 0, 'Leaf': 0, 'GrasFine': 3.13, 'GrasCoarse': 2.57},\n",
    "        'Roan': {'Browse2.5': 0.37, 'Browse5': 0.37, 'Forbs': 0, 'Leaf': 0, 'GrasFine': 2.56, 'GrasCoarse': 1.57}\n",
    "         }"
   ]
  },
  {
   "cell_type": "code",
   "execution_count": 5,
   "metadata": {
    "slideshow": {
     "slide_type": "subslide"
    }
   },
   "outputs": [],
   "source": [
    "biomass = {'Browse2.5': {1: 81940, 2: 152180, 3: 751759},\n",
    "           'Browse5': {1: 163331, 2: 366436, 3: 1642627},\n",
    "           'Forbs': {1: 171990, 2: 140934, 3: 251154},\n",
    "           'Leaf': {1: 626592, 2: 320736, 3: 1853478},\n",
    "           'GrasFine': {1: 468406, 2: 439470, 3: 1461834},\n",
    "           'GrasCoarse': {1: 506617, 2: 536616, 3: 1786989},\n",
    "          }"
   ]
  },
  {
   "cell_type": "code",
   "execution_count": 6,
   "metadata": {
    "slideshow": {
     "slide_type": "subslide"
    }
   },
   "outputs": [],
   "source": [
    "# Sets\n",
    "species = ['Elephant', 'WhiteRhino', 'BlackRhino', 'Giraffe', 'Buffalo', 'Eland', 'Zebra', 'Roan']\n",
    "habitats = [1, 2, 3]\n",
    "foods = biomass.keys()\n",
    "values = ['C', 'T', 'L','S']"
   ]
  },
  {
   "cell_type": "markdown",
   "metadata": {
    "slideshow": {
     "slide_type": "subslide"
    }
   },
   "source": [
    "We introduce variables for the number of animals per habitat and for the animals used for the respective sales objectives."
   ]
  },
  {
   "cell_type": "code",
   "execution_count": 7,
   "metadata": {},
   "outputs": [],
   "source": [
    "# Variables \n",
    "x = LpVariable.dicts(\"x\", (species, habitats), lowBound=0, cat='Continuous')\n",
    "y = LpVariable.dicts(\"y\", (species, values), lowBound=0, cat='Continuous')"
   ]
  },
  {
   "cell_type": "markdown",
   "metadata": {},
   "source": [
    "This allows the objective functions to be written very intuitively."
   ]
  },
  {
   "cell_type": "code",
   "execution_count": 8,
   "metadata": {},
   "outputs": [],
   "source": [
    "# Objectives\n",
    "m1 += lpSum([coeff[s]['B'] * x[s][h] for s in species for h in habitats])\n",
    "m2 += lpSum([x[s][h] for s in species for h in habitats])\n",
    "m3 += lpSum([coeff[s]['C'] * y[s]['C'] for s in species])\n",
    "m4 += lpSum([coeff[s]['T'] * y[s]['T'] for s in species])\n",
    "m5 += lpSum([coeff[s]['L'] * y[s]['L'] for s in species])\n",
    "m6 += lpSum([coeff[s]['S'] * y[s]['S'] for s in species])"
   ]
  },
  {
   "cell_type": "markdown",
   "metadata": {
    "slideshow": {
     "slide_type": "subslide"
    }
   },
   "source": [
    "The amount of food eaten by the animals in each habitat is constraint to the food available in the habitat. Depending on the objective function the number of animals used has to be constrained to the yearly increase of that species."
   ]
  },
  {
   "cell_type": "code",
   "execution_count": 9,
   "metadata": {},
   "outputs": [],
   "source": [
    "# Constraints\n",
    "## Amount of food\n",
    "for f in foods:  \n",
    "    for h in habitats:\n",
    "        for m in models:\n",
    "            m += lpSum([consum[s][f] * x[s][h] for s in species]) <= (biomass[f][h]/100)\n",
    "        \n",
    "## Animals used      \n",
    "for s in species:\n",
    "        ## Conservation\n",
    "        m3 += lpSum(coeff[s]['y'] * x[s][h] for h in habitats) >= y[s]['C']\n",
    "        ## Trophies\n",
    "        m4 += lpSum(coeff[s]['y'] * x[s][h] for h in habitats) >= y[s]['T']\n",
    "        ## Alive\n",
    "        m5 += lpSum(coeff[s]['y'] * x[s][h] for h in habitats) >= y[s]['L']\n",
    "        # Carcasses \n",
    "        m6 += lpSum(coeff[s]['y'] * x[s][h] for h in habitats) >= y[s]['S']"
   ]
  },
  {
   "cell_type": "markdown",
   "metadata": {
    "slideshow": {
     "slide_type": "subslide"
    }
   },
   "source": [
    "We solve all models and print the results."
   ]
  },
  {
   "cell_type": "code",
   "execution_count": 10,
   "metadata": {},
   "outputs": [
    {
     "name": "stdout",
     "output_type": "stream",
     "text": [
      "Optimal : Objective= 4869099.6263999995\n",
      "                     1          2           3\n",
      "Elephant     79.402528  178.14098   798.55469\n",
      "WhiteRhino  404.941120  368.85696  1204.95050\n",
      "BlackRhino    0.000000    0.00000     0.00000\n",
      "Giraffe       0.000000    0.00000     0.00000\n",
      "Buffalo       0.000000    0.00000     0.00000\n",
      "Eland         0.000000    0.00000     0.00000\n",
      "Zebra         0.000000    0.00000     0.00000\n",
      "Roan          0.000000    0.00000     0.00000\n",
      "\n",
      "\n",
      "Optimal : Objective= 11074.910493\n",
      "                      1           2           3\n",
      "Elephant       0.000000     0.00000     0.00000\n",
      "WhiteRhino     0.000000     0.00000     0.00000\n",
      "BlackRhino     0.000000     0.00000     0.00000\n",
      "Giraffe       59.322886   156.16327   649.32070\n",
      "Buffalo        0.000000     0.00000     0.00000\n",
      "Eland         23.087267   143.74178   876.23299\n",
      "Zebra          0.000000     0.00000     0.00000\n",
      "Roan        1827.726900  1704.32690  5634.98780\n",
      "\n",
      "\n",
      "Optimal : Objective= 6163848.435\n",
      "                      1            2           3\n",
      "Elephant       0.000000     0.000000     0.00000\n",
      "WhiteRhino     0.000000     0.000000     0.00000\n",
      "BlackRhino    11.248574    70.033848   426.91809\n",
      "Giraffe        0.000000     0.000000     0.00000\n",
      "Buffalo        0.000000     0.000000     0.00000\n",
      "Eland          0.000000     0.000000     0.00000\n",
      "Zebra          0.000000     0.000000     0.00000\n",
      "Roan        1829.710900  1716.679700  5710.28910\n",
      "\n",
      "\n",
      "Optimal : Objective= 1422244.3099999998\n",
      "                    1          2         3\n",
      "Elephant      0.00000    0.00000     0.000\n",
      "WhiteRhino  413.42101  387.88173  1290.233\n",
      "BlackRhino    0.00000    0.00000     0.000\n",
      "Giraffe       0.00000    0.00000     0.000\n",
      "Buffalo       0.00000    0.00000     0.000\n",
      "Eland         0.00000    0.00000     0.000\n",
      "Zebra         0.00000    0.00000     0.000\n",
      "Roan          0.00000    0.00000     0.000\n",
      "\n",
      "\n",
      "Optimal : Objective= 651321.24\n",
      "                    1          2         3\n",
      "Elephant      0.00000    0.00000     0.000\n",
      "WhiteRhino  413.42101  387.88173  1290.233\n",
      "BlackRhino    0.00000    0.00000     0.000\n",
      "Giraffe     119.04592  267.08163  1197.250\n",
      "Buffalo       0.00000    0.00000     0.000\n",
      "Eland         0.00000    0.00000     0.000\n",
      "Zebra         0.00000    0.00000     0.000\n",
      "Roan          0.00000    0.00000     0.000\n",
      "\n",
      "\n",
      "Optimal : Objective= 370990.4461\n",
      "                      1           2          3\n",
      "Elephant       0.000000     0.00000     0.0000\n",
      "WhiteRhino     0.000000     0.00000     0.0000\n",
      "BlackRhino     0.000000     0.00000     0.0000\n",
      "Giraffe       59.322886   156.16327   649.3207\n",
      "Buffalo        0.000000     0.00000     0.0000\n",
      "Eland        132.161290   245.45161  1212.5145\n",
      "Zebra       1487.215500  1386.80530  4585.1715\n",
      "Roan           0.000000     0.00000     0.0000\n",
      "\n",
      "\n",
      "                     C          T          L           S\n",
      "Elephant      0.000000    0.00000    0.00000    0.000000\n",
      "WhiteRhino    0.000000  167.32286  167.32286    0.000000\n",
      "BlackRhino   40.656041    0.00000    0.00000    0.000000\n",
      "Giraffe       0.000000    0.00000  158.33776   86.480685\n",
      "Buffalo       0.000000    0.00000    0.00000    0.000000\n",
      "Eland         0.000000    0.00000    0.00000  238.519110\n",
      "Zebra         0.000000    0.00000    0.00000  745.919230\n",
      "Roan        925.667970    0.00000    0.00000    0.000000\n"
     ]
    }
   ],
   "source": [
    "# Solve ALL models\n",
    "for m in models:\n",
    "    m.solve()\n",
    "    print (LpStatus[m.status], ': Objective=',value(m.objective))\n",
    "    print(pd.DataFrame([[x[s][h].varValue for h in habitats] for s in species], columns = habitats, index = species))\n",
    "    print('\\n')\n",
    "    \n",
    "print(pd.DataFrame([[y[s][v].varValue for v in values] for s in species], columns=values, index = species))"
   ]
  },
  {
   "cell_type": "markdown",
   "metadata": {
    "slideshow": {
     "slide_type": "slide"
    }
   },
   "source": [
    "## Alternative Model"
   ]
  },
  {
   "cell_type": "markdown",
   "metadata": {},
   "source": [
    "We do not necessarily have to introduce a variable for the animals used, alternatively it can also be modeled via the objective function."
   ]
  },
  {
   "cell_type": "code",
   "execution_count": 11,
   "metadata": {},
   "outputs": [],
   "source": [
    "# Model\n",
    "m5_v2 = LpProblem(\"Wildlife\", sense=pulp.LpMaximize)"
   ]
  },
  {
   "cell_type": "markdown",
   "metadata": {
    "slideshow": {
     "slide_type": "subslide"
    }
   },
   "source": [
    "We include the yield directly in the objective function and use the ``x`` variables from before."
   ]
  },
  {
   "cell_type": "code",
   "execution_count": 12,
   "metadata": {},
   "outputs": [
    {
     "name": "stdout",
     "output_type": "stream",
     "text": [
      "{'Elephant': {1: x_Elephant_1, 2: x_Elephant_2, 3: x_Elephant_3}, 'WhiteRhino': {1: x_WhiteRhino_1, 2: x_WhiteRhino_2, 3: x_WhiteRhino_3}, 'BlackRhino': {1: x_BlackRhino_1, 2: x_BlackRhino_2, 3: x_BlackRhino_3}, 'Giraffe': {1: x_Giraffe_1, 2: x_Giraffe_2, 3: x_Giraffe_3}, 'Buffalo': {1: x_Buffalo_1, 2: x_Buffalo_2, 3: x_Buffalo_3}, 'Eland': {1: x_Eland_1, 2: x_Eland_2, 3: x_Eland_3}, 'Zebra': {1: x_Zebra_1, 2: x_Zebra_2, 3: x_Zebra_3}, 'Roan': {1: x_Roan_1, 2: x_Roan_2, 3: x_Roan_3}}\n"
     ]
    }
   ],
   "source": [
    "print(x)"
   ]
  },
  {
   "cell_type": "code",
   "execution_count": 13,
   "metadata": {},
   "outputs": [],
   "source": [
    "# Objective\n",
    "m5_v2 += lpSum([coeff[s]['L'] * coeff[s]['y'] * x[s][h] for s in species for h in habitats]) "
   ]
  },
  {
   "cell_type": "markdown",
   "metadata": {
    "slideshow": {
     "slide_type": "subslide"
    }
   },
   "source": [
    "The constraints simplify significantly."
   ]
  },
  {
   "cell_type": "code",
   "execution_count": 14,
   "metadata": {
    "slideshow": {
     "slide_type": "-"
    }
   },
   "outputs": [],
   "source": [
    "# Constraints\n",
    "## Amount of food\n",
    "for f in foods:  \n",
    "    for h in habitats:\n",
    "            m5_v2 += lpSum([consum[s][f] * x[s][h] for s in species]) <= (biomass[f][h]/100)"
   ]
  },
  {
   "cell_type": "code",
   "execution_count": 15,
   "metadata": {
    "slideshow": {
     "slide_type": "subslide"
    }
   },
   "outputs": [
    {
     "name": "stdout",
     "output_type": "stream",
     "text": [
      "Optimal : Objective= 651321.2284\n",
      "                    1          2         3\n",
      "Elephant      0.00000    0.00000     0.000\n",
      "WhiteRhino  413.42101  387.88173  1290.233\n",
      "BlackRhino    0.00000    0.00000     0.000\n",
      "Giraffe     119.04592  267.08163  1197.250\n",
      "Buffalo       0.00000    0.00000     0.000\n",
      "Eland         0.00000    0.00000     0.000\n",
      "Zebra         0.00000    0.00000     0.000\n",
      "Roan          0.00000    0.00000     0.000\n"
     ]
    }
   ],
   "source": [
    "# Solve problem\n",
    "m5_v2.solve()\n",
    "print (LpStatus[m5_v2.status], ': Objective=',value(m5_v2.objective))\n",
    "print(pd.DataFrame([[x[s][h].varValue for h in habitats] for s in species], columns = habitats, index = species))"
   ]
  },
  {
   "cell_type": "markdown",
   "metadata": {},
   "source": [
    " Compare the solution with the one of model m5! <img src=\"images/UpToYou.png\" style=\"width:8%; float:left\">"
   ]
  },
  {
   "cell_type": "markdown",
   "metadata": {
    "slideshow": {
     "slide_type": "slide"
    }
   },
   "source": [
    "## Continued Model"
   ]
  },
  {
   "cell_type": "markdown",
   "metadata": {
    "slideshow": {
     "slide_type": "-"
    }
   },
   "source": [
    "Given the capture objective, the prices for animals fall if the supply gets to big. We assume that the buyers for white rhinos as well as giraffes are willing to buy 100 animals of both species for the old price. If the park management wants to sell more of these animals the price for each additional animal is 20% lower.\n",
    "\n",
    "To model this situation we extend model m5 and introduce two new species ``WhiteRhinoDisc`` and ``GiraffeDisc``.\n",
    "The live coefficienten reduces to 1600."
   ]
  },
  {
   "cell_type": "code",
   "execution_count": 16,
   "metadata": {
    "slideshow": {
     "slide_type": "subslide"
    }
   },
   "outputs": [
    {
     "name": "stdout",
     "output_type": "stream",
     "text": [
      "['WhiteRhinoDisc', 'GiraffeDisc']\n"
     ]
    }
   ],
   "source": [
    "species_disc = ['WhiteRhino','Giraffe']\n",
    "species_new = [(s+'Disc') for s in species_disc]\n",
    "print(species_new)"
   ]
  },
  {
   "cell_type": "code",
   "execution_count": 17,
   "metadata": {},
   "outputs": [],
   "source": [
    "coeff = {'WhiteRhinoDisc': {'L': 1600},\n",
    "        'GiraffeDisc': {'L': 1600},\n",
    "        'Elephant': {'B': 1800, 'C': 0, 'T': 0, 'L': 0, 'S': 2200, 'y': 0.04},\n",
    "        'WhiteRhino': {'B': 1500, 'C': 2000, 'T': 8500, 'L': 2000, 'S': 0, 'y': 0.08},\n",
    "        'BlackRhino': {'B': 860, 'C': 15000, 'T': 0, 'L': 0, 'S': 0, 'y': 0.08},\n",
    "        'Giraffe': {'B': 750, 'C': 0, 'T': 0, 'L': 2000, 'S': 920, 'y': 0.10},\n",
    "        'Buffalo': {'B': 450, 'C': 4000, 'T': 0, 'L': 0, 'S': 0, 'y': 0.10},\n",
    "        'Eland': {'B': 360, 'C': 0, 'T': 0, 'L': 500, 'S': 440, 'y': 0.15},\n",
    "        'Zebra': {'B': 210, 'C': 0, 'T': 450, 'L': 220, 'S': 250, 'y': 0.10},\n",
    "        'Roan': {'B': 200, 'C': 6000, 'T': 0, 'L': 0, 'S': 0, 'y': 0.10}\n",
    "        }"
   ]
  },
  {
   "cell_type": "code",
   "execution_count": 18,
   "metadata": {
    "slideshow": {
     "slide_type": "subslide"
    }
   },
   "outputs": [],
   "source": [
    "# Create model\n",
    "m_cont = LpProblem(\"Wildlife\", sense=pulp.LpMaximize)"
   ]
  },
  {
   "cell_type": "markdown",
   "metadata": {},
   "source": [
    "We use the same objective and variables, but with additional indices for the animals used at the discount rate."
   ]
  },
  {
   "cell_type": "code",
   "execution_count": 19,
   "metadata": {},
   "outputs": [],
   "source": [
    "# Variables\n",
    "x = LpVariable.dicts(\"x\", (species, habitats), lowBound=0, cat='Continuous')\n",
    "y = LpVariable.dicts(\"y\", ((species + species_new), values), lowBound=0, cat='Continuous')"
   ]
  },
  {
   "cell_type": "code",
   "execution_count": 20,
   "metadata": {},
   "outputs": [],
   "source": [
    "# Objective \n",
    "m_cont += lpSum([coeff[s]['L'] * y[s]['L'] for s in (species + species_new)])"
   ]
  },
  {
   "cell_type": "markdown",
   "metadata": {
    "slideshow": {
     "slide_type": "subslide"
    }
   },
   "source": [
    "The food restriction remains the same as we do not differentiate the animals according to the sales price. The number of animals used at the regular rate is limited to 100 and the amount of discount and regular animals must be less than the number of available animals."
   ]
  },
  {
   "cell_type": "code",
   "execution_count": 21,
   "metadata": {
    "slideshow": {
     "slide_type": "-"
    }
   },
   "outputs": [],
   "source": [
    "# Constraints\n",
    "for f in foods:  \n",
    "    for h in habitats:\n",
    "        m_cont += lpSum([consum[s][f] * x[s][h] for s in species]) <= (biomass[f][h]/100)\n",
    "            \n",
    "for s in species:\n",
    "    if s in species_disc:\n",
    "        m_cont += lpSum(coeff[s]['y'] * x[s][h] for h in habitats) >= (y[(s+'Disc')]['L'] + y[s]['L'])\n",
    "        m_cont += y[s]['L'] <= 100\n",
    "    else:\n",
    "        m_cont += lpSum(coeff[s]['y'] * x[s][h] for h in habitats) >= y[s]['L']"
   ]
  },
  {
   "cell_type": "code",
   "execution_count": 22,
   "metadata": {
    "scrolled": true,
    "slideshow": {
     "slide_type": "subslide"
    }
   },
   "outputs": [
    {
     "name": "stdout",
     "output_type": "stream",
     "text": [
      "Optimal : Objective= 601329.8358\n",
      "                     1          2           3\n",
      "Elephant      0.000000    0.00000     0.00000\n",
      "WhiteRhino  410.854770  383.11568  1272.49820\n",
      "BlackRhino    0.000000    0.00000     0.00000\n",
      "Giraffe      59.322886  156.16327   784.51385\n",
      "Buffalo       0.000000    0.00000     0.00000\n",
      "Eland       132.161290  245.45161   913.34516\n",
      "Zebra         0.000000    0.00000     0.00000\n",
      "Roan          0.000000    0.00000     0.00000\n",
      "                         L\n",
      "Elephant          0.000000\n",
      "WhiteRhino      100.000000\n",
      "BlackRhino        0.000000\n",
      "Giraffe         100.000000\n",
      "Buffalo           0.000000\n",
      "Eland           193.643710\n",
      "Zebra             0.000000\n",
      "Roan              0.000000\n",
      "WhiteRhinoDisc   65.317488\n",
      "GiraffeDisc       0.000000\n"
     ]
    }
   ],
   "source": [
    "# Solve problem\n",
    "m_cont.solve()\n",
    "print (LpStatus[m_cont.status], ': Objective=',value(m_cont.objective))\n",
    "print(pd.DataFrame([[x[s][h].varValue for h in habitats] for s in species], columns = habitats, index = species))\n",
    "    \n",
    "print(pd.DataFrame([[y[s]['L'].varValue] for s in (species+species_new)], columns=['L'], index = (species+species_new)))"
   ]
  },
  {
   "cell_type": "markdown",
   "metadata": {
    "slideshow": {
     "slide_type": "subslide"
    }
   },
   "source": [
    "Compare the solution with the one of model m5! <img src=\"images/UpToYou.png\" style=\"width:8%; float:left\">"
   ]
  }
 ],
 "metadata": {
  "celltoolbar": "Slideshow",
  "kernelspec": {
   "display_name": "Python 3",
   "language": "python",
   "name": "python3"
  },
  "language_info": {
   "codemirror_mode": {
    "name": "ipython",
    "version": 3
   },
   "file_extension": ".py",
   "mimetype": "text/x-python",
   "name": "python",
   "nbconvert_exporter": "python",
   "pygments_lexer": "ipython3",
   "version": "3.7.1"
  },
  "rise": {
   "enable_chalkboard": false,
   "overlay": "<div class='background'></div><div class='header'>WS 19/20</br>DSS</div><div class='logo'><img src='images/unilogo.png'></div><div class='bar'></div>",
   "scroll": true,
   "slideNumber": "h.v"
  },
  "toc": {
   "base_numbering": 1,
   "nav_menu": {},
   "number_sections": true,
   "sideBar": true,
   "skip_h1_title": true,
   "title_cell": "Table of Contents",
   "title_sidebar": "Contents",
   "toc_cell": true,
   "toc_position": {},
   "toc_section_display": true,
   "toc_window_display": false
  }
 },
 "nbformat": 4,
 "nbformat_minor": 2
}
