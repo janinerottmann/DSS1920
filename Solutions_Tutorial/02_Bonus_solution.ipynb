{
 "cells": [
  {
   "cell_type": "markdown",
   "metadata": {
    "cell_style": "center",
    "slideshow": {
     "slide_type": "slide"
    }
   },
   "source": [
    "<div class='bar_title'></div>\n",
    "\n",
    "*Decision Support Systems*\n",
    "\n",
    "# Bonus 01\n",
    "\n",
    "Toni Greif <br>\n",
    "\n",
    "Winter Semester 19/20"
   ]
  },
  {
   "cell_type": "markdown",
   "metadata": {
    "toc": true
   },
   "source": [
    "<h1>Table of Contents<span class=\"tocSkip\"></span></h1>\n",
    "<div class=\"toc\"><ul class=\"toc-item\"><li><span><a href=\"#Implementation\" data-toc-modified-id=\"Implementation-1\"><span class=\"toc-item-num\">1&nbsp;&nbsp;</span>Implementation</a></span></li></ul></div>"
   ]
  },
  {
   "cell_type": "code",
   "execution_count": 1,
   "metadata": {},
   "outputs": [
    {
     "name": "stdout",
     "output_type": "stream",
     "text": [
      "Requirement already satisfied: pulp in c:\\users\\toni greif\\anaconda3\\lib\\site-packages (1.6.10)\n",
      "Requirement already satisfied: pyparsing>=2.0.1 in c:\\users\\toni greif\\anaconda3\\lib\\site-packages (from pulp) (2.3.0)\n"
     ]
    }
   ],
   "source": [
    "!pip install pulp\n",
    "from pulp import *\n",
    "import pandas as pd\n",
    "from operator import add"
   ]
  },
  {
   "cell_type": "markdown",
   "metadata": {
    "slideshow": {
     "slide_type": "-"
    }
   },
   "source": [
    "## Implementation"
   ]
  },
  {
   "cell_type": "code",
   "execution_count": 2,
   "metadata": {
    "cell_style": "center"
   },
   "outputs": [],
   "source": [
    "# Create model\n",
    "m = LpProblem(\"Factory Planning\", sense=pulp.LpMaximize)"
   ]
  },
  {
   "cell_type": "code",
   "execution_count": 3,
   "metadata": {},
   "outputs": [],
   "source": [
    "# Dictionaries\n",
    "profit = [10, 6, 8, 4, 11, 9, 3]\n",
    "\n",
    "num_machines= {'Grinding': 4,\n",
    "               'Drilling': 3,\n",
    "               'Boring': 1,\n",
    "               'Planing': 1}\n",
    "\n",
    "\n",
    "production_time = {'Grinding': [0.5, 0.7, 0, 0, 0.3, 0.2, 0.5],\n",
    "                   'Drilling': [0.1, 0.2, 0.8, 0.3, 0, 0.6, 0],\n",
    "                   'Boring': [0.05, 0.03, 0, 0.07, 0.1, 0, 0.8],\n",
    "                   'Planing': [0, 0, 0.01, 0, 0.05, 0, 0.05]}\n",
    "\n",
    "demand = {1: [500, 1000, 300, 300, 800, 200, 100],\n",
    "          2: [600, 500, 200, 0, 400, 300, 150],\n",
    "          3: [300, 600, 0, 0, 500, 400, 100],\n",
    "          4: [200, 300, 400, 500, 200, 0, 100],\n",
    "          5: [0, 100, 500, 100, 1000, 300, 0],\n",
    "          6: [500, 500, 100, 300, 1100, 500, 60]}\n",
    "\n",
    "maintenance = {1: {'Grinding': 1, 'Drilling': 0, 'Boring': 0, 'Planing': 0},\n",
    "               2: {'Grinding': 0, 'Drilling': 0, 'Boring': 0, 'Planing': 0},\n",
    "               3: {'Grinding': 0, 'Drilling': 0, 'Boring': 1, 'Planing': 0},\n",
    "               4: {'Grinding': 0, 'Drilling': 1, 'Boring': 0, 'Planing': 0},\n",
    "               5: {'Grinding': 1, 'Drilling': 1, 'Boring': 0, 'Planing': 0},\n",
    "               6: {'Grinding': 0, 'Drilling': 0, 'Boring': 0, 'Planing': 1}}\n",
    "\n",
    "costs = {1: {'Grinding': 0.5, 'Drilling': 0.4, 'Boring': 0.4, 'Planing': 0.3},\n",
    "         2: {'Grinding': 0.7, 'Drilling': 0.8, 'Boring': 0.7, 'Planing': 0.6},\n",
    "         3: {'Grinding': 1.2, 'Drilling': 1.2, 'Boring': 1.2, 'Planing': 1.3},\n",
    "         4: {'Grinding': 1, 'Drilling': 1.1, 'Boring': 1.1, 'Planing': 1.4},\n",
    "         5: {'Grinding': 0.8, 'Drilling': 0.6, 'Boring': 0.4, 'Planing': 0.5},\n",
    "         6: {'Grinding': 1, 'Drilling': 1.2, 'Boring': 1.8, 'Planing': 1}}"
   ]
  },
  {
   "cell_type": "code",
   "execution_count": 4,
   "metadata": {},
   "outputs": [],
   "source": [
    "# Sets\n",
    "products = range(len(profit))\n",
    "machines = production_time.keys()\n",
    "periods = demand.keys()"
   ]
  },
  {
   "cell_type": "code",
   "execution_count": 5,
   "metadata": {},
   "outputs": [],
   "source": [
    "# Parameters\n",
    "store_ub = 400\n",
    "store_costs_per_unit = 0.05\n",
    "final_storage = 0\n",
    "\n",
    "days_per_period = 24\n",
    "hours_per_shift = 8\n",
    "shifts_per_day = 2"
   ]
  },
  {
   "cell_type": "code",
   "execution_count": 6,
   "metadata": {},
   "outputs": [],
   "source": [
    "# Variables\n",
    "make = LpVariable.dicts(\"make\", (products, periods), lowBound=0, cat='Continuous')\n",
    "sell = LpVariable.dicts(\"sell\", (products, periods), lowBound=0, cat='Continuous')\n",
    "store = LpVariable.dicts(\"store\", (products, periods), lowBound=0, upBound=store_ub, cat='Continuous')\n",
    "\n",
    "# Objective\n",
    "m += lpSum([profit[pro] * sell[pro][per]\n",
    "            - store_costs_per_unit * store[pro][per] for pro in products for per in periods])"
   ]
  },
  {
   "cell_type": "code",
   "execution_count": 7,
   "metadata": {},
   "outputs": [],
   "source": [
    "# Constraints\n",
    "for mach in machines:  \n",
    "    for per in periods:\n",
    "        m += lpSum([production_time[mach][pro] * make[pro][per] for pro in products]) <= hours_per_shift * shifts_per_day * days_per_period * (num_machines[mach] - maintenance[per][mach])\n",
    "        \n",
    "for pro in products:\n",
    "    m += store[pro][6] == final_storage\n",
    "     \n",
    "for pro in products:\n",
    "    for per in periods:\n",
    "        m += sell[pro][per] <= demand[per][pro]\n",
    "\n",
    "for pro in products:\n",
    "    for per in periods:\n",
    "        if per == 1:\n",
    "            m += 0 + make[pro][1] == sell[pro][1] + store[pro][1]\n",
    "        else:\n",
    "            m += store[pro][per-1] + make[pro][per] == sell[pro][per] + store[pro][per]   "
   ]
  },
  {
   "cell_type": "code",
   "execution_count": 8,
   "metadata": {},
   "outputs": [
    {
     "name": "stdout",
     "output_type": "stream",
     "text": [
      "Optimal\n",
      "105573.42858\n"
     ]
    }
   ],
   "source": [
    "# Solve problem\n",
    "m.solve()\n",
    "print (LpStatus[m.status])\n",
    "print (value(m.objective))"
   ]
  },
  {
   "cell_type": "code",
   "execution_count": 9,
   "metadata": {},
   "outputs": [
    {
     "name": "stdout",
     "output_type": "stream",
     "text": [
      "    0  1           2           3      4\n",
      "0   0  1   500.00000   500.00000    0.0\n",
      "1   0  2   900.00000   600.00000  300.0\n",
      "2   0  3     0.00000   300.00000    0.0\n",
      "3   0  4   200.00000   200.00000    0.0\n",
      "4   0  5     0.00000     0.00000    0.0\n",
      "5   0  6   500.00000   500.00000    0.0\n",
      "6   1  1   888.57143   888.57143    0.0\n",
      "7   1  2   900.00000   500.00000  400.0\n",
      "8   1  3     0.00000   400.00000    0.0\n",
      "9   1  4   300.00000   300.00000    0.0\n",
      "10  1  5   100.00000   100.00000    0.0\n",
      "11  1  6   500.00000   500.00000    0.0\n",
      "12  2  1   300.00000   300.00000    0.0\n",
      "13  2  2   200.00000   200.00000    0.0\n",
      "14  2  3     0.00000     0.00000    0.0\n",
      "15  2  4   400.00000   400.00000    0.0\n",
      "16  2  5   600.00000   500.00000  100.0\n",
      "17  2  6     0.00000   100.00000    0.0\n",
      "18  3  1   300.00000   300.00000    0.0\n",
      "19  3  2     0.00000     0.00000    0.0\n",
      "20  3  3     0.00000     0.00000    0.0\n",
      "21  3  4   500.00000   500.00000    0.0\n",
      "22  3  5   100.00000   100.00000    0.0\n",
      "23  3  6   300.00000   300.00000    0.0\n",
      "24  4  1   800.00000   800.00000    0.0\n",
      "25  4  2   800.00000   400.00000  400.0\n",
      "26  4  3     0.00000   400.00000    0.0\n",
      "27  4  4   200.00000   200.00000    0.0\n",
      "28  4  5  1400.00000  1000.00000  400.0\n",
      "29  4  6     0.00000   400.00000    0.0\n",
      "30  5  1   200.00000   200.00000    0.0\n",
      "31  5  2   300.00000   300.00000    0.0\n",
      "32  5  3   400.00000   400.00000    0.0\n",
      "33  5  4     0.00000     0.00000    0.0\n",
      "34  5  5   300.00000   300.00000    0.0\n",
      "35  5  6   500.00000   500.00000    0.0\n",
      "36  6  1     0.00000     0.00000    0.0\n",
      "37  6  2   250.00000   150.00000  100.0\n",
      "38  6  3     0.00000   100.00000    0.0\n",
      "39  6  4   100.00000   100.00000    0.0\n",
      "40  6  5    60.00000     0.00000   60.0\n",
      "41  6  6     0.00000    60.00000    0.0\n",
      "0      126.00000\n",
      "1      147.00000\n",
      "2    12798.57143\n",
      "3    12798.57143\n",
      "4     1760.00000\n",
      "dtype: float64\n"
     ]
    }
   ],
   "source": [
    "out = [[pro, per, make[pro][per].varValue, sell[pro][per].varValue, store[pro][per].varValue]\n",
    "       for pro in products for per in periods]\n",
    "print (pd.DataFrame(out))\n",
    "print(pd.DataFrame(out).sum())"
   ]
  },
  {
   "cell_type": "code",
   "execution_count": 10,
   "metadata": {},
   "outputs": [
    {
     "name": "stdout",
     "output_type": "stream",
     "text": [
      "[0.65, 0.9299999999999999, 0.81, 0.37, 0.45, 0.8, 1.35]\n",
      "[10.65, 6.93, 8.81, 4.37, 11.45, 9.8, 4.35]\n"
     ]
    }
   ],
   "source": [
    "mean_costs = pd.DataFrame(production_time).sum(axis=1).tolist()\n",
    "prices =  [sum(x) for x in zip(profit, mean_costs)]\n",
    "print(mean_costs)\n",
    "print(prices)"
   ]
  },
  {
   "cell_type": "code",
   "execution_count": 11,
   "metadata": {},
   "outputs": [
    {
     "data": {
      "text/plain": [
       "107638.15143784002"
      ]
     },
     "execution_count": 11,
     "metadata": {},
     "output_type": "execute_result"
    }
   ],
   "source": [
    "lpSum([prices[pro] * sell[pro][per].varValue - store_costs_per_unit * store[pro][per].varValue \n",
    "       for pro in products for per in periods]\n",
    "     +[production_time[mach][pro] * make[pro][per].varValue * -costs[per][mach]\n",
    "       for pro in products for per in periods for mach in machines])"
   ]
  },
  {
   "cell_type": "code",
   "execution_count": 12,
   "metadata": {
    "scrolled": true
   },
   "outputs": [
    {
     "name": "stderr",
     "output_type": "stream",
     "text": [
      "C:\\Users\\Toni Greif\\Anaconda3\\lib\\site-packages\\pulp\\pulp.py:1349: UserWarning: Overwriting previously set objective.\n",
      "  warnings.warn(\"Overwriting previously set objective.\")\n"
     ]
    }
   ],
   "source": [
    "# Objective\n",
    "m += lpSum([prices[pro] * sell[pro][per] - store_costs_per_unit * store[pro][per] \n",
    "       for pro in products for per in periods]\n",
    "     +[production_time[mach][pro] * make[pro][per] * -costs[per][mach]\n",
    "       for pro in products for per in periods for mach in machines])"
   ]
  },
  {
   "cell_type": "code",
   "execution_count": 13,
   "metadata": {},
   "outputs": [
    {
     "name": "stdout",
     "output_type": "stream",
     "text": [
      "Optimal\n",
      "108050.70143784002\n"
     ]
    }
   ],
   "source": [
    "# Solve problem\n",
    "m.solve()\n",
    "print (LpStatus[m.status])\n",
    "print (value(m.objective))"
   ]
  },
  {
   "cell_type": "code",
   "execution_count": 14,
   "metadata": {
    "scrolled": true
   },
   "outputs": [
    {
     "name": "stdout",
     "output_type": "stream",
     "text": [
      "    0  1           2           3      4\n",
      "0   0  1   500.00000   500.00000    0.0\n",
      "1   0  2   900.00000   600.00000  300.0\n",
      "2   0  3     0.00000   300.00000    0.0\n",
      "3   0  4   200.00000   200.00000    0.0\n",
      "4   0  5   400.00000     0.00000  400.0\n",
      "5   0  6   100.00000   500.00000    0.0\n",
      "6   1  1   888.57143   888.57143    0.0\n",
      "7   1  2   900.00000   500.00000  400.0\n",
      "8   1  3     0.00000   400.00000    0.0\n",
      "9   1  4   300.00000   300.00000    0.0\n",
      "10  1  5   500.00000   100.00000  400.0\n",
      "11  1  6   100.00000   500.00000    0.0\n",
      "12  2  1   700.00000   300.00000  400.0\n",
      "13  2  2   200.00000   200.00000  400.0\n",
      "14  2  3     0.00000     0.00000  400.0\n",
      "15  2  4   400.00000   400.00000  400.0\n",
      "16  2  5   200.00000   500.00000  100.0\n",
      "17  2  6     0.00000   100.00000    0.0\n",
      "18  3  1   700.00000   300.00000  400.0\n",
      "19  3  2     0.00000     0.00000  400.0\n",
      "20  3  3     0.00000     0.00000  400.0\n",
      "21  3  4   100.00000   500.00000    0.0\n",
      "22  3  5   400.00000   100.00000  300.0\n",
      "23  3  6     0.00000   300.00000    0.0\n",
      "24  4  1   800.00000   800.00000    0.0\n",
      "25  4  2   800.00000   400.00000  400.0\n",
      "26  4  3     0.00000   400.00000    0.0\n",
      "27  4  4   200.00000   200.00000    0.0\n",
      "28  4  5  1400.00000  1000.00000  400.0\n",
      "29  4  6     0.00000   400.00000    0.0\n",
      "30  5  1   200.00000   200.00000    0.0\n",
      "31  5  2   455.00000   300.00000  155.0\n",
      "32  5  3   245.00000   400.00000    0.0\n",
      "33  5  4     0.00000     0.00000    0.0\n",
      "34  5  5   580.00000   300.00000  280.0\n",
      "35  5  6   220.00000   500.00000    0.0\n",
      "36  6  1     0.00000     0.00000    0.0\n",
      "37  6  2   250.00000   150.00000  100.0\n",
      "38  6  3     0.00000   100.00000    0.0\n",
      "39  6  4   100.00000   100.00000    0.0\n",
      "40  6  5    60.00000     0.00000   60.0\n",
      "41  6  6     0.00000    60.00000    0.0\n",
      "0      126.00000\n",
      "1      147.00000\n",
      "2    12798.57143\n",
      "3    12798.57143\n",
      "4     6095.00000\n",
      "dtype: float64\n"
     ]
    }
   ],
   "source": [
    "out_ext = [[pro, per, make[pro][per].varValue, sell[pro][per].varValue, store[pro][per].varValue]\n",
    "           for pro in products for per in periods]\n",
    "print (pd.DataFrame(out_ext))\n",
    "print(pd.DataFrame(out_ext).sum())"
   ]
  }
 ],
 "metadata": {
  "celltoolbar": "Slideshow",
  "kernelspec": {
   "display_name": "Python 3",
   "language": "python",
   "name": "python3"
  },
  "language_info": {
   "codemirror_mode": {
    "name": "ipython",
    "version": 3
   },
   "file_extension": ".py",
   "mimetype": "text/x-python",
   "name": "python",
   "nbconvert_exporter": "python",
   "pygments_lexer": "ipython3",
   "version": "3.7.1"
  },
  "rise": {
   "enable_chalkboard": false,
   "overlay": "<div class='background'></div><div class='header'>WS 19/20</br>DSS</div><div class='logo'><img src='images/unilogo.png'></div><div class='bar'></div>",
   "scroll": true,
   "slideNumber": "h.v"
  },
  "toc": {
   "base_numbering": 1,
   "nav_menu": {},
   "number_sections": true,
   "sideBar": true,
   "skip_h1_title": true,
   "title_cell": "Table of Contents",
   "title_sidebar": "Contents",
   "toc_cell": true,
   "toc_position": {},
   "toc_section_display": true,
   "toc_window_display": false
  }
 },
 "nbformat": 4,
 "nbformat_minor": 2
}
