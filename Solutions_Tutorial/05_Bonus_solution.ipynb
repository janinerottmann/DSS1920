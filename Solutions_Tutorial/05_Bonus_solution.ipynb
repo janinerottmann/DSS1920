{
 "cells": [
  {
   "cell_type": "markdown",
   "metadata": {
    "cell_style": "center",
    "slideshow": {
     "slide_type": "slide"
    }
   },
   "source": [
    "<div class='bar_title'></div>\n",
    "\n",
    "*Decision Support Systems*\n",
    "\n",
    "# Headline\n",
    "\n",
    "student1, student2, student3, student,4 <br>\n",
    "\n",
    "Winter Semester 19/20"
   ]
  },
  {
   "cell_type": "markdown",
   "metadata": {
    "toc": true
   },
   "source": [
    "<h1>Table of Contents<span class=\"tocSkip\"></span></h1>\n",
    "<div class=\"toc\"><ul class=\"toc-item\"><li><span><a href=\"#Data-Preparation\" data-toc-modified-id=\"Data-Preparation-1\"><span class=\"toc-item-num\">1&nbsp;&nbsp;</span>Data Preparation</a></span></li><li><span><a href=\"#Implementation\" data-toc-modified-id=\"Implementation-2\"><span class=\"toc-item-num\">2&nbsp;&nbsp;</span>Implementation</a></span></li></ul></div>"
   ]
  },
  {
   "cell_type": "code",
   "execution_count": 1,
   "metadata": {},
   "outputs": [
    {
     "name": "stdout",
     "output_type": "stream",
     "text": [
      "Requirement already satisfied: pulp in c:\\users\\toni greif\\anaconda3\\lib\\site-packages (1.6.10)\n",
      "Requirement already satisfied: pyparsing>=2.0.1 in c:\\users\\toni greif\\anaconda3\\lib\\site-packages (from pulp) (2.3.0)\n"
     ]
    }
   ],
   "source": [
    "!pip install pulp\n",
    "from pulp import *\n",
    "import pandas as pd\n",
    "import matplotlib.pyplot as plt"
   ]
  },
  {
   "cell_type": "markdown",
   "metadata": {},
   "source": [
    "## Data Preparation"
   ]
  },
  {
   "cell_type": "code",
   "execution_count": 2,
   "metadata": {},
   "outputs": [],
   "source": [
    "df_demand = pd.read_csv(\"https://github.com/wi3jmu/DSS1920/raw/master/Data/Bandwith_demand.csv\", index_col=0)\n",
    "df_supply = pd.read_csv(\"https://github.com/wi3jmu/DSS1920/raw/master/Data/Bandwith_supply.csv\", index_col=0)"
   ]
  },
  {
   "cell_type": "code",
   "execution_count": 3,
   "metadata": {},
   "outputs": [
    {
     "data": {
      "text/html": [
       "<div>\n",
       "<style scoped>\n",
       "    .dataframe tbody tr th:only-of-type {\n",
       "        vertical-align: middle;\n",
       "    }\n",
       "\n",
       "    .dataframe tbody tr th {\n",
       "        vertical-align: top;\n",
       "    }\n",
       "\n",
       "    .dataframe thead th {\n",
       "        text-align: right;\n",
       "    }\n",
       "</style>\n",
       "<table border=\"1\" class=\"dataframe\">\n",
       "  <thead>\n",
       "    <tr style=\"text-align: right;\">\n",
       "      <th></th>\n",
       "      <th>region</th>\n",
       "      <th>area</th>\n",
       "      <th>usage</th>\n",
       "    </tr>\n",
       "  </thead>\n",
       "  <tbody>\n",
       "    <tr>\n",
       "      <th>44851</th>\n",
       "      <td>B</td>\n",
       "      <td>BD</td>\n",
       "      <td>344.0</td>\n",
       "    </tr>\n",
       "    <tr>\n",
       "      <th>257130</th>\n",
       "      <td>C</td>\n",
       "      <td>CW</td>\n",
       "      <td>200.0</td>\n",
       "    </tr>\n",
       "    <tr>\n",
       "      <th>188337</th>\n",
       "      <td>C</td>\n",
       "      <td>CH</td>\n",
       "      <td>176.0</td>\n",
       "    </tr>\n",
       "  </tbody>\n",
       "</table>\n",
       "</div>"
      ],
      "text/plain": [
       "       region area  usage\n",
       "44851       B   BD  344.0\n",
       "257130      C   CW  200.0\n",
       "188337      C   CH  176.0"
      ]
     },
     "execution_count": 3,
     "metadata": {},
     "output_type": "execute_result"
    }
   ],
   "source": [
    "df_demand.head(3)"
   ]
  },
  {
   "cell_type": "code",
   "execution_count": 4,
   "metadata": {},
   "outputs": [
    {
     "data": {
      "text/html": [
       "<div>\n",
       "<style scoped>\n",
       "    .dataframe tbody tr th:only-of-type {\n",
       "        vertical-align: middle;\n",
       "    }\n",
       "\n",
       "    .dataframe tbody tr th {\n",
       "        vertical-align: top;\n",
       "    }\n",
       "\n",
       "    .dataframe thead th {\n",
       "        text-align: right;\n",
       "    }\n",
       "</style>\n",
       "<table border=\"1\" class=\"dataframe\">\n",
       "  <thead>\n",
       "    <tr style=\"text-align: right;\">\n",
       "      <th></th>\n",
       "      <th>area</th>\n",
       "      <th>supply</th>\n",
       "    </tr>\n",
       "  </thead>\n",
       "  <tbody>\n",
       "    <tr>\n",
       "      <th>0</th>\n",
       "      <td>AL</td>\n",
       "      <td>303.335433</td>\n",
       "    </tr>\n",
       "    <tr>\n",
       "      <th>1</th>\n",
       "      <td>BB</td>\n",
       "      <td>300.613403</td>\n",
       "    </tr>\n",
       "    <tr>\n",
       "      <th>2</th>\n",
       "      <td>BD</td>\n",
       "      <td>342.146102</td>\n",
       "    </tr>\n",
       "  </tbody>\n",
       "</table>\n",
       "</div>"
      ],
      "text/plain": [
       "  area      supply\n",
       "0   AL  303.335433\n",
       "1   BB  300.613403\n",
       "2   BD  342.146102"
      ]
     },
     "execution_count": 4,
     "metadata": {},
     "output_type": "execute_result"
    }
   ],
   "source": [
    "df_supply.head(3)"
   ]
  },
  {
   "cell_type": "code",
   "execution_count": 5,
   "metadata": {
    "scrolled": true
   },
   "outputs": [],
   "source": [
    "# lists\n",
    "customers = list(df_demand.index)\n",
    "regions = list(df_demand.region.unique())\n",
    "areas = list(df_supply.area)\n",
    "\n",
    "#dictionaries\n",
    "supply = df_supply.set_index('area')['supply'].to_dict()\n",
    "demand = df_demand['usage'].to_dict()\n",
    "\n",
    "region_of_customer = [(r,c) for c,r in df_demand['region'].to_dict().items()]\n",
    "customers_per_region = {k: len([1 for (r,c) in region_of_customer if k==r]) for k in regions}\n",
    "area_of_customer = [(a,c) for c,a in df_demand['area'].to_dict().items()]\n",
    "areas_of_region = [(a,r) for a,r in df_demand[['region','area']].drop_duplicates().set_index('area')['region'].to_dict().items()]\n",
    "areas_of_customer = [(a,c) for (r,c) in region_of_customer for a in areas if (a,r) in areas_of_region]"
   ]
  },
  {
   "cell_type": "markdown",
   "metadata": {
    "slideshow": {
     "slide_type": "-"
    }
   },
   "source": [
    "## Implementation"
   ]
  },
  {
   "cell_type": "code",
   "execution_count": 6,
   "metadata": {},
   "outputs": [
    {
     "name": "stdout",
     "output_type": "stream",
     "text": [
      "Optimal\n",
      "1456.4124\n",
      "46.487568\n",
      "178.02469787466333\n"
     ]
    }
   ],
   "source": [
    "# Create model\n",
    "m1 = LpProblem(\"Bandwith\", sense=pulp.LpMinimize)\n",
    "\n",
    "# Variables\n",
    "x = LpVariable.dicts(\"gb\", areas_of_customer, lowBound=0, cat='Continuous')\n",
    "z = LpVariable(\"z\", lowBound=0, cat='Continuous')\n",
    "\n",
    "# Objective\n",
    "m1 += z\n",
    "\n",
    "# Constraints\n",
    "for r1 in regions:\n",
    "    for r2 in regions:   \n",
    "        m1 += lpSum([x[(a,c)] for (a,c) in areas_of_customer if ((a,r1) in areas_of_region)]+\n",
    "                   [-x[(a,c)] for (a,c) in areas_of_customer if ((a,r2) in areas_of_region)]) <= z\n",
    "\n",
    "for k in areas:\n",
    "    m1 += lpSum([x[a,c] for (a,c) in areas_of_customer if a==k]) <= supply[k]\n",
    "    \n",
    "for k in customers:\n",
    "    m1 += lpSum([x[a,c] for (a,c) in areas_of_customer if c==k]) >= 0.7*demand[k]\n",
    "    \n",
    "# Solve problem\n",
    "m1.solve()\n",
    "print (LpStatus[m1.status])\n",
    "obj1 = value(m1.objective)\n",
    "\n",
    "out = [sum([x[(a,c)].varValue for (a,c) in areas_of_customer if ((a,r) in areas_of_region)]) /\n",
    "       customers_per_region[r] for r in regions]\n",
    "\n",
    "print(obj1)\n",
    "print(min(out))\n",
    "print(sum(out)/len(out))"
   ]
  },
  {
   "cell_type": "code",
   "execution_count": 7,
   "metadata": {},
   "outputs": [
    {
     "name": "stdout",
     "output_type": "stream",
     "text": [
      "Optimal\n",
      "2062.992242\n",
      "46.487568\n",
      "223.69325955563974\n"
     ]
    }
   ],
   "source": [
    "# Create model\n",
    "m1 = LpProblem(\"Bandwith\", sense=pulp.LpMaximize)\n",
    "\n",
    "# Variables\n",
    "x = LpVariable.dicts(\"gb\", areas_of_customer, lowBound=0, cat='Continuous')\n",
    "z = LpVariable(\"z\", lowBound=0, cat='Continuous')\n",
    "\n",
    "# Objective\n",
    "m1 += z\n",
    "\n",
    "# Constraints\n",
    "for r in regions:\n",
    "    m1 += lpSum([x[(a,c)] for (a,c) in areas_of_customer if ((a,r) in areas_of_region)]) >= z * customers_per_region[r]\n",
    "\n",
    "for k in areas:\n",
    "    m1 += lpSum([x[a,c] for (a,c) in areas_of_customer if a==k]) <= supply[k]\n",
    "    \n",
    "for k in customers:\n",
    "    m1 += lpSum([x[a,c] for (a,c) in areas_of_customer if c==k]) >= 0.7*demand[k]\n",
    "    \n",
    "# Solve problem\n",
    "m1.solve()\n",
    "print (LpStatus[m1.status])\n",
    "obj1 = value(m1.objective)\n",
    "\n",
    "out = [sum([x[(a,c)].varValue for (a,c) in areas_of_customer if ((a,r) in areas_of_region)]) /\n",
    "       customers_per_region[r] for r in regions]\n",
    "diff = [sum([x[(a,c)].varValue for (a,c) in areas_of_customer if ((a,r1) in areas_of_region)]+\n",
    "              [-x[(a,c)].varValue for (a,c) in areas_of_customer if ((a,r2) in areas_of_region)]) \n",
    "        for r1 in regions for r2 in regions]\n",
    "\n",
    "print(max(diff))\n",
    "print(obj1)\n",
    "print(sum(out)/len(out))"
   ]
  },
  {
   "cell_type": "code",
   "execution_count": 8,
   "metadata": {
    "scrolled": true
   },
   "outputs": [
    {
     "name": "stdout",
     "output_type": "stream",
     "text": [
      "Constraint  | Shadow Price | Slack\n",
      "_C1 | -0.000000 | -720.095320\n",
      "_C2 | -0.000000 | -1598.116600\n",
      "_C3 | -0.000000 | -495.109140\n",
      "_C4 | -0.000000 | -256.575590\n",
      "_C5 | -0.000000 | -1468.926600\n",
      "_C6 | -0.000000 | -297.366370\n",
      "_C7 | -0.000000 | -1016.982700\n",
      "_C8 | -0.000000 | -85.881726\n",
      "_C9 | -0.000000 | -251.712430\n",
      "_C10 | -0.000000 | -1681.012300\n",
      "_C11 | -0.000000 | -175.412430\n",
      "_C12 | -0.000000 | -178.749730\n",
      "_C13 | -0.000000 | -702.716370\n",
      "_C14 | -0.000000 | -190.528900\n",
      "_C15 | -0.000000 | -1217.162000\n",
      "_C16 | -0.000000 | -136.337300\n",
      "_C17 | -0.000000 | -602.255070\n",
      "_C18 | -1.000000 | -0.000000\n",
      "_C19 | -0.000000 | 81.435433\n",
      "_C20 | -0.000000 | 0.000003\n",
      "_C21 | -0.000000 | 0.000002\n",
      "_C22 | -0.000000 | -0.000003\n",
      "_C23 | -0.000000 | -0.000003\n",
      "_C24 | -0.000000 | -0.000001\n",
      "_C25 | -0.000000 | 0.000001\n",
      "_C26 | -0.000000 | 0.000005\n",
      "_C27 | -0.000000 | -0.000005\n",
      "_C28 | -0.000000 | -0.000005\n",
      "_C29 | -0.000000 | -0.000001\n",
      "_C30 | -0.000000 | 0.000002\n",
      "_C31 | -0.000000 | 0.000002\n",
      "_C32 | -0.000000 | -0.000004\n",
      "_C33 | -0.000000 | 0.000002\n",
      "_C34 | 0.000000 | 0.000003\n",
      "_C35 | 0.000000 | 0.000000\n",
      "_C36 | 0.000000 | 0.000002\n",
      "_C37 | -0.000000 | -0.000002\n",
      "_C38 | -0.000000 | 0.000000\n",
      "_C39 | -0.000000 | -0.000000\n",
      "_C40 | -0.000000 | 0.000000\n",
      "_C41 | -0.000000 | 101.399288\n",
      "_C42 | -0.000000 | 139.927836\n",
      "_C43 | -0.000000 | 0.000003\n",
      "_C44 | -0.000000 | -0.000000\n",
      "_C45 | -0.000000 | 0.000001\n",
      "_C46 | -0.000000 | 150.177541\n",
      "_C47 | 0.000000 | -0.000002\n",
      "_C48 | -0.000000 | -0.000005\n",
      "_C49 | -0.000000 | -0.000002\n",
      "_C50 | 0.000000 | 0.000004\n",
      "_C51 | -0.000000 | 0.000001\n",
      "_C52 | -0.000000 | 0.000003\n",
      "_C53 | -0.000000 | -0.000000\n",
      "_C54 | -0.000000 | 0.000003\n",
      "_C55 | -0.000000 | 0.000002\n",
      "_C56 | -0.000000 | -0.000002\n",
      "_C57 | -0.000000 | 0.000000\n",
      "_C58 | -0.000000 | -0.000003\n",
      "_C59 | -0.000000 | 0.000003\n",
      "_C60 | -0.000000 | 0.000002\n",
      "_C61 | -0.000000 | -0.000000\n",
      "_C62 | -0.000000 | -0.000004\n",
      "_C63 | 1.000000 | 0.000000\n",
      "_C64 | -0.000000 | -59.813400\n",
      "_C65 | -0.000000 | -0.000000\n",
      "_C66 | -0.000000 | -74.656260\n",
      "_C67 | -0.000000 | -79.133760\n",
      "_C68 | -0.000000 | -0.000000\n",
      "_C69 | -0.000000 | -522.152050\n",
      "_C70 | -0.000000 | -96.053940\n",
      "_C71 | -0.000000 | -343.345780\n",
      "_C72 | -0.000000 | -42.069290\n",
      "_C73 | 0.000000 | -0.000000\n",
      "_C74 | -0.000000 | -198.360680\n",
      "_C75 | -0.000000 | -28.048640\n",
      "_C76 | -0.000000 | -392.477040\n",
      "_C77 | -0.000000 | -0.000000\n",
      "_C78 | 0.000000 | -0.000000\n",
      "_C79 | 0.000000 | -0.000000\n",
      "_C80 | 0.000000 | -0.000000\n",
      "_C81 | -0.000000 | -0.000000\n",
      "_C82 | -0.000000 | -0.000000\n",
      "_C83 | -0.000000 | -0.000000\n",
      "_C84 | -0.000000 | -0.000000\n",
      "_C85 | -0.000000 | -0.000000\n",
      "_C86 | -0.000000 | -98.250730\n",
      "_C87 | -0.000000 | -0.000000\n",
      "_C88 | -0.000000 | -0.000000\n",
      "_C89 | -0.000000 | -253.766640\n",
      "_C90 | -0.000000 | -0.000000\n",
      "_C91 | 0.000000 | -0.000000\n",
      "_C92 | -0.000000 | -381.812260\n",
      "_C93 | -0.000000 | -194.944620\n",
      "_C94 | -0.000000 | -0.000000\n",
      "_C95 | -0.000000 | -106.038080\n",
      "_C96 | 0.000000 | -0.000000\n",
      "_C97 | -0.000000 | -0.000000\n",
      "_C98 | 0.000000 | -0.000000\n",
      "_C99 | -0.000000 | -0.000000\n",
      "_C100 | -0.000000 | -0.000000\n",
      "_C101 | -0.000000 | -87.504030\n",
      "_C102 | -0.000000 | -0.000000\n",
      "_C103 | 0.000000 | -0.000000\n",
      "_C104 | -0.000000 | -255.359380\n",
      "_C105 | -0.000000 | -141.685500\n",
      "_C106 | -0.000000 | -50.154840\n",
      "_C107 | -0.000000 | -0.000000\n",
      "_C108 | -0.000000 | -0.000000\n",
      "_C109 | -0.000000 | -0.000000\n",
      "_C110 | 0.000000 | -0.000000\n",
      "_C111 | -0.000000 | -0.000000\n",
      "_C112 | -0.000000 | -0.000000\n",
      "_C113 | -0.000000 | -0.000000\n",
      "_C114 | -0.000000 | -0.000000\n",
      "_C115 | -0.000000 | -0.000000\n",
      "_C116 | -0.000000 | -0.000000\n",
      "_C117 | -0.000000 | -212.517770\n",
      "_C118 | -0.000000 | -12.887568\n",
      "_C119 | -0.000000 | -0.000000\n",
      "_C120 | -0.000000 | -0.000000\n",
      "_C121 | -0.000000 | -31.362310\n",
      "_C122 | -0.000000 | -0.000000\n",
      "_C123 | -0.000000 | -0.000000\n"
     ]
    }
   ],
   "source": [
    "print(\"Constraint  | Shadow Price | Slack\")\n",
    "for c in m1.constraints:\n",
    "    print(\"%s | %f | %f\"  %(c, m1.constraints[c].pi,m1.constraints[c].slack))"
   ]
  },
  {
   "cell_type": "code",
   "execution_count": 9,
   "metadata": {},
   "outputs": [
    {
     "name": "stdout",
     "output_type": "stream",
     "text": [
      "Optimal\n",
      "2062.992242\n",
      "46.487568\n",
      "223.69325955563974\n"
     ]
    }
   ],
   "source": [
    "# Create model\n",
    "m1 = LpProblem(\"Bandwith\", sense=pulp.LpMaximize)\n",
    "\n",
    "# Variables\n",
    "x = LpVariable.dicts(\"gb\", areas_of_customer, lowBound=0, cat='Continuous')\n",
    "z = LpVariable(\"z\", lowBound=0, cat='Continuous')\n",
    "\n",
    "# Objective\n",
    "m1 += z\n",
    "\n",
    "# Constraints\n",
    "for r in regions:\n",
    "    #if r!='Y':\n",
    "        m1 += lpSum([x[(a,c)] for (a,c) in areas_of_customer if ((a,r) in areas_of_region)]) >= z * customers_per_region[r]\n",
    "\n",
    "for k in areas:\n",
    "    m1 += lpSum([x[a,c] for (a,c) in areas_of_customer if a==k]) <= supply[k]\n",
    "    \n",
    "for k in customers:\n",
    "    m1 += lpSum([x[a,c] for (a,c) in areas_of_customer if c==k]) >= 0.7*demand[k]\n",
    "\n",
    "# Solve problem\n",
    "m1.solve()\n",
    "print (LpStatus[m1.status])\n",
    "obj1 = value(m1.objective)\n",
    "\n",
    "out = [sum([x[(a,c)].varValue for (a,c) in areas_of_customer if ((a,r) in areas_of_region)]) /\n",
    "       customers_per_region[r] for r in regions]\n",
    "diff = [sum([x[(a,c)].varValue for (a,c) in areas_of_customer if ((a,r1) in areas_of_region)]+\n",
    "              [-x[(a,c)].varValue for (a,c) in areas_of_customer if ((a,r2) in areas_of_region)]) \n",
    "        for r1 in regions for r2 in regions]\n",
    "\n",
    "print(max(diff))\n",
    "print(obj1)\n",
    "print(sum(out)/len(out))"
   ]
  }
 ],
 "metadata": {
  "celltoolbar": "Slideshow",
  "kernelspec": {
   "display_name": "Python 3",
   "language": "python",
   "name": "python3"
  },
  "language_info": {
   "codemirror_mode": {
    "name": "ipython",
    "version": 3
   },
   "file_extension": ".py",
   "mimetype": "text/x-python",
   "name": "python",
   "nbconvert_exporter": "python",
   "pygments_lexer": "ipython3",
   "version": "3.7.1"
  },
  "rise": {
   "enable_chalkboard": false,
   "overlay": "<div class='background'></div><div class='header'>WS 19/20</br>DSS</div><div class='logo'><img src='images/unilogo.png'></div><div class='bar'></div>",
   "scroll": true,
   "slideNumber": "h.v"
  },
  "toc": {
   "base_numbering": 1,
   "nav_menu": {},
   "number_sections": true,
   "sideBar": true,
   "skip_h1_title": true,
   "title_cell": "Table of Contents",
   "title_sidebar": "Contents",
   "toc_cell": true,
   "toc_position": {},
   "toc_section_display": true,
   "toc_window_display": false
  }
 },
 "nbformat": 4,
 "nbformat_minor": 2
}
