{
 "cells": [
  {
   "cell_type": "markdown",
   "metadata": {
    "cell_style": "center",
    "slideshow": {
     "slide_type": "slide"
    }
   },
   "source": [
    "<div class='bar_title'></div>\n",
    "\n",
    "*Decision Support Systems*\n",
    "\n",
    "# Headline\n",
    "\n",
    "student1, student2, student3, student,4 <br>\n",
    "\n",
    "Winter Semester 19/20"
   ]
  },
  {
   "cell_type": "markdown",
   "metadata": {
    "toc": true
   },
   "source": [
    "<h1>Table of Contents<span class=\"tocSkip\"></span></h1>\n",
    "<div class=\"toc\"><ul class=\"toc-item\"><li><span><a href=\"#Implementation\" data-toc-modified-id=\"Implementation-1\"><span class=\"toc-item-num\">1&nbsp;&nbsp;</span>Implementation</a></span></li></ul></div>"
   ]
  },
  {
   "cell_type": "code",
   "execution_count": 1,
   "metadata": {},
   "outputs": [
    {
     "name": "stdout",
     "output_type": "stream",
     "text": [
      "Requirement already satisfied: pulp in c:\\users\\toni greif\\anaconda3\\lib\\site-packages (1.6.10)\n",
      "Requirement already satisfied: pyparsing>=2.0.1 in c:\\users\\toni greif\\anaconda3\\lib\\site-packages (from pulp) (2.3.0)\n"
     ]
    }
   ],
   "source": [
    "!pip install pulp\n",
    "from pulp import *\n",
    "import pandas as pd\n",
    "import numpy as np\n",
    "import matplotlib.pyplot as plt"
   ]
  },
  {
   "cell_type": "markdown",
   "metadata": {
    "slideshow": {
     "slide_type": "-"
    }
   },
   "source": [
    "## Implementation"
   ]
  },
  {
   "cell_type": "code",
   "execution_count": 2,
   "metadata": {
    "cell_style": "center"
   },
   "outputs": [],
   "source": [
    "# Create model\n",
    "m = LpProblem(\"Wire Winding\", sense=pulp.LpMaximize)"
   ]
  },
  {
   "cell_type": "code",
   "execution_count": 3,
   "metadata": {},
   "outputs": [],
   "source": [
    "# Parameters\n",
    "demand = {'W0075C': 1400,\n",
    "          'W0033C': 250,\n",
    "          'W0005X': 1510,\n",
    "          'W0007X': 1116\n",
    "         }\n",
    "\n",
    "minOrder = {'W0075C': 150,\n",
    "            'W0033C': 0,\n",
    "            'W0005X': 0,\n",
    "            'W0007X': 600\n",
    "           }\n",
    "\n",
    "production = {'W0075C': {'material': 33, 'labour': 9.90,'overhead': 23.10},\n",
    "              'W0033C': {'material': 25, 'labour': 7.50,'overhead': 17.50},\n",
    "              'W0005X': {'material': 35, 'labour': 10.50,'overhead': 24.50},\n",
    "              'W0007X': {'material': 75, 'labour': 11.25,'overhead': 63.75}\n",
    "             }\n",
    "\n",
    "price = {'W0075C': 100,\n",
    "         'W0033C': 80,\n",
    "         'W0005X': 130,\n",
    "         'W0007X': 175}\n",
    "\n",
    "maxHours = {'drawing': 4000,\n",
    "            'extrusion': 4200,\n",
    "            'winding': 2000,\n",
    "            'packaging': 2300\n",
    "           }\n",
    "\n",
    "portion = {'W0075C': {'drawing': 1, 'extrusion': 1,'winding': 1, 'packaging': 1},\n",
    "           'W0033C': {'drawing': 2, 'extrusion': 1,'winding': 3, 'packaging': 0},\n",
    "           'W0005X': {'drawing': 0, 'extrusion': 4,'winding': 0, 'packaging': 3},\n",
    "           'W0007X': {'drawing': 1, 'extrusion': 1,'winding': 0, 'packaging': 2}\n",
    "             }\n"
   ]
  },
  {
   "cell_type": "code",
   "execution_count": 4,
   "metadata": {},
   "outputs": [],
   "source": [
    "# Variables\n",
    "x = LpVariable.dicts(\"wire windings\", production, lowBound=0, cat='Continuous')"
   ]
  },
  {
   "cell_type": "code",
   "execution_count": 5,
   "metadata": {},
   "outputs": [],
   "source": [
    "# Objective\n",
    "m += lpSum([(price[p]-production[p]['labour']-production[p]['overhead']-production[p]['material']) *\n",
    "            x[p] for p in production])"
   ]
  },
  {
   "cell_type": "code",
   "execution_count": 6,
   "metadata": {},
   "outputs": [],
   "source": [
    "# Constraints\n",
    "for p in production:\n",
    "    m += x[p] <= demand[p], \"{}_demand\".format(p)\n",
    "    m += x[p] >= minOrder[p], \"{}_minOrder\".format(p)\n",
    "\n",
    "for c in maxHours:\n",
    "    m += lpSum([portion[p][c] * x[p] for p in production] ) <= maxHours[c], \"{}\".format(c)"
   ]
  },
  {
   "cell_type": "code",
   "execution_count": 7,
   "metadata": {},
   "outputs": [
    {
     "data": {
      "text/plain": [
       "Wire Winding:\n",
       "MAXIMIZE\n",
       "60.0*wire_windings_W0005X + 25.0*wire_windings_W0007X + 30.0*wire_windings_W0033C + 34.0*wire_windings_W0075C + 0.0\n",
       "SUBJECT TO\n",
       "W0075C_demand: wire_windings_W0075C <= 1400\n",
       "\n",
       "W0075C_minOrder: wire_windings_W0075C >= 150\n",
       "\n",
       "W0033C_demand: wire_windings_W0033C <= 250\n",
       "\n",
       "W0033C_minOrder: wire_windings_W0033C >= 0\n",
       "\n",
       "W0005X_demand: wire_windings_W0005X <= 1510\n",
       "\n",
       "W0005X_minOrder: wire_windings_W0005X >= 0\n",
       "\n",
       "W0007X_demand: wire_windings_W0007X <= 1116\n",
       "\n",
       "W0007X_minOrder: wire_windings_W0007X >= 600\n",
       "\n",
       "drawing: wire_windings_W0007X + 2 wire_windings_W0033C + wire_windings_W0075C\n",
       " <= 4000\n",
       "\n",
       "extrusion: 4 wire_windings_W0005X + wire_windings_W0007X\n",
       " + wire_windings_W0033C + wire_windings_W0075C <= 4200\n",
       "\n",
       "winding: 3 wire_windings_W0033C + wire_windings_W0075C <= 2000\n",
       "\n",
       "packaging: 3 wire_windings_W0005X + 2 wire_windings_W0007X\n",
       " + wire_windings_W0075C <= 2300\n",
       "\n",
       "VARIABLES\n",
       "wire_windings_W0005X Continuous\n",
       "wire_windings_W0007X Continuous\n",
       "wire_windings_W0033C Continuous\n",
       "wire_windings_W0075C Continuous"
      ]
     },
     "execution_count": 7,
     "metadata": {},
     "output_type": "execute_result"
    }
   ],
   "source": [
    "m"
   ]
  },
  {
   "cell_type": "code",
   "execution_count": 8,
   "metadata": {},
   "outputs": [
    {
     "name": "stdout",
     "output_type": "stream",
     "text": [
      "Optimal\n",
      "59900.0\n"
     ]
    }
   ],
   "source": [
    "# Solve problem\n",
    "m.solve()\n",
    "print (LpStatus[m.status])\n",
    "obj1 = value(m.objective)\n",
    "print (obj1)"
   ]
  },
  {
   "cell_type": "code",
   "execution_count": 9,
   "metadata": {
    "scrolled": true
   },
   "outputs": [
    {
     "name": "stdout",
     "output_type": "stream",
     "text": [
      "wire_windings_W0005X 0.0\n",
      "wire_windings_W0007X 600.0\n",
      "wire_windings_W0033C 250.0\n",
      "wire_windings_W0075C 1100.0\n"
     ]
    }
   ],
   "source": [
    "for var in m.variables():\n",
    "    print(var.name, var.varValue)"
   ]
  },
  {
   "cell_type": "code",
   "execution_count": 10,
   "metadata": {},
   "outputs": [
    {
     "name": "stdout",
     "output_type": "stream",
     "text": [
      "Shadow Price | Slack of drawing: -0.000000 | 1800.000000\n",
      "Shadow Price | Slack of extrusion: -0.000000 | 2250.000000\n",
      "Shadow Price | Slack of winding: -0.000000 | 150.000000\n",
      "Shadow Price | Slack of packaging: 34.000000 | -0.000000\n",
      "Shadow Price | Slack of W0075C_demand: -0.000000 | 300.000000\n",
      "Shadow Price | Slack of W0075C_minOrder: -0.000000 | -950.000000\n",
      "Shadow Price | Slack of W0033C_demand: 30.000000 | -0.000000\n",
      "Shadow Price | Slack of W0033C_minOrder: -0.000000 | -250.000000\n",
      "Shadow Price | Slack of W0005X_demand: -0.000000 | 1510.000000\n",
      "Shadow Price | Slack of W0005X_minOrder: -0.000000 | -0.000000\n",
      "Shadow Price | Slack of W0007X_demand: -0.000000 | 516.000000\n",
      "Shadow Price | Slack of W0007X_minOrder: -43.000000 | -0.000000\n"
     ]
    }
   ],
   "source": [
    "for a in maxHours:\n",
    "    print(\"Shadow Price | Slack of %s: %f | %f\" %\n",
    "          (a, m.constraints[a].pi, m.constraints[a].slack))\n",
    "    \n",
    "for a in production:\n",
    "    print(\"Shadow Price | Slack of %s: %f | %f\" %\n",
    "          (a+'_demand', m.constraints[a+'_demand'].pi, m.constraints[a+'_demand'].slack))\n",
    "    print(\"Shadow Price | Slack of %s: %f | %f\" %\n",
    "          (a+'_minOrder', m.constraints[a+'_minOrder'].pi, m.constraints[a+'_minOrder'].slack))\n"
   ]
  },
  {
   "cell_type": "markdown",
   "metadata": {},
   "source": [
    "- No need for workers from the drawing department"
   ]
  },
  {
   "cell_type": "code",
   "execution_count": 11,
   "metadata": {},
   "outputs": [
    {
     "name": "stdout",
     "output_type": "stream",
     "text": [
      "Reduced Cost of W0075C: 0.000000\n",
      "Reduced Cost of W0033C: 0.000000\n",
      "Reduced Cost of W0005X: -42.000000\n",
      "Reduced Cost of W0007X: 0.000000\n"
     ]
    }
   ],
   "source": [
    "for p in production:\n",
    "    print(\"Reduced Cost of %s: %f\" % (p, x[p].dj))"
   ]
  },
  {
   "cell_type": "markdown",
   "metadata": {},
   "source": [
    "- Getting rid of the product would improve profits (Reduced Cost < 0)"
   ]
  },
  {
   "cell_type": "code",
   "execution_count": 12,
   "metadata": {},
   "outputs": [],
   "source": [
    "departments = {'drawing': {'maxInput': 9999,'scrap': 0},\n",
    "               'extrusion1': {'maxInput': 20,'scrap': 0},\n",
    "               'extrusion2': {'maxInput': 10,'scrap': 0},\n",
    "               'winding': {'maxInput': 45,'scrap': 0.15},\n",
    "               'inspection1': {'maxInput': 15,'scrap': 0.25},\n",
    "               'inspection2': {'maxInput': 20,'scrap': 0.25},\n",
    "               'packaging': {'maxInput': 20,'scrap': 0},\n",
    "               'storage': {'maxInput': 15,'scrap': 0}\n",
    "              }\n",
    "\n",
    "links = [('drawing','extrusion1'),\n",
    "         ('drawing','extrusion2'),\n",
    "         ('extrusion1', 'winding'),\n",
    "         ('extrusion2', 'winding'),\n",
    "         ('winding','inspection1'),\n",
    "         ('winding','inspection2'),\n",
    "         ('inspection1','packaging'),\n",
    "         ('inspection2','packaging'),\n",
    "         ('packaging','storage'),\n",
    "         ('winding','scrap'),\n",
    "         ('inspection1','scrap'),\n",
    "         ('inspection2','scrap')\n",
    "        ]"
   ]
  },
  {
   "cell_type": "code",
   "execution_count": 13,
   "metadata": {},
   "outputs": [],
   "source": [
    "m2 = LpProblem(\"Wire Winding\", LpMaximize)"
   ]
  },
  {
   "cell_type": "code",
   "execution_count": 14,
   "metadata": {},
   "outputs": [],
   "source": [
    "# A dictionary of the output variables\n",
    "x = LpVariable.dicts(\"x\",links,0)"
   ]
  },
  {
   "cell_type": "code",
   "execution_count": 15,
   "metadata": {},
   "outputs": [],
   "source": [
    "# Create objective function\n",
    "m2 += x[('packaging','storage')]"
   ]
  },
  {
   "cell_type": "code",
   "execution_count": 16,
   "metadata": {},
   "outputs": [],
   "source": [
    "for d in departments:\n",
    "    if d!= 'drawing':\n",
    "        # Supply > Demand\n",
    "        m2 += lpSum([x[(i,j)] for (i,j) in links if j==d]) * (1-departments[d]['scrap']) >= lpSum(\n",
    "            [x[(i,j)] for (i,j) in links if ((i==d) & (j!='scrap'))]), \"{}_Out\".format(d)\n",
    "                  \n",
    "        m2 += lpSum([x[(i,j)] for (i,j) in links if j==d]) * departments[d]['scrap'] == lpSum(\n",
    "            [x[(i,j)] for (i,j) in links if ((i==d) & (j=='scrap'))]), \"{}_Scrap\".format(d)\n",
    "        \n",
    "        # MaxInput > Demand\n",
    "        m2 +=departments[d]['maxInput'] >= lpSum([x[(i,j)] for (i,j) in links if j==d]), \"{}_In\".format(d)"
   ]
  },
  {
   "cell_type": "code",
   "execution_count": 17,
   "metadata": {
    "scrolled": true
   },
   "outputs": [
    {
     "name": "stdout",
     "output_type": "stream",
     "text": [
      "Status = Optimal\n",
      "15.0\n"
     ]
    }
   ],
   "source": [
    "# Optimize\n",
    "\n",
    "m2.solve()\n",
    "\n",
    "# Print the status of the solved LP\n",
    "print(\"Status = %s\" % LpStatus[m2.status])\n",
    "print(value(m2.objective))"
   ]
  },
  {
   "cell_type": "code",
   "execution_count": 18,
   "metadata": {},
   "outputs": [
    {
     "name": "stdout",
     "output_type": "stream",
     "text": [
      "x_('drawing',_'extrusion1') 20.0\n",
      "x_('drawing',_'extrusion2') 10.0\n",
      "x_('extrusion1',_'winding') 20.0\n",
      "x_('extrusion2',_'winding') 10.0\n",
      "x_('inspection1',_'packaging') 11.25\n",
      "x_('inspection1',_'scrap') 3.75\n",
      "x_('inspection2',_'packaging') 3.75\n",
      "x_('inspection2',_'scrap') 1.25\n",
      "x_('packaging',_'storage') 15.0\n",
      "x_('winding',_'inspection1') 15.0\n",
      "x_('winding',_'inspection2') 5.0\n",
      "x_('winding',_'scrap') 4.5\n"
     ]
    }
   ],
   "source": [
    "for var in m2.variables():\n",
    "    print(var.name, var.varValue)"
   ]
  },
  {
   "cell_type": "code",
   "execution_count": 19,
   "metadata": {},
   "outputs": [
    {
     "name": "stdout",
     "output_type": "stream",
     "text": [
      "Shadow Price | Slack of extrusion1_In: 0.000000 | -0.000000\n",
      "Shadow Price | Slack of extrusion1_Out: -0.000000 | -0.000000\n",
      "Shadow Price | Slack of extrusion1_Scrap: -0.000000 | -0.000000\n",
      "Shadow Price | Slack of extrusion2_In: 0.000000 | -0.000000\n",
      "Shadow Price | Slack of extrusion2_Out: -0.000000 | -0.000000\n",
      "Shadow Price | Slack of extrusion2_Scrap: -0.000000 | -0.000000\n",
      "Shadow Price | Slack of winding_In: -0.000000 | 15.000000\n",
      "Shadow Price | Slack of winding_Out: -0.000000 | -5.500000\n",
      "Shadow Price | Slack of winding_Scrap: -0.000000 | -0.000000\n",
      "Shadow Price | Slack of inspection1_In: -0.000000 | -0.000000\n",
      "Shadow Price | Slack of inspection1_Out: -0.000000 | -0.000000\n",
      "Shadow Price | Slack of inspection1_Scrap: -0.000000 | -0.000000\n",
      "Shadow Price | Slack of inspection2_In: -0.000000 | 15.000000\n",
      "Shadow Price | Slack of inspection2_Out: -0.000000 | -0.000000\n",
      "Shadow Price | Slack of inspection2_Scrap: -0.000000 | -0.000000\n",
      "Shadow Price | Slack of packaging_In: -0.000000 | 5.000000\n",
      "Shadow Price | Slack of packaging_Out: -0.000000 | -0.000000\n",
      "Shadow Price | Slack of packaging_Scrap: -0.000000 | -0.000000\n",
      "Shadow Price | Slack of storage_In: 1.000000 | -0.000000\n",
      "Shadow Price | Slack of storage_Out: -0.000000 | -15.000000\n",
      "Shadow Price | Slack of storage_Scrap: -0.000000 | -0.000000\n"
     ]
    }
   ],
   "source": [
    "for d in departments:\n",
    "    if d!= 'drawing':\n",
    "        print(\"Shadow Price | Slack of %s: %f | %f\" %\n",
    "          (d+'_In', m2.constraints[d+'_In'].pi, m2.constraints[d+'_In'].slack))\n",
    "        print(\"Shadow Price | Slack of %s: %f | %f\" %\n",
    "          (d+'_Out', m2.constraints[d+'_Out'].pi, m2.constraints[d+'_Out'].slack))\n",
    "        print(\"Shadow Price | Slack of %s: %f | %f\" %\n",
    "          (d+'_Scrap', m2.constraints[d+'_Scrap'].pi, m2.constraints[d+'_Scrap'].slack))"
   ]
  },
  {
   "cell_type": "code",
   "execution_count": 21,
   "metadata": {},
   "outputs": [],
   "source": [
    "import matplotlib.pyplot as plt\n",
    "import networkx as nx"
   ]
  },
  {
   "cell_type": "code",
   "execution_count": 58,
   "metadata": {},
   "outputs": [],
   "source": [
    "G = nx.Graph()\n",
    "for (i,j) in links:\n",
    "    G.add_edge(i, j, r=(x[(i,j)].varValue))"
   ]
  },
  {
   "cell_type": "code",
   "execution_count": 59,
   "metadata": {},
   "outputs": [
    {
     "data": {
      "text/plain": [
       "EdgeView([('drawing', 'extrusion1'), ('drawing', 'extrusion2'), ('extrusion1', 'winding'), ('extrusion2', 'winding'), ('winding', 'inspection1'), ('winding', 'inspection2'), ('winding', 'scrap'), ('inspection1', 'packaging'), ('inspection1', 'scrap'), ('inspection2', 'packaging'), ('inspection2', 'scrap'), ('packaging', 'storage')])"
      ]
     },
     "execution_count": 59,
     "metadata": {},
     "output_type": "execute_result"
    }
   ],
   "source": [
    "G.edges()"
   ]
  },
  {
   "cell_type": "code",
   "execution_count": 60,
   "metadata": {},
   "outputs": [
    {
     "data": {
      "text/plain": [
       "NodeView(('drawing', 'extrusion1', 'extrusion2', 'winding', 'inspection1', 'inspection2', 'packaging', 'storage', 'scrap'))"
      ]
     },
     "execution_count": 60,
     "metadata": {},
     "output_type": "execute_result"
    }
   ],
   "source": [
    "G.nodes()"
   ]
  },
  {
   "cell_type": "code",
   "execution_count": 69,
   "metadata": {},
   "outputs": [
    {
     "data": {
      "image/png": "[encoded data removed]",
      "text/plain": [
       "<Figure size 432x288 with 1 Axes>"
      ]
     },
     "metadata": {},
     "output_type": "display_data"
    }
   ],
   "source": [
    "pos = nx.spring_layout(G, scale=2)\n",
    "\n",
    "edge_labels = nx.get_edge_attributes(G,'r')\n",
    "\n",
    "nx.draw(G, pos, font_size=12, with_labels=True)\n",
    "\n",
    "nx.draw_networkx_edge_labels(G, pos=pos, labels = edge_labels)\n",
    "\n",
    "plt.show()"
   ]
  }
 ],
 "metadata": {
  "celltoolbar": "Slideshow",
  "kernelspec": {
   "display_name": "Python 3",
   "language": "python",
   "name": "python3"
  },
  "language_info": {
   "codemirror_mode": {
    "name": "ipython",
    "version": 3
   },
   "file_extension": ".py",
   "mimetype": "text/x-python",
   "name": "python",
   "nbconvert_exporter": "python",
   "pygments_lexer": "ipython3",
   "version": "3.7.1"
  },
  "rise": {
   "enable_chalkboard": false,
   "overlay": "<div class='background'></div><div class='header'>WS 19/20</br>DSS</div><div class='logo'><img src='images/unilogo.png'></div><div class='bar'></div>",
   "scroll": true,
   "slideNumber": "h.v"
  },
  "toc": {
   "base_numbering": 1,
   "nav_menu": {},
   "number_sections": true,
   "sideBar": true,
   "skip_h1_title": true,
   "title_cell": "Table of Contents",
   "title_sidebar": "Contents",
   "toc_cell": true,
   "toc_position": {},
   "toc_section_display": true,
   "toc_window_display": false
  }
 },
 "nbformat": 4,
 "nbformat_minor": 2
}
