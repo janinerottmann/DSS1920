{
 "cells": [
  {
   "cell_type": "code",
   "execution_count": 1,
   "metadata": {},
   "outputs": [
    {
     "name": "stdout",
     "output_type": "stream",
     "text": [
      "Requirement already satisfied: pulp in c:\\users\\toni greif\\anaconda3\\lib\\site-packages (1.6.10)\n",
      "Requirement already satisfied: pyparsing>=2.0.1 in c:\\users\\toni greif\\anaconda3\\lib\\site-packages (from pulp) (2.3.0)\n"
     ]
    }
   ],
   "source": [
    "!pip install pulp\n",
    "from pulp import *"
   ]
  },
  {
   "cell_type": "code",
   "execution_count": 2,
   "metadata": {},
   "outputs": [
    {
     "data": {
      "text/plain": [
       "'COL'"
      ]
     },
     "execution_count": 2,
     "metadata": {},
     "output_type": "execute_result"
    }
   ],
   "source": [
    "nodes = ['NEW', 'BOS', 'COL', 'RIC', 'ATL', 'MOB', 'JAC']\n",
    "\n",
    "supply = {\n",
    "    'NEW' : 200, 'BOS' : 0, 'COL' : 0, 'RIC' : 0 , 'ATL' : 0, 'MOB' : 0, 'JAC' : 300\n",
    "}\n",
    "\n",
    "demand = {\n",
    "    'NEW' : 0, 'BOS' : 100, 'COL' : 60, 'RIC' : 80 , 'ATL' : 170, 'MOB' : 70, 'JAC' : 0\n",
    "}\n",
    "\n",
    "cost = {\n",
    "    ('NEW','BOS'): 30,\n",
    "    ('BOS','COL'): 50,\n",
    "    ('COL','ATL'): 35,\n",
    "    ('ATL','COL'): 40,\n",
    "    ('NEW','RIC'): 40,\n",
    "    ('ATL','RIC'): 30,\n",
    "    ('ATL','MOB'): 35,\n",
    "    ('MOB','ATL'): 25,\n",
    "    ('JAC','MOB'): 50,\n",
    "    ('JAC','ATL'): 45,\n",
    "    ('JAC','RIC'): 50\n",
    "}\n",
    "\n",
    "links = list(cost.keys())\n",
    "\n",
    "links[1][1]"
   ]
  },
  {
   "cell_type": "code",
   "execution_count": 12,
   "metadata": {},
   "outputs": [
    {
     "name": "stdout",
     "output_type": "stream",
     "text": [
      "NEW - BOS\n",
      "BOS - COL\n",
      "COL - ATL\n",
      "ATL - COL\n",
      "NEW - RIC\n",
      "ATL - RIC\n",
      "ATL - MOB\n",
      "MOB - ATL\n",
      "JAC - MOB\n",
      "JAC - ATL\n",
      "JAC - RIC\n"
     ]
    }
   ],
   "source": [
    "for (i,j) in links:\n",
    "    print(i,'-',j)"
   ]
  },
  {
   "cell_type": "code",
   "execution_count": 3,
   "metadata": {},
   "outputs": [],
   "source": [
    "# Create the 'prob' variable to contain the problem data\n",
    "prob = LpProblem(\"Transshipment Problem\", LpMinimize)\n",
    "\n",
    "# A dictionary of the output variables\n",
    "x = LpVariable.dicts(\"x\",links,0)\n",
    "\n",
    "# Create objective function\n",
    "prob += lpSum([x[i]*cost[i] for i in links])\n",
    "\n",
    "for n in nodes:\n",
    "    prob += (supply[n]+ lpSum([x[(i,j)] for (i,j) in links if j == n]) >= demand[n]+ lpSum([x[(i,j)] for (i,j) in links if i == n])), \"Flow Conservation in Node:%s\"%n"
   ]
  },
  {
   "cell_type": "code",
   "execution_count": 4,
   "metadata": {},
   "outputs": [
    {
     "data": {
      "text/plain": [
       "Transshipment Problem:\n",
       "MINIMIZE\n",
       "40*x_('ATL',_'COL') + 35*x_('ATL',_'MOB') + 30*x_('ATL',_'RIC') + 50*x_('BOS',_'COL') + 35*x_('COL',_'ATL') + 45*x_('JAC',_'ATL') + 50*x_('JAC',_'MOB') + 50*x_('JAC',_'RIC') + 25*x_('MOB',_'ATL') + 30*x_('NEW',_'BOS') + 40*x_('NEW',_'RIC') + 0\n",
       "SUBJECT TO\n",
       "Flow_Conservation_in_Node:NEW: - x_('NEW',_'BOS') - x_('NEW',_'RIC') >= -200\n",
       "\n",
       "Flow_Conservation_in_Node:BOS: - x_('BOS',_'COL') + x_('NEW',_'BOS') >= 100\n",
       "\n",
       "Flow_Conservation_in_Node:COL: x_('ATL',_'COL') + x_('BOS',_'COL')\n",
       " - x_('COL',_'ATL') >= 60\n",
       "\n",
       "Flow_Conservation_in_Node:RIC: x_('ATL',_'RIC') + x_('JAC',_'RIC')\n",
       " + x_('NEW',_'RIC') >= 80\n",
       "\n",
       "Flow_Conservation_in_Node:ATL: - x_('ATL',_'COL') - x_('ATL',_'MOB')\n",
       " - x_('ATL',_'RIC') + x_('COL',_'ATL') + x_('JAC',_'ATL') + x_('MOB',_'ATL')\n",
       " >= 170\n",
       "\n",
       "Flow_Conservation_in_Node:MOB: x_('ATL',_'MOB') + x_('JAC',_'MOB')\n",
       " - x_('MOB',_'ATL') >= 70\n",
       "\n",
       "Flow_Conservation_in_Node:JAC: - x_('JAC',_'ATL') - x_('JAC',_'MOB')\n",
       " - x_('JAC',_'RIC') >= -300\n",
       "\n",
       "VARIABLES\n",
       "x_('ATL',_'COL') Continuous\n",
       "x_('ATL',_'MOB') Continuous\n",
       "x_('ATL',_'RIC') Continuous\n",
       "x_('BOS',_'COL') Continuous\n",
       "x_('COL',_'ATL') Continuous\n",
       "x_('JAC',_'ATL') Continuous\n",
       "x_('JAC',_'MOB') Continuous\n",
       "x_('JAC',_'RIC') Continuous\n",
       "x_('MOB',_'ATL') Continuous\n",
       "x_('NEW',_'BOS') Continuous\n",
       "x_('NEW',_'RIC') Continuous"
      ]
     },
     "execution_count": 4,
     "metadata": {},
     "output_type": "execute_result"
    }
   ],
   "source": [
    "prob"
   ]
  },
  {
   "cell_type": "code",
   "execution_count": 5,
   "metadata": {},
   "outputs": [
    {
     "name": "stdout",
     "output_type": "stream",
     "text": [
      "Status = Optimal\n",
      "Total Cost = 22350.000000\n"
     ]
    }
   ],
   "source": [
    "# Optimize\n",
    "\n",
    "prob.solve()\n",
    "\n",
    "# Print the status of the solved LP\n",
    "print(\"Status = %s\" % LpStatus[prob.status])\n",
    "print(\"Total Cost = %f\" % value(prob.objective))"
   ]
  },
  {
   "cell_type": "code",
   "execution_count": 6,
   "metadata": {},
   "outputs": [
    {
     "name": "stdout",
     "output_type": "stream",
     "text": [
      "x_('NEW',_'BOS'): 120.000000\n",
      "x_('BOS',_'COL'): 20.000000\n",
      "x_('ATL',_'COL'): 40.000000\n",
      "x_('NEW',_'RIC'): 80.000000\n",
      "x_('JAC',_'MOB'): 70.000000\n",
      "x_('JAC',_'ATL'): 210.000000\n"
     ]
    }
   ],
   "source": [
    "# Print the value of the variables at the optimum\n",
    "for l in links:\n",
    "    if(x[l].varValue > 0):\n",
    "        print(\"%s: %f\" % (x[l].name, x[l].varValue))"
   ]
  }
 ],
 "metadata": {
  "kernelspec": {
   "display_name": "Python 3",
   "language": "python",
   "name": "python3"
  },
  "language_info": {
   "codemirror_mode": {
    "name": "ipython",
    "version": 3
   },
   "file_extension": ".py",
   "mimetype": "text/x-python",
   "name": "python",
   "nbconvert_exporter": "python",
   "pygments_lexer": "ipython3",
   "version": "3.7.1"
  },
  "toc": {
   "base_numbering": 1,
   "nav_menu": {},
   "number_sections": true,
   "sideBar": true,
   "skip_h1_title": false,
   "title_cell": "Table of Contents",
   "title_sidebar": "Contents",
   "toc_cell": false,
   "toc_position": {},
   "toc_section_display": true,
   "toc_window_display": false
  }
 },
 "nbformat": 4,
 "nbformat_minor": 2
}
