{
 "cells": [
  {
   "cell_type": "code",
   "execution_count": 3,
   "metadata": {},
   "outputs": [
    {
     "name": "stdout",
     "output_type": "stream",
     "text": [
      "Requirement already satisfied: pulp in c:\\users\\chris\\.julia\\conda\\3\\lib\\site-packages (1.6.10)\n",
      "Requirement already satisfied: pyparsing>=2.0.1 in c:\\users\\chris\\.julia\\conda\\3\\lib\\site-packages (from pulp) (2.4.2)\n"
     ]
    }
   ],
   "source": [
    "!pip install pulp\n",
    "from pulp import *"
   ]
  },
  {
   "cell_type": "code",
   "execution_count": 38,
   "metadata": {},
   "outputs": [
    {
     "name": "stdout",
     "output_type": "stream",
     "text": [
      "1.1: 0 Soldiers 80 Trains | Profit: 160.000000\n",
      "1.2: 0 Soldiers 80 Trains | Profit: 160.000000\n",
      "1.3: 0 Soldiers 80 Trains | Profit: 160.000000\n",
      "1.4: 0 Soldiers 80 Trains | Profit: 160.000000\n",
      "1.5: 0 Soldiers 80 Trains | Profit: 160.000000\n",
      "1.6: 0 Soldiers 80 Trains | Profit: 160.000000\n",
      "1.7: 0 Soldiers 80 Trains | Profit: 160.000000\n",
      "1.8: 0 Soldiers 80 Trains | Profit: 160.000000\n",
      "1.9: 0 Soldiers 80 Trains | Profit: 160.000000\n",
      "2.0: 0 Soldiers 80 Trains | Profit: 160.000000\n",
      "2.1: 20 Soldiers 60 Trains | Profit: 162.000000\n",
      "2.2: 20 Soldiers 60 Trains | Profit: 164.000000\n",
      "2.3: 20 Soldiers 60 Trains | Profit: 166.000000\n",
      "2.4: 20 Soldiers 60 Trains | Profit: 168.000000\n",
      "2.5: 20 Soldiers 60 Trains | Profit: 170.000000\n",
      "2.6: 20 Soldiers 60 Trains | Profit: 172.000000\n",
      "2.7: 20 Soldiers 60 Trains | Profit: 174.000000\n",
      "2.8: 20 Soldiers 60 Trains | Profit: 176.000000\n",
      "2.9: 20 Soldiers 60 Trains | Profit: 178.000000\n",
      "3.0: 20 Soldiers 60 Trains | Profit: 180.000000\n",
      "3.1: 20 Soldiers 60 Trains | Profit: 182.000000\n",
      "3.2: 20 Soldiers 60 Trains | Profit: 184.000000\n",
      "3.3: 20 Soldiers 60 Trains | Profit: 186.000000\n",
      "3.4: 20 Soldiers 60 Trains | Profit: 188.000000\n",
      "3.5: 20 Soldiers 60 Trains | Profit: 190.000000\n",
      "3.6: 20 Soldiers 60 Trains | Profit: 192.000000\n",
      "3.7: 20 Soldiers 60 Trains | Profit: 194.000000\n",
      "3.8: 20 Soldiers 60 Trains | Profit: 196.000000\n",
      "3.9: 20 Soldiers 60 Trains | Profit: 198.000000\n",
      "4.0: 50 Soldiers 0 Trains | Profit: 200.000000\n",
      "4.1: 50 Soldiers 0 Trains | Profit: 205.000000\n",
      "4.2: 50 Soldiers 0 Trains | Profit: 210.000000\n",
      "4.3: 50 Soldiers 0 Trains | Profit: 215.000000\n",
      "4.4: 50 Soldiers 0 Trains | Profit: 220.000000\n",
      "4.5: 50 Soldiers 0 Trains | Profit: 225.000000\n"
     ]
    }
   ],
   "source": [
    "# Creates a list of the Toys\n",
    "toys = ['SOLDIER', 'TRAIN']\n",
    "\n",
    "# A dictionary of the profits per toy\n",
    "profit = {'SOLDIER': 3, \n",
    "         'TRAIN': 2}\n",
    "\n",
    "# A dictionary of the resource consumption per product\n",
    "consumption = {'CARPENTING':\n",
    "               {'SOLDIER': 1,\n",
    "                'TRAIN': 1\n",
    "               },\n",
    "               'FINISHING':\n",
    "               {'SOLDIER': 2,\n",
    "                'TRAIN': 1 \n",
    "               }\n",
    "              }\n",
    "\n",
    "# A dictionary of maximum output values (-1 is non binding)\n",
    "maxOutput = {'SOLDIER': -1, \n",
    "              'TRAIN': -1}\n",
    "\n",
    "# A dictionary of the resource availabilities\n",
    "resources = {\n",
    "    'CARPENTING': 80,\n",
    "    'FINISHING': 100\n",
    "}\n",
    "\n",
    "soldierAmounts = []\n",
    "trainAmounts = []\n",
    "objectiveValues = []\n",
    "coefficientValues = []\n",
    "\n",
    "for k in range(35):\n",
    "    profit['SOLDIER'] = 1+(k+1)*0.1\n",
    "    \n",
    "    # Create the 'prob' variable to contain the problem data\n",
    "    prob = LpProblem(\"Toy Factory Problem\", LpMaximize)\n",
    "\n",
    "    # A dictionary called 'production_vars' is created to contain the referenced Variables\n",
    "    x = LpVariable.dicts(\"Toy\",toys,0)\n",
    "\n",
    "    # Create objective function\n",
    "    prob += lpSum([profit[i]*x[i] for i in toys]), \"Total Profit of Production\"\n",
    "\n",
    "    # Create resource constraints\n",
    "    for resource in resources.keys():\n",
    "        prob += lpSum([x[i]*consumption[resource][i] for i in toys]) <= resources[resource], \"{}\".format(resource)\n",
    "\n",
    "    # Create max Output constraints\n",
    "    for toy in toys:\n",
    "        if(maxOutput[toy] >= 0):\n",
    "            prob += x[toy] <= maxOutput[toy], \"maxOutput{}\".format(toy)\n",
    "\n",
    "\n",
    "    # Optimize\n",
    "    prob.solve()\n",
    "    print(\"%s: %i Soldiers %i Trains | Profit: %f\" % ( round(1+(k+1)*0.1,2), x[\"SOLDIER\"].varValue, x[\"TRAIN\"].varValue, value(prob.objective)))\n",
    "\n",
    "    \n",
    "    soldierAmounts.append(x[\"SOLDIER\"].varValue)\n",
    "    trainAmounts.append(x[\"TRAIN\"].varValue)\n",
    "    coefficientValues.append(round(1+(k+1)*0.1,2))\n",
    "    objectiveValues.append(value(prob.objective))"
   ]
  },
  {
   "cell_type": "code",
   "execution_count": 34,
   "metadata": {},
   "outputs": [],
   "source": [
    "from matplotlib import pyplot as plt"
   ]
  },
  {
   "cell_type": "code",
   "execution_count": 41,
   "metadata": {},
   "outputs": [
    {
     "data": {
      "image/png": "[encoded data removed]",
      "text/plain": [
       "<Figure size 432x288 with 1 Axes>"
      ]
     },
     "metadata": {
      "needs_background": "light"
     },
     "output_type": "display_data"
    }
   ],
   "source": [
    "plt.step(coefficientValues, soldierAmounts,\n",
    "         coefficientValues, trainAmounts);"
   ]
  },
  {
   "cell_type": "code",
   "execution_count": 22,
   "metadata": {},
   "outputs": [
    {
     "name": "stdout",
     "output_type": "stream",
     "text": [
      "180.0\n",
      "Shadow Price of CARPENTING: 1.000000\n",
      "Shadow Price of FINISHING: 1.000000\n",
      "Reduced Cost of SOLDIER: 0.000000\n",
      "Reduced Cost of TRAIN: 0.000000\n"
     ]
    }
   ],
   "source": [
    "# Creates a list of the Toys\n",
    "toys = ['SOLDIER', 'TRAIN']\n",
    "\n",
    "# A dictionary of the profits per toy\n",
    "profit = {'SOLDIER': 3, \n",
    "         'TRAIN': 2}\n",
    "\n",
    "# A dictionary of the resource consumption per product\n",
    "consumption = {'CARPENTING':\n",
    "               {'SOLDIER': 1,\n",
    "                'TRAIN': 1\n",
    "               },\n",
    "               'FINISHING':\n",
    "               {'SOLDIER': 2,\n",
    "                'TRAIN': 1 \n",
    "               }\n",
    "              }\n",
    "\n",
    "# A dictionary of maximum output values (-1 is non binding)\n",
    "maxOutput = {'SOLDIER': 40, \n",
    "              'TRAIN': -1}\n",
    "\n",
    "# A dictionary of the resource availabilities\n",
    "resources = {\n",
    "    'CARPENTING': 80,\n",
    "    'FINISHING': 100\n",
    "}\n",
    "\n",
    "soldierAmounts = []\n",
    "trainAmounts = []\n",
    "objectiveValues = []\n",
    "coefficientValues = []\n",
    "\n",
    "  \n",
    "# Create the 'prob' variable to contain the problem data\n",
    "prob = LpProblem(\"Toy Factory Problem\", LpMaximize)\n",
    "\n",
    "# A dictionary called 'production_vars' is created to contain the referenced Variables\n",
    "x = LpVariable.dicts(\"Toy\",toys,0)\n",
    "\n",
    "# Create objective function\n",
    "prob += lpSum([profit[i]*x[i] for i in toys]), \"Total Profit of Production\"\n",
    "\n",
    "# Create resource constraints\n",
    "for resource in resources.keys():\n",
    "    prob += lpSum([x[i]*consumption[resource][i] for i in toys]) <= resources[resource], \"{}\".format(resource)\n",
    "\n",
    "# Create max Output constraints\n",
    "for toy in toys:\n",
    "    if(maxOutput[toy] >= 0):\n",
    "        prob += x[toy] <= maxOutput[toy], \"maxOutput{}\".format(toy)\n",
    "\n",
    "\n",
    "# Optimize\n",
    "prob.solve()\n",
    "print(value(prob.objective))\n",
    "\n",
    "for r in resources:\n",
    "    print(\"Shadow Price of %s: %f\" % (r, prob.constraints[r].pi))\n",
    "    \n",
    "for t in toys:\n",
    "    print(\"Reduced Cost of %s: %f\" % (t, x[t].dj))"
   ]
  }
 ],
 "metadata": {
  "kernelspec": {
   "display_name": "Python 3",
   "language": "python",
   "name": "python3"
  },
  "language_info": {
   "codemirror_mode": {
    "name": "ipython",
    "version": 3
   },
   "file_extension": ".py",
   "mimetype": "text/x-python",
   "name": "python",
   "nbconvert_exporter": "python",
   "pygments_lexer": "ipython3",
   "version": "3.7.1"
  },
  "toc": {
   "base_numbering": 1,
   "nav_menu": {},
   "number_sections": true,
   "sideBar": true,
   "skip_h1_title": false,
   "title_cell": "Table of Contents",
   "title_sidebar": "Contents",
   "toc_cell": false,
   "toc_position": {},
   "toc_section_display": true,
   "toc_window_display": false
  }
 },
 "nbformat": 4,
 "nbformat_minor": 2
}
