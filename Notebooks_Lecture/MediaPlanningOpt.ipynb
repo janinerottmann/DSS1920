{
 "cells": [
  {
   "cell_type": "code",
   "execution_count": 1,
   "metadata": {},
   "outputs": [
    {
     "name": "stdout",
     "output_type": "stream",
     "text": [
      "Requirement already satisfied: pulp in c:\\users\\chris\\.julia\\conda\\3\\lib\\site-packages (1.6.10)\n",
      "Requirement already satisfied: pyparsing>=2.0.1 in c:\\users\\chris\\.julia\\conda\\3\\lib\\site-packages (from pulp) (2.4.2)\n"
     ]
    }
   ],
   "source": [
    "!pip install pulp\n",
    "from pulp import *"
   ]
  },
  {
   "cell_type": "code",
   "execution_count": 2,
   "metadata": {},
   "outputs": [],
   "source": [
    "# Creates a list of the products\n",
    "media = ['TV', 'Print', 'Web', 'SocialMedia']\n",
    "\n",
    "# A dictionary of the cost per medium\n",
    "cost = {'TV': 500, \n",
    "         'Print': 200,\n",
    "         'Web': 250,\n",
    "         'SocialMedia': 125}\n",
    "\n",
    "# A dictionary of the reach per medium\n",
    "reach = {'TV': 50, \n",
    "         'Print': 25,\n",
    "         'Web': 20,\n",
    "         'SocialMedia': 15}\n",
    "\n",
    "# A dictionary of the max ads per medium\n",
    "maxAds = {'TV': 20, \n",
    "         'Print': 15,\n",
    "         'Web': 10,\n",
    "         'SocialMedia': 15}\n",
    "\n",
    "# Create the 'prob' variable to contain the problem data\n",
    "prob = LpProblem(\"Media Planning\", LpMinimize)\n",
    "\n",
    "# A dictionary called 'production_vars' is created to contain the referenced Variables\n",
    "x = LpVariable.dicts(\"x\",media,0)\n",
    "\n",
    "# Create objective function\n",
    "prob += lpSum([cost[i]*x[i] for i in media]), \"Total Cost of Media\"\n",
    "\n",
    "# Create Reach constraint\n",
    "prob += lpSum([x[i]*reach[i] for i in media]) >= 1500, \"Reach\"\n",
    "\n",
    "# Create max constraints\n",
    "for m in media:\n",
    "    prob += x[m] <= maxAds[m], \"{}\".format(m)"
   ]
  },
  {
   "cell_type": "code",
   "execution_count": 3,
   "metadata": {},
   "outputs": [
    {
     "name": "stdout",
     "output_type": "stream",
     "text": [
      "Media Planning:\n",
      "MINIMIZE\n",
      "200*m_Print + 125*m_SocialMedia + 500*m_TV + 250*m_Web + 0\n",
      "SUBJECT TO\n",
      "Reach: 25 m_Print + 15 m_SocialMedia + 50 m_TV + 20 m_Web >= 1500\n",
      "\n",
      "TV: m_TV <= 20\n",
      "\n",
      "Print: m_Print <= 15\n",
      "\n",
      "Web: m_Web <= 10\n",
      "\n",
      "SocialMedia: m_SocialMedia <= 15\n",
      "\n",
      "VARIABLES\n",
      "m_Print Continuous\n",
      "m_SocialMedia Continuous\n",
      "m_TV Continuous\n",
      "m_Web Continuous\n",
      "\n"
     ]
    }
   ],
   "source": [
    "print(prob)"
   ]
  },
  {
   "cell_type": "code",
   "execution_count": 4,
   "metadata": {},
   "outputs": [
    {
     "name": "stdout",
     "output_type": "stream",
     "text": [
      "Status = Optimal\n",
      "m_TV = 18.000000\n",
      "m_Print = 15.000000\n",
      "m_Web = 0.000000\n",
      "m_SocialMedia = 15.000000\n",
      "Objective = 13875.000000\n"
     ]
    }
   ],
   "source": [
    "# Optimize\n",
    "\n",
    "prob.solve()\n",
    "\n",
    "# Print the status of the solved LP\n",
    "print(\"Status = %s\" % LpStatus[prob.status])\n",
    "\n",
    "# Print the value of the variables at the optimum\n",
    "for i in media:\n",
    "    print(\"%s = %f\" % (x[i].name, x[i].varValue))\n",
    "\n",
    "# Print the value of the objective\n",
    "print(\"Objective = %f\" % value(prob.objective))"
   ]
  },
  {
   "cell_type": "code",
   "execution_count": 8,
   "metadata": {},
   "outputs": [],
   "source": [
    "# Create model with deviation constraints\n",
    "import copy\n",
    "\n",
    "# A dictionary of whether or not a medium is digital\n",
    "channelType = {'TV': 1, \n",
    "         'Print': 1,\n",
    "         'Web': -1,\n",
    "         'SocialMedia': -1}\n",
    "\n",
    "# Create Diversification constraints\n",
    "prob += lpSum([x[i]*channelType[i] for i in media]) <= 5, \"Diversification\"\n",
    "prob += lpSum([x[i]*(-1)*channelType[i] for i in media]) <= 5, \"Diversification2\""
   ]
  },
  {
   "cell_type": "code",
   "execution_count": 9,
   "metadata": {},
   "outputs": [
    {
     "data": {
      "text/plain": [
       "Media Planning:\n",
       "MINIMIZE\n",
       "200*m_Print + 125*m_SocialMedia + 500*m_TV + 250*m_Web + 0\n",
       "SUBJECT TO\n",
       "Reach: 25 m_Print + 15 m_SocialMedia + 50 m_TV + 20 m_Web >= 1500\n",
       "\n",
       "TV: m_TV <= 20\n",
       "\n",
       "Print: m_Print <= 15\n",
       "\n",
       "Web: m_Web <= 10\n",
       "\n",
       "SocialMedia: m_SocialMedia <= 15\n",
       "\n",
       "Diversification: m_Print - m_SocialMedia + m_TV - m_Web <= 5\n",
       "\n",
       "Diversification2: - m_Print + m_SocialMedia - m_TV + m_Web <= 5\n",
       "\n",
       "VARIABLES\n",
       "m_Print Continuous\n",
       "m_SocialMedia Continuous\n",
       "m_TV Continuous\n",
       "m_Web Continuous"
      ]
     },
     "execution_count": 9,
     "metadata": {},
     "output_type": "execute_result"
    }
   ],
   "source": [
    "prob"
   ]
  },
  {
   "cell_type": "code",
   "execution_count": 10,
   "metadata": {},
   "outputs": [
    {
     "name": "stdout",
     "output_type": "stream",
     "text": [
      "m_TV = 14.285714\n",
      "m_Print = 15.000000\n",
      "m_Web = 9.285714\n",
      "m_SocialMedia = 15.000000\n",
      "Objective = 14339.285575\n"
     ]
    }
   ],
   "source": [
    "# Optimize\n",
    "\n",
    "prob.solve()\n",
    "\n",
    "# Print the value of the variables at the optimum\n",
    "for i in media:\n",
    "    print(\"%s = %f\" % (x[i].name, x[i].varValue))\n",
    "\n",
    "# Print the value of the objective\n",
    "print(\"Objective = %f\" % value(prob.objective))"
   ]
  },
  {
   "cell_type": "code",
   "execution_count": null,
   "metadata": {},
   "outputs": [],
   "source": []
  },
  {
   "cell_type": "code",
   "execution_count": null,
   "metadata": {},
   "outputs": [],
   "source": []
  }
 ],
 "metadata": {
  "kernelspec": {
   "display_name": "Python 3",
   "language": "python",
   "name": "python3"
  },
  "language_info": {
   "codemirror_mode": {
    "name": "ipython",
    "version": 3
   },
   "file_extension": ".py",
   "mimetype": "text/x-python",
   "name": "python",
   "nbconvert_exporter": "python",
   "pygments_lexer": "ipython3",
   "version": "3.6.5"
  },
  "toc": {
   "base_numbering": 1,
   "nav_menu": {},
   "number_sections": true,
   "sideBar": true,
   "skip_h1_title": false,
   "title_cell": "Table of Contents",
   "title_sidebar": "Contents",
   "toc_cell": false,
   "toc_position": {},
   "toc_section_display": true,
   "toc_window_display": false
  }
 },
 "nbformat": 4,
 "nbformat_minor": 2
}
