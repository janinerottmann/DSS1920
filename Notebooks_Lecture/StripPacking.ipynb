{
 "cells": [
  {
   "cell_type": "code",
   "execution_count": 1,
   "metadata": {},
   "outputs": [
    {
     "name": "stdout",
     "output_type": "stream",
     "text": [
      "Requirement already satisfied: pulp in c:\\users\\chris\\.julia\\conda\\3\\lib\\site-packages (1.6.10)\n",
      "Requirement already satisfied: pyparsing>=2.0.1 in c:\\users\\chris\\.julia\\conda\\3\\lib\\site-packages (from pulp) (2.4.5)\n"
     ]
    }
   ],
   "source": [
    "# Import PuLP modeler functions\n",
    "!pip install pulp\n",
    "from pulp import *\n",
    "import random"
   ]
  },
  {
   "cell_type": "code",
   "execution_count": 9,
   "metadata": {},
   "outputs": [
    {
     "name": "stdout",
     "output_type": "stream",
     "text": [
      "Number of Items: 20\n",
      "Objective = 63.000000\n"
     ]
    }
   ],
   "source": [
    "nItems = 20\n",
    "print(\"Number of Items:\",nItems)\n",
    "Items = range(nItems)\n",
    "ItemPairs = list(itertools.permutations(Items,2))\n",
    "\n",
    "random.seed( 15 )\n",
    "\n",
    "height = {x: random.randint(1,10) for x in range(nItems)}\n",
    "width = {x: random.randint(1,10) for x in range(nItems)}\n",
    "itemValue = {x: height[x] * random.randint(0,3) + width[x] * random.randint(0,5) for x in range(nItems)}\n",
    "\n",
    "#W = int(nItems**(1/2) * 10);\n",
    "H = 10;\n",
    "\n",
    "prob = LpProblem(\"Strip Packing\",LpMinimize)\n",
    "\n",
    "# The problem variables are created\n",
    "W = LpVariable(\"width unrolled\")\n",
    "\n",
    "packed = LpVariable.dicts(\"packed\",(Items),1,1,LpInteger)\n",
    "rotated = LpVariable.dicts(\"rotated\",(Items),0,1,LpInteger)\n",
    "x_origin = LpVariable.dicts(\"x_origin\",(Items),0,10000)\n",
    "y_origin = LpVariable.dicts(\"y_origin\",(Items),0,H)\n",
    "\n",
    "x_overlap_right = LpVariable.dicts(\"x_overlap_right\",(ItemPairs),0,1,LpInteger)\n",
    "x_overlap_left = LpVariable.dicts(\"x_overlap_left\",(ItemPairs),0,1,LpInteger)\n",
    "y_overlap_above = LpVariable.dicts(\"y_overlap_above\",(ItemPairs),0,1,LpInteger)\n",
    "y_overlap_below = LpVariable.dicts(\"y_overlap_below\",(ItemPairs),0,1,LpInteger)\n",
    "\n",
    "# The arbitrary objective function is added\n",
    "prob += W, \"Objective Function\"\n",
    "\n",
    "for (i,j) in ItemPairs:\n",
    "    prob += x_overlap_right[i,j] + x_overlap_left[i,j] >= 1\n",
    "    prob += y_overlap_above[i,j] + y_overlap_below[i,j] >= 1\n",
    "    prob += x_overlap_left[j,i] + x_overlap_left[i,j] >= 1\n",
    "    prob += x_overlap_right[j,i] + x_overlap_right[i,j] >= 1\n",
    "    prob += y_overlap_above[j,i] + y_overlap_above[i,j] >= 1\n",
    "    prob += y_overlap_below[j,i] + y_overlap_below[i,j] >= 1\n",
    "    prob += x_origin[j] - x_origin[i] - (1-rotated[i])*width[i] - rotated[i] * height[i] + x_overlap_right[i,j] * 1000 >= 0, \"overlap right %s %s\" %(i,j)\n",
    "    prob += x_origin[j] + (1-rotated[j])*width[j] + rotated[j]*height[j] - x_origin[i] - x_overlap_left[i,j] * 1000 <= 0, \"overlap left %s %s\" %(i,j)\n",
    "    prob += y_origin[j] - y_origin[i] - (1-rotated[i]) * height[i] - rotated[i] * width[i] + y_overlap_above[i,j] * 1000 >= 0, \"overlap above %s %s\" %(i,j)\n",
    "    prob += y_origin[j] + (1-rotated[j])*height[j] + rotated[j]*width[j] - y_origin[i] - y_overlap_below[i,j] * 1000 <= 0, \"overlap below %s %s\" %(i,j)\n",
    "    prob += x_overlap_right[i,j] + x_overlap_left[i,j] + y_overlap_below[i,j] + y_overlap_above[i,j] <= 3 + 3*((1-packed[i])+(1-packed[j])), \"no overlap %s %s\" %(i,j)\n",
    "\n",
    "for i in Items:\n",
    "    prob += x_origin[i] + (1-rotated[i])*width[i] + rotated[i]* height[i] <= W + (1-packed[i]) * 1000 , \"maxWidth %i\" %i\n",
    "    prob += y_origin[i] + (1-rotated[i])*height[i] + rotated[i] * width[i] <= H + (1-packed[i]) * 1000, \"maxHeight %i\" %i\n",
    "\n",
    "prob += W*H >= lpSum([packed[i] * width[i] * height[i] for i in Items]), \"maxArea\"\n",
    "\n",
    "prob.solve(PULP_CBC_CMD(maxSeconds=30))\n",
    "#prob.solve(pulp.GUROBI_CMD(options=[(\"TimeLimit\", 15)]))\n",
    "#prob.solve(PULP_CBC_CMD(fracGap = 0.1))\n",
    "#prob.solve(pulp.GUROBI_CMD(options=[(\"MIPgap\", 0.05)]))\n",
    "## Print the value of the objective\n",
    "print(\"Objective = %f\" % value(prob.objective))\n"
   ]
  },
  {
   "cell_type": "code",
   "execution_count": 12,
   "metadata": {},
   "outputs": [
    {
     "data": {
      "image/png": "[encoded data removed]",
      "text/plain": [
       "<Figure size 864x864 with 1 Axes>"
      ]
     },
     "metadata": {
      "needs_background": "light"
     },
     "output_type": "display_data"
    }
   ],
   "source": [
    "## import matplotlib.pyplot as plt\n",
    "import matplotlib.patches as patches\n",
    "import numpy as np\n",
    "\n",
    "import matplotlib.pyplot as plt\n",
    "\n",
    "\n",
    "plt.rcParams['figure.figsize'] = [12, 12]\n",
    "\n",
    "plt.axes()\n",
    "rectangle = plt.Rectangle((0,0), W, H, fc='white',ec=\"white\")\n",
    "\n",
    "# Create a Rectangle patch\n",
    "for i in Items:\n",
    "    if rotated[i].varValue == 0:\n",
    "        rect = patches.Rectangle((x_origin[i].varValue,y_origin[i].varValue),width[i],height[i],edgecolor='black',facecolor='lightgray')\n",
    "        plt.gca().add_patch(rect)\n",
    "        centerx = width[i]  /2 + x_origin[i].varValue\n",
    "        centery = height[i] /2 + y_origin[i].varValue \n",
    "        plt.text(centerx, centery,'%s'%i)\n",
    "    else:\n",
    "        rect = patches.Rectangle((x_origin[i].varValue,y_origin[i].varValue),height[i],width[i],edgecolor='blue',facecolor='lightblue')\n",
    "        plt.gca().add_patch(rect)\n",
    "        centerx = height[i]  /2 + x_origin[i].varValue\n",
    "        centery = width[i] /2 + y_origin[i].varValue \n",
    "        plt.text(centerx, centery,'%s'%i)        \n",
    "plt.axis('scaled')\n",
    "plt.show()"
   ]
  }
 ],
 "metadata": {
  "kernelspec": {
   "display_name": "Python 3",
   "language": "python",
   "name": "python3"
  },
  "language_info": {
   "codemirror_mode": {
    "name": "ipython",
    "version": 3
   },
   "file_extension": ".py",
   "mimetype": "text/x-python",
   "name": "python",
   "nbconvert_exporter": "python",
   "pygments_lexer": "ipython3",
   "version": "3.7.1"
  },
  "toc": {
   "base_numbering": 1,
   "nav_menu": {},
   "number_sections": true,
   "sideBar": true,
   "skip_h1_title": false,
   "title_cell": "Table of Contents",
   "title_sidebar": "Contents",
   "toc_cell": false,
   "toc_position": {},
   "toc_section_display": true,
   "toc_window_display": false
  }
 },
 "nbformat": 4,
 "nbformat_minor": 2
}
