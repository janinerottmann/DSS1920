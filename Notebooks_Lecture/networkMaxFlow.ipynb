{
 "cells": [
  {
   "cell_type": "code",
   "execution_count": 2,
   "metadata": {},
   "outputs": [
    {
     "name": "stdout",
     "output_type": "stream",
     "text": [
      "Requirement already satisfied: pulp in c:\\users\\chris\\.julia\\conda\\3\\lib\\site-packages (1.6.10)\n",
      "Requirement already satisfied: pyparsing>=2.0.1 in c:\\users\\chris\\.julia\\conda\\3\\lib\\site-packages (from pulp) (2.4.2)\n"
     ]
    }
   ],
   "source": [
    "!pip install pulp\n",
    "from pulp import *"
   ]
  },
  {
   "cell_type": "code",
   "execution_count": 8,
   "metadata": {},
   "outputs": [
    {
     "data": {
      "text/plain": [
       "[('FIELD', 'PUMP1'),\n",
       " ('FIELD', 'PUMP2'),\n",
       " ('PUMP1', 'PUMP3'),\n",
       " ('PUMP1', 'PUMP4'),\n",
       " ('PUMP2', 'PUMP3'),\n",
       " ('PUMP2', 'PUMP4'),\n",
       " ('PUMP3', 'REFINE'),\n",
       " ('PUMP4', 'REFINE'),\n",
       " ('REFINE', 'FIELD')]"
      ]
     },
     "execution_count": 8,
     "metadata": {},
     "output_type": "execute_result"
    }
   ],
   "source": [
    "nodes = ['FIELD', 'PUMP1', 'PUMP2', 'PUMP3', 'PUMP4', 'REFINE']\n",
    "\n",
    "capacity = {\n",
    "    ('FIELD','PUMP1'): 6,\n",
    "    ('FIELD','PUMP2'): 4,\n",
    "    ('PUMP1','PUMP3'): 3,\n",
    "    ('PUMP1','PUMP4'): 2,\n",
    "    ('PUMP2','PUMP3'): 2,\n",
    "    ('PUMP2','PUMP4'): 5,\n",
    "    ('PUMP3','REFINE'): 6,\n",
    "    ('PUMP4','REFINE'): 4,\n",
    "    ('REFINE', 'FIELD'): 999\n",
    "}\n",
    "\n",
    "links = list(capacity.keys())\n",
    "links"
   ]
  },
  {
   "cell_type": "code",
   "execution_count": 15,
   "metadata": {},
   "outputs": [],
   "source": [
    "# Create the 'prob' variable to contain the problem data\n",
    "prob = LpProblem(\"Maximum Flow Problem\", LpMaximize)\n",
    "\n",
    "# A dictionary of the output variables\n",
    "x = LpVariable.dicts(\"x\",links,0)\n",
    "\n",
    "# Create objective function\n",
    "prob += x[('REFINE', 'FIELD')]\n",
    "\n",
    "for n in nodes:\n",
    "    prob += (lpSum([x[(i,j)] for (i,j) in links if j == n]) == lpSum([x[(i,j)] for (i,j) in links if i == n])), \"Flow Conservation in Node:%s\"%n\n",
    "    \n",
    "for l in links:\n",
    "    prob += (x[l]<=capacity[l]),  \"Capacity Limit:%s\" % (str(l))"
   ]
  },
  {
   "cell_type": "code",
   "execution_count": 17,
   "metadata": {},
   "outputs": [
    {
     "data": {
      "text/plain": [
       "Maximum Flow Problem:\n",
       "MAXIMIZE\n",
       "1*x_('REFINE',_'FIELD') + 0\n",
       "SUBJECT TO\n",
       "Flow_Conservation_in_Node:FIELD: - x_('FIELD',_'PUMP1') - x_('FIELD',_'PUMP2')\n",
       " + x_('REFINE',_'FIELD') = 0\n",
       "\n",
       "Flow_Conservation_in_Node:PUMP1: x_('FIELD',_'PUMP1') - x_('PUMP1',_'PUMP3')\n",
       " - x_('PUMP1',_'PUMP4') = 0\n",
       "\n",
       "Flow_Conservation_in_Node:PUMP2: x_('FIELD',_'PUMP2') - x_('PUMP2',_'PUMP3')\n",
       " - x_('PUMP2',_'PUMP4') = 0\n",
       "\n",
       "Flow_Conservation_in_Node:PUMP3: x_('PUMP1',_'PUMP3') + x_('PUMP2',_'PUMP3')\n",
       " - x_('PUMP3',_'REFINE') = 0\n",
       "\n",
       "Flow_Conservation_in_Node:PUMP4: x_('PUMP1',_'PUMP4') + x_('PUMP2',_'PUMP4')\n",
       " - x_('PUMP4',_'REFINE') = 0\n",
       "\n",
       "Flow_Conservation_in_Node:REFINE: x_('PUMP3',_'REFINE')\n",
       " + x_('PUMP4',_'REFINE') - x_('REFINE',_'FIELD') = 0\n",
       "\n",
       "Capacity_Limit:('FIELD',_'PUMP1'): x_('FIELD',_'PUMP1') <= 6\n",
       "\n",
       "Capacity_Limit:('FIELD',_'PUMP2'): x_('FIELD',_'PUMP2') <= 4\n",
       "\n",
       "Capacity_Limit:('PUMP1',_'PUMP3'): x_('PUMP1',_'PUMP3') <= 3\n",
       "\n",
       "Capacity_Limit:('PUMP1',_'PUMP4'): x_('PUMP1',_'PUMP4') <= 2\n",
       "\n",
       "Capacity_Limit:('PUMP2',_'PUMP3'): x_('PUMP2',_'PUMP3') <= 2\n",
       "\n",
       "Capacity_Limit:('PUMP2',_'PUMP4'): x_('PUMP2',_'PUMP4') <= 5\n",
       "\n",
       "Capacity_Limit:('PUMP3',_'REFINE'): x_('PUMP3',_'REFINE') <= 6\n",
       "\n",
       "Capacity_Limit:('PUMP4',_'REFINE'): x_('PUMP4',_'REFINE') <= 4\n",
       "\n",
       "Capacity_Limit:('REFINE',_'FIELD'): x_('REFINE',_'FIELD') <= 999\n",
       "\n",
       "VARIABLES\n",
       "x_('FIELD',_'PUMP1') Continuous\n",
       "x_('FIELD',_'PUMP2') Continuous\n",
       "x_('PUMP1',_'PUMP3') Continuous\n",
       "x_('PUMP1',_'PUMP4') Continuous\n",
       "x_('PUMP2',_'PUMP3') Continuous\n",
       "x_('PUMP2',_'PUMP4') Continuous\n",
       "x_('PUMP3',_'REFINE') Continuous\n",
       "x_('PUMP4',_'REFINE') Continuous\n",
       "x_('REFINE',_'FIELD') Continuous"
      ]
     },
     "execution_count": 17,
     "metadata": {},
     "output_type": "execute_result"
    }
   ],
   "source": [
    "prob"
   ]
  },
  {
   "cell_type": "code",
   "execution_count": 18,
   "metadata": {},
   "outputs": [
    {
     "name": "stdout",
     "output_type": "stream",
     "text": [
      "Status = Optimal\n",
      "Total Cost = 9.000000\n"
     ]
    }
   ],
   "source": [
    "# Optimize\n",
    "\n",
    "prob.solve()\n",
    "\n",
    "# Print the status of the solved LP\n",
    "print(\"Status = %s\" % LpStatus[prob.status])\n",
    "print(\"Total Cost = %f\" % value(prob.objective))"
   ]
  },
  {
   "cell_type": "code",
   "execution_count": 19,
   "metadata": {},
   "outputs": [
    {
     "name": "stdout",
     "output_type": "stream",
     "text": [
      "x_('FIELD',_'PUMP1'): 5.000000\n",
      "x_('FIELD',_'PUMP2'): 4.000000\n",
      "x_('PUMP1',_'PUMP3'): 3.000000\n",
      "x_('PUMP1',_'PUMP4'): 2.000000\n",
      "x_('PUMP2',_'PUMP3'): 2.000000\n",
      "x_('PUMP2',_'PUMP4'): 2.000000\n",
      "x_('PUMP3',_'REFINE'): 5.000000\n",
      "x_('PUMP4',_'REFINE'): 4.000000\n",
      "x_('REFINE',_'FIELD'): 9.000000\n"
     ]
    }
   ],
   "source": [
    "# Print the value of the variables at the optimum\n",
    "for l in links:\n",
    "    if(x[l].varValue > 0):\n",
    "        print(\"%s: %f\" % (x[l].name, x[l].varValue))"
   ]
  }
 ],
 "metadata": {
  "kernelspec": {
   "display_name": "Python 3",
   "language": "python",
   "name": "python3"
  },
  "language_info": {
   "codemirror_mode": {
    "name": "ipython",
    "version": 3
   },
   "file_extension": ".py",
   "mimetype": "text/x-python",
   "name": "python",
   "nbconvert_exporter": "python",
   "pygments_lexer": "ipython3",
   "version": "3.6.5"
  },
  "toc": {
   "base_numbering": 1,
   "nav_menu": {},
   "number_sections": true,
   "sideBar": true,
   "skip_h1_title": false,
   "title_cell": "Table of Contents",
   "title_sidebar": "Contents",
   "toc_cell": false,
   "toc_position": {},
   "toc_section_display": true,
   "toc_window_display": false
  }
 },
 "nbformat": 4,
 "nbformat_minor": 2
}
