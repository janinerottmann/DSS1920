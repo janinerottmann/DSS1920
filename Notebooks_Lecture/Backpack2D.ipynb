{
 "cells": [
  {
   "cell_type": "code",
   "execution_count": 26,
   "metadata": {},
   "outputs": [
    {
     "name": "stdout",
     "output_type": "stream",
     "text": [
      "Requirement already satisfied: pulp in c:\\users\\chris\\.julia\\conda\\3\\lib\\site-packages (1.6.10)\n",
      "Requirement already satisfied: pyparsing>=2.0.1 in c:\\users\\chris\\.julia\\conda\\3\\lib\\site-packages (from pulp) (2.4.5)\n"
     ]
    }
   ],
   "source": [
    "# Import PuLP modeler functions\n",
    "!pip install pulp\n",
    "from pulp import *\n",
    "import random"
   ]
  },
  {
   "cell_type": "code",
   "execution_count": 31,
   "metadata": {},
   "outputs": [
    {
     "name": "stdout",
     "output_type": "stream",
     "text": [
      "Number of Items: 4\n",
      "Status = Optimal\n",
      "Objective = 65.000000\n",
      "packed_0\n",
      "packed_1\n",
      "packed_2\n",
      "packed_3\n",
      "---------------------\n",
      "Number of Items: 6\n",
      "Status = Optimal\n",
      "Objective = 142.000000\n",
      "packed_0\n",
      "packed_1\n",
      "packed_2\n",
      "packed_3\n",
      "packed_4\n",
      "packed_5\n",
      "---------------------\n",
      "Number of Items: 8\n",
      "Status = Optimal\n",
      "Objective = 237.000000\n",
      "packed_0\n",
      "packed_1\n",
      "packed_2\n",
      "packed_3\n",
      "packed_4\n",
      "packed_5\n",
      "packed_6\n",
      "packed_7\n",
      "---------------------\n",
      "Number of Items: 10\n",
      "Status = Optimal\n",
      "Objective = 433.000000\n",
      "packed_0\n",
      "packed_1\n",
      "packed_2\n",
      "packed_3\n",
      "packed_4\n",
      "packed_5\n",
      "packed_6\n",
      "packed_7\n",
      "packed_8\n",
      "packed_9\n",
      "---------------------\n",
      "Number of Items: 12\n",
      "Status = Optimal\n",
      "Objective = 506.000000\n",
      "packed_0\n",
      "packed_1\n",
      "packed_2\n",
      "packed_3\n",
      "packed_4\n",
      "packed_5\n",
      "packed_6\n",
      "packed_7\n",
      "packed_8\n",
      "packed_9\n",
      "packed_10\n",
      "packed_11\n",
      "---------------------\n",
      "Number of Items: 14\n",
      "Status = Optimal\n",
      "Objective = 534.000000\n",
      "packed_0\n",
      "packed_1\n",
      "packed_2\n",
      "packed_3\n",
      "packed_4\n",
      "packed_5\n",
      "packed_6\n",
      "packed_7\n",
      "packed_8\n",
      "packed_9\n",
      "packed_10\n",
      "packed_11\n",
      "packed_13\n",
      "---------------------\n"
     ]
    }
   ],
   "source": [
    "# A list of strings from \"1\" to \"9\" is created\n",
    "for nItems in [4,6,8,10,12,14]:#,16,18,20]:\n",
    "    print(\"Number of Items:\",nItems)\n",
    "    Items = range(nItems)\n",
    "    ItemPairs = list(itertools.permutations(Items,2))\n",
    "\n",
    "    random.seed( 15 )\n",
    "\n",
    "    height = {x: random.randint(1,20) for x in range(nItems)}\n",
    "    width = {x: random.randint(1,20) for x in range(nItems)}\n",
    "    itemValue = {x: height[x] * random.randint(0,3) + width[x] * random.randint(0,5) for x in range(nItems)}\n",
    "\n",
    "    W = int(nItems**(1/2) * 10);\n",
    "    H = int(nItems**(1/2) * 8);\n",
    "\n",
    "    prob = LpProblem(\"2D Backpack\",LpMaximize)\n",
    "\n",
    "    # The problem variables are created\n",
    "    packed = LpVariable.dicts(\"packed\",(Items),0,1,LpInteger)\n",
    "    rotated = LpVariable.dicts(\"rotated\",(Items),0,1,LpInteger)\n",
    "    x_origin = LpVariable.dicts(\"x_origin\",(Items),0,W)\n",
    "    y_origin = LpVariable.dicts(\"y_origin\",(Items),0,H)\n",
    "\n",
    "    x_overlap_right = LpVariable.dicts(\"x_overlap_right\",(ItemPairs),0,1,LpInteger)\n",
    "    x_overlap_left = LpVariable.dicts(\"x_overlap_left\",(ItemPairs),0,1,LpInteger)\n",
    "    y_overlap_above = LpVariable.dicts(\"y_overlap_above\",(ItemPairs),0,1,LpInteger)\n",
    "    y_overlap_below = LpVariable.dicts(\"y_overlap_below\",(ItemPairs),0,1,LpInteger)\n",
    "\n",
    "    # The arbitrary objective function is added\n",
    "    prob += lpSum([packed[i]*itemValue[i] for i in Items]), \"Objective Function\"\n",
    "\n",
    "    for (i,j) in ItemPairs:\n",
    "        prob += x_origin[j] - x_origin[i] - (1-rotated[i])*width[i] - rotated[i] * height[i] + x_overlap_right[i,j] * 1000 >= 0, \"overlap right %s %s\" %(i,j)\n",
    "        prob += x_origin[j] + (1-rotated[j])*width[j] + rotated[j]*height[j] - x_origin[i] - x_overlap_left[i,j] * 1000 <= 0, \"overlap left %s %s\" %(i,j)\n",
    "        prob += y_origin[j] - y_origin[i] - (1-rotated[i]) * height[i] - rotated[i] * width[i] + y_overlap_above[i,j] * 1000 >= 0, \"overlap above %s %s\" %(i,j)\n",
    "        prob += y_origin[j] + (1-rotated[j])*height[j] + rotated[j]*width[j] - y_origin[i] - y_overlap_below[i,j] * 1000 <= 0, \"overlap below %s %s\" %(i,j)\n",
    "        prob += x_overlap_right[i,j] + x_overlap_left[i,j] + y_overlap_below[i,j] + y_overlap_above[i,j] <= 3 + 3*((1-packed[i])+(1-packed[j])), \"no overlap %s %s\" %(i,j)\n",
    "\n",
    "    for i in Items:\n",
    "        prob += x_origin[i] + (1-rotated[i])*width[i] + rotated[i]* height[i] <= W + (1-packed[i]) * 1000 , \"maxWidth %i\" %i\n",
    "        prob += y_origin[i] + (1-rotated[i])*height[i] + rotated[i] * width[i] <= H + (1-packed[i]) * 1000, \"maxHeight %i\" %i\n",
    "\n",
    "    prob += W*H >= lpSum([packed[i] * width[i] * height[i] for i in Items]), \"maxArea\"\n",
    "\n",
    "    # The problem is solved using PuLP's choice of Solver\n",
    "    prob.solve()\n",
    "    #prob.solve(GUROBI_CMD())\n",
    "    print(\"Status = %s\" % LpStatus[prob.status])\n",
    "    # Print the value of the objective\n",
    "    print(\"Objective = %f\" % value(prob.objective))\n",
    "    # Which items are packed\n",
    "    counter = 0\n",
    "    for i in Items:\n",
    "        if packed[i].varValue >= 0.9:\n",
    "            print(packed[i])\n",
    "            counter = counter + 1\n",
    "\n",
    "    print(\"---------------------\")"
   ]
  },
  {
   "cell_type": "code",
   "execution_count": 28,
   "metadata": {},
   "outputs": [
    {
     "name": "stdout",
     "output_type": "stream",
     "text": [
      "9 : 0.0 0.0 8 12\n",
      "13 : 0.0 0.0 16 15\n"
     ]
    },
    {
     "data": {
      "image/png": "[encoded data removed]",
      "text/plain": [
       "<Figure size 864x864 with 1 Axes>"
      ]
     },
     "metadata": {
      "needs_background": "light"
     },
     "output_type": "display_data"
    }
   ],
   "source": [
    "## import matplotlib.pyplot as plt\n",
    "import matplotlib.patches as patches\n",
    "import numpy as np\n",
    "\n",
    "import matplotlib.pyplot as plt\n",
    "\n",
    "\n",
    "plt.rcParams['figure.figsize'] = [12, 12]\n",
    "\n",
    "plt.axes()\n",
    "rectangle = plt.Rectangle((0,0), W, H, fc='white',ec=\"white\")\n",
    "\n",
    "# Create a Rectangle patch\n",
    "for i in Items:\n",
    "    if packed[i].varValue >= 0.9:\n",
    "        if rotated[i].varValue == 0:\n",
    "            rect = patches.Rectangle((x_origin[i].varValue,y_origin[i].varValue),width[i],height[i],edgecolor='black',facecolor='lightgray')\n",
    "            plt.gca().add_patch(rect)\n",
    "            centerx = width[i]  /2 + x_origin[i].varValue\n",
    "            centery = height[i] /2 + y_origin[i].varValue \n",
    "            plt.text(centerx, centery,'%s'%i)\n",
    "        else:\n",
    "            rect = patches.Rectangle((x_origin[i].varValue,y_origin[i].varValue),height[i],width[i],edgecolor='blue',facecolor='lightblue')\n",
    "            plt.gca().add_patch(rect)\n",
    "            centerx = height[i]  /2 + x_origin[i].varValue\n",
    "            centery = width[i] /2 + y_origin[i].varValue \n",
    "            plt.text(centerx, centery,'%s'%i)\n",
    "    if packed[i].varValue < 0.9:\n",
    "        rect = patches.Rectangle((0,0),width[i],height[i],edgecolor='red',facecolor='none')\n",
    "        plt.gca().add_patch(rect)\n",
    "        print(i,\":\",x_origin[i].varValue,y_origin[i].varValue,width[i],height[i] )\n",
    "\n",
    "\n",
    "\n",
    "plt.axis('scaled')\n",
    "plt.show()"
   ]
  },
  {
   "cell_type": "code",
   "execution_count": 29,
   "metadata": {},
   "outputs": [
    {
     "data": {
      "text/plain": [
       "42"
      ]
     },
     "execution_count": 29,
     "metadata": {},
     "output_type": "execute_result"
    }
   ],
   "source": [
    "W"
   ]
  },
  {
   "cell_type": "code",
   "execution_count": 30,
   "metadata": {},
   "outputs": [
    {
     "data": {
      "text/plain": [
       "33"
      ]
     },
     "execution_count": 30,
     "metadata": {},
     "output_type": "execute_result"
    }
   ],
   "source": [
    "H"
   ]
  },
  {
   "cell_type": "code",
   "execution_count": null,
   "metadata": {},
   "outputs": [],
   "source": []
  }
 ],
 "metadata": {
  "kernelspec": {
   "display_name": "Python 3",
   "language": "python",
   "name": "python3"
  },
  "language_info": {
   "codemirror_mode": {
    "name": "ipython",
    "version": 3
   },
   "file_extension": ".py",
   "mimetype": "text/x-python",
   "name": "python",
   "nbconvert_exporter": "python",
   "pygments_lexer": "ipython3",
   "version": "3.6.5"
  },
  "toc": {
   "base_numbering": 1,
   "nav_menu": {},
   "number_sections": true,
   "sideBar": true,
   "skip_h1_title": false,
   "title_cell": "Table of Contents",
   "title_sidebar": "Contents",
   "toc_cell": false,
   "toc_position": {},
   "toc_section_display": true,
   "toc_window_display": false
  }
 },
 "nbformat": 4,
 "nbformat_minor": 2
}
