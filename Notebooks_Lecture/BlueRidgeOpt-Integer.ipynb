{
 "cells": [
  {
   "cell_type": "code",
   "execution_count": 1,
   "metadata": {},
   "outputs": [
    {
     "name": "stdout",
     "output_type": "stream",
     "text": [
      "Requirement already satisfied: pulp in c:\\users\\chris\\.julia\\conda\\3\\lib\\site-packages (1.6.10)\n",
      "Requirement already satisfied: pyparsing>=2.0.1 in c:\\users\\chris\\.julia\\conda\\3\\lib\\site-packages (from pulp) (2.4.5)\n"
     ]
    }
   ],
   "source": [
    "!pip install pulp\n",
    "from pulp import *"
   ]
  },
  {
   "cell_type": "code",
   "execution_count": 6,
   "metadata": {},
   "outputs": [],
   "source": [
    "# Creates a list of the products\n",
    "products = ['Aqua-Spa', 'Hydro-Lux']\n",
    "\n",
    "# A dictionary of the profits per product\n",
    "profit = {'Aqua-Spa': 350, \n",
    "         'Hydro-Lux': 300}\n",
    "\n",
    "# A dictionary of the resource consumption per product\n",
    "consumption = {'Pumps':\n",
    "               {'Aqua-Spa': 1,\n",
    "                'Hydro-Lux': 1\n",
    "               },\n",
    "               'Labor':\n",
    "               {'Aqua-Spa': 9,\n",
    "                'Hydro-Lux': 6 \n",
    "               },\n",
    "               'Tubing':\n",
    "               {'Aqua-Spa': 12,\n",
    "                'Hydro-Lux': 16 \n",
    "               }\n",
    "              }\n",
    "\n",
    "# A dictionary of the resource availabilities\n",
    "resources = {\n",
    "    'Pumps': 200,\n",
    "    'Labor': 1520,\n",
    "    'Tubing': 2650\n",
    "}\n",
    "\n",
    "# Create the 'prob' variable to contain the problem data\n",
    "prob = LpProblem(\"Blue Ridge Hot Tubs\", LpMaximize)\n",
    "\n",
    "# A dictionary called 'production_vars' is created to contain the referenced Variables\n",
    "x = LpVariable.dicts(\"Product\",products,0)#,cat='Integer')\n",
    "\n",
    "# Create objective function\n",
    "prob += lpSum([profit[i]*x[i] for i in products]), \"Total Profit of Production\"\n",
    "\n",
    "# Create constraints\n",
    "for resource in resources.keys():\n",
    "    prob += lpSum([x[i]*consumption[resource][i] for i in products]) <= resources[resource], \"{}\".format(resource)"
   ]
  },
  {
   "cell_type": "code",
   "execution_count": 7,
   "metadata": {},
   "outputs": [
    {
     "name": "stdout",
     "output_type": "stream",
     "text": [
      "Blue Ridge Hot Tubs:\n",
      "MAXIMIZE\n",
      "350*Product_Aqua_Spa + 300*Product_Hydro_Lux + 0\n",
      "SUBJECT TO\n",
      "Pumps: Product_Aqua_Spa + Product_Hydro_Lux <= 200\n",
      "\n",
      "Labor: 9 Product_Aqua_Spa + 6 Product_Hydro_Lux <= 1520\n",
      "\n",
      "Tubing: 12 Product_Aqua_Spa + 16 Product_Hydro_Lux <= 2650\n",
      "\n",
      "VARIABLES\n",
      "0 <= Product_Aqua_Spa Integer\n",
      "0 <= Product_Hydro_Lux Integer\n",
      "\n"
     ]
    }
   ],
   "source": [
    "print(prob)"
   ]
  },
  {
   "cell_type": "code",
   "execution_count": 8,
   "metadata": {},
   "outputs": [
    {
     "name": "stdout",
     "output_type": "stream",
     "text": [
      "Status = Optimal\n"
     ]
    }
   ],
   "source": [
    "# Optimize\n",
    "\n",
    "prob.solve()\n",
    "\n",
    "# Print the status of the solved LP\n",
    "print(\"Status = %s\" % LpStatus[prob.status])"
   ]
  },
  {
   "cell_type": "code",
   "execution_count": 9,
   "metadata": {},
   "outputs": [
    {
     "name": "stdout",
     "output_type": "stream",
     "text": [
      "Product_Aqua_Spa = 118.000000\n",
      "Product_Hydro_Lux = 76.000000\n",
      "Objective = 64100.000000\n"
     ]
    }
   ],
   "source": [
    "# Print the value of the variables at the optimum\n",
    "for i in products:\n",
    "    print(\"%s = %f\" % (x[i].name, x[i].varValue))\n",
    "\n",
    "# Print the value of the objective\n",
    "print(\"Objective = %f\" % value(prob.objective))"
   ]
  },
  {
   "cell_type": "code",
   "execution_count": null,
   "metadata": {},
   "outputs": [],
   "source": []
  }
 ],
 "metadata": {
  "kernelspec": {
   "display_name": "Python 3",
   "language": "python",
   "name": "python3"
  },
  "language_info": {
   "codemirror_mode": {
    "name": "ipython",
    "version": 3
   },
   "file_extension": ".py",
   "mimetype": "text/x-python",
   "name": "python",
   "nbconvert_exporter": "python",
   "pygments_lexer": "ipython3",
   "version": "3.6.5"
  },
  "toc": {
   "base_numbering": 1,
   "nav_menu": {},
   "number_sections": true,
   "sideBar": true,
   "skip_h1_title": false,
   "title_cell": "Table of Contents",
   "title_sidebar": "Contents",
   "toc_cell": false,
   "toc_position": {},
   "toc_section_display": true,
   "toc_window_display": false
  }
 },
 "nbformat": 4,
 "nbformat_minor": 2
}
