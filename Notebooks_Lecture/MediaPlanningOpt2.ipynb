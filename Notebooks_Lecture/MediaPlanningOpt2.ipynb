{
 "cells": [
  {
   "cell_type": "code",
   "execution_count": 3,
   "metadata": {},
   "outputs": [
    {
     "name": "stdout",
     "output_type": "stream",
     "text": [
      "Requirement already satisfied: pulp in c:\\users\\chris\\.julia\\conda\\3\\lib\\site-packages (1.6.10)\n",
      "Requirement already satisfied: pyparsing>=2.0.1 in c:\\users\\chris\\.julia\\conda\\3\\lib\\site-packages (from pulp) (2.4.2)\n"
     ]
    }
   ],
   "source": [
    "!pip install pulp\n",
    "from pulp import *"
   ]
  },
  {
   "cell_type": "code",
   "execution_count": 26,
   "metadata": {},
   "outputs": [],
   "source": [
    "# Creates a list of the products\n",
    "media = ['TV', 'Print', 'Web', 'SocialMedia']\n",
    "\n",
    "# A dictionary of the cost per medium\n",
    "cost = {'TV': 500, \n",
    "         'Print': 200,\n",
    "         'Web': 250,\n",
    "         'SocialMedia': 125}\n",
    "\n",
    "# A dictionary of the reach per medium\n",
    "reach = {'TV': 50, \n",
    "         'Print': 25,\n",
    "         'Web': 20,\n",
    "         'SocialMedia': 15}\n",
    "\n",
    "# A dictionary of the max ads per medium [increased to facilitate comparison]\n",
    "maxAds = {'TV': 20, \n",
    "         'Print': 15,\n",
    "         'Web': 20,\n",
    "         'SocialMedia': 30}\n",
    "\n",
    "# A dictionary of whether or not a medium is digital\n",
    "channelType = {'TV': 1, \n",
    "         'Print': 1,\n",
    "         'Web': 0,\n",
    "         'SocialMedia': 0}\n",
    "\n",
    "# Create the 'prob' variable to contain the problem data\n",
    "prob = LpProblem(\"Media Planning\", LpMaximize)\n",
    "\n",
    "# A dictionary called 'production_vars' is created to contain the referenced Variables\n",
    "x = LpVariable.dicts(\"x\",media,0)\n",
    "\n",
    "z = LpVariable('z',lowBound = 0, cat='Continuous')\n",
    "\n",
    "# Create objective function\n",
    "prob += z, \"obj_reach\"\n",
    "\n",
    "# Create cost constraint\n",
    "prob += lpSum([x[i]*cost[i] for i in media]) <= 13875, \"Total Cost of Media\"\n",
    "\n",
    "# reach Classic\n",
    "prob += lpSum([x[i]*reach[i]*channelType[i] for i in media]) >= z, \"ReachClassic\"\n",
    "\n",
    "# reach Digital\n",
    "prob += lpSum([x[i]*reach[i]*(1-channelType[i]) for i in media]) >= z, \"ReachDigital\"\n",
    "\n",
    "\n",
    "# Create max constraints\n",
    "for m in media:\n",
    "    prob += x[m] <= maxAds[m], \"{}\".format(m)"
   ]
  },
  {
   "cell_type": "code",
   "execution_count": 27,
   "metadata": {},
   "outputs": [
    {
     "name": "stdout",
     "output_type": "stream",
     "text": [
      "Media Planning:\n",
      "MAXIMIZE\n",
      "1*z + 0\n",
      "SUBJECT TO\n",
      "Total_Cost_of_Media: 200 m_Print + 125 m_SocialMedia + 500 m_TV + 250 m_Web\n",
      " <= 13875\n",
      "\n",
      "ReachClassic: 25 m_Print + 50 m_TV - z >= 0\n",
      "\n",
      "ReachDigital: 15 m_SocialMedia + 20 m_Web - z >= 0\n",
      "\n",
      "TV: m_TV <= 20\n",
      "\n",
      "Print: m_Print <= 15\n",
      "\n",
      "Web: m_Web <= 20\n",
      "\n",
      "SocialMedia: m_SocialMedia <= 30\n",
      "\n",
      "VARIABLES\n",
      "m_Print Continuous\n",
      "m_SocialMedia Continuous\n",
      "m_TV Continuous\n",
      "m_Web Continuous\n",
      "z Continuous\n",
      "\n"
     ]
    }
   ],
   "source": [
    "print(prob)"
   ]
  },
  {
   "cell_type": "code",
   "execution_count": 28,
   "metadata": {},
   "outputs": [
    {
     "name": "stdout",
     "output_type": "stream",
     "text": [
      "Status = Optimal\n",
      "m_TV = 7.166667\n",
      "m_Print = 15.000000\n",
      "m_Web = 14.166667\n",
      "m_SocialMedia = 30.000000\n",
      "Objective = 733.333330\n",
      "Classic Reach = 733.333335\n",
      "Digital Reach = 733.333340\n",
      "Total Reach = 1466.666675\n"
     ]
    }
   ],
   "source": [
    "# Optimize\n",
    "\n",
    "prob.solve()\n",
    "\n",
    "# Print the status of the solved LP\n",
    "print(\"Status = %s\" % LpStatus[prob.status])\n",
    "\n",
    "# Print the value of the variables at the optimum\n",
    "for i in media:\n",
    "    print(\"%s = %f\" % (x[i].name, x[i].varValue))\n",
    "\n",
    "# Print the value of the objective\n",
    "print(\"Objective = %f\" % value(prob.objective))\n",
    "\n",
    "\n",
    "# Print Classic Reach\n",
    "val = 0\n",
    "for i in media:\n",
    "    val = val + x[i].varValue * reach[i] * channelType[i]\n",
    "print(\"Classic Reach = %f\" %val)\n",
    "\n",
    "# Print Digital Reach\n",
    "val2 = 0\n",
    "for i in media:\n",
    "    val2 = val2 + x[i].varValue * reach[i] * (1-channelType[i])\n",
    "print(\"Digital Reach = %f\" %val2)\n",
    "\n",
    "#Print Total Reach for comparison with before\n",
    "print(\"Total Reach = %f\" %(val2+val))"
   ]
  }
 ],
 "metadata": {
  "kernelspec": {
   "display_name": "Python 3",
   "language": "python",
   "name": "python3"
  },
  "language_info": {
   "codemirror_mode": {
    "name": "ipython",
    "version": 3
   },
   "file_extension": ".py",
   "mimetype": "text/x-python",
   "name": "python",
   "nbconvert_exporter": "python",
   "pygments_lexer": "ipython3",
   "version": "3.6.5"
  },
  "toc": {
   "base_numbering": 1,
   "nav_menu": {},
   "number_sections": true,
   "sideBar": true,
   "skip_h1_title": false,
   "title_cell": "Table of Contents",
   "title_sidebar": "Contents",
   "toc_cell": false,
   "toc_position": {},
   "toc_section_display": true,
   "toc_window_display": false
  }
 },
 "nbformat": 4,
 "nbformat_minor": 2
}
