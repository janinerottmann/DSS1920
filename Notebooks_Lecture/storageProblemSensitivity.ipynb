{
 "cells": [
  {
   "cell_type": "code",
   "execution_count": 1,
   "metadata": {},
   "outputs": [
    {
     "name": "stdout",
     "output_type": "stream",
     "text": [
      "Requirement already satisfied: pulp in c:\\users\\toni greif\\anaconda3\\lib\\site-packages (1.6.10)\n",
      "Requirement already satisfied: pyparsing>=2.0.1 in c:\\users\\toni greif\\anaconda3\\lib\\site-packages (from pulp) (2.3.0)\n"
     ]
    }
   ],
   "source": [
    "!pip install pulp\n",
    "from pulp import *"
   ]
  },
  {
   "cell_type": "code",
   "execution_count": 2,
   "metadata": {},
   "outputs": [],
   "source": [
    "# Creates a list of the products\n",
    "months = ['000','JAN', 'FEB', 'MAR', 'APR', 'MAY', 'JUN']\n",
    "\n",
    "# A dictionary of the unit cost per month\n",
    "cost = {'000': 0,\n",
    "    'JAN': 240, \n",
    "         'FEB': 250,\n",
    "       'MAR': 265, \n",
    "         'APR': 285,\n",
    "       'MAY': 280, \n",
    "         'JUN': 260}\n",
    "\n",
    "# A dictionary of the demand per month\n",
    "demand = {'000': 0,\n",
    "          'JAN': 1000, \n",
    "         'FEB': 4500,\n",
    "       'MAR': 6000, \n",
    "         'APR': 5500,\n",
    "       'MAY': 3500, \n",
    "         'JUN': 4000}\n",
    "\n",
    "# A dictionary of the min production per month\n",
    "minOut = {'000': 0,\n",
    "          'JAN': 2000, \n",
    "         'FEB': 1750,\n",
    "       'MAR': 2000, \n",
    "         'APR': 2250,\n",
    "       'MAY': 2000, \n",
    "         'JUN': 1750}\n",
    "\n",
    "# A dictionary of the max production per month\n",
    "maxOut = {'JAN': 4000, \n",
    "         'FEB': 3500,\n",
    "       'MAR': 4000, \n",
    "         'APR': 4500,\n",
    "       'MAY': 4000, \n",
    "         'JUN': 3500,\n",
    "         '000': 0}\n",
    "\n",
    "# Create the 'prob' variable to contain the problem data\n",
    "prob = LpProblem(\"Upton Corporation Production Planning\", LpMinimize)\n",
    "\n",
    "# A dictionary of the output variables\n",
    "o = LpVariable.dicts(\"output\",months,0)\n",
    "\n",
    "# A dictionary of the storage variables\n",
    "s = LpVariable.dicts(\"storage\",months,1500,6000)\n",
    "\n",
    "# Create objective function\n",
    "prob += lpSum([o[i]*cost[i] for i in months]) + lpSum([0.015*cost[months[i+1]]*0.5*(s[months[i+1]]+s[months[i]]) for i in range(6)]), \"Total Cost\"\n",
    "\n",
    "#Enforce values of init period\n",
    "prob += s[\"000\"] == 2750, \"initial    \"\n",
    "\n",
    "# Create constraints\n",
    "for month in months:\n",
    "    prob += o[month] >= minOut[month], \"minOut{}  \".format(month)\n",
    "    prob += o[month] <= maxOut[month], \"maxOut{}  \".format(month)\n",
    "\n",
    "for i in range(6):\n",
    "    prob += s[months[i]]+o[months[i+1]]-demand[months[i+1]]==s[months[i+1]], \"balance %s\" % months[i]"
   ]
  },
  {
   "cell_type": "code",
   "execution_count": 3,
   "metadata": {},
   "outputs": [
    {
     "name": "stdout",
     "output_type": "stream",
     "text": [
      "Upton Corporation Production Planning:\n",
      "MINIMIZE\n",
      "285*output_APR + 250*output_FEB + 240*output_JAN + 260*output_JUN + 265*output_MAR + 280*output_MAY + 1.7999999999999998*storage_000 + 4.2375*storage_APR + 3.8625*storage_FEB + 3.675*storage_JAN + 1.95*storage_JUN + 4.125*storage_MAR + 4.05*storage_MAY + 0.0\n",
      "SUBJECT TO\n",
      "initial____: storage_000 = 2750\n",
      "\n",
      "minOut000__: output_000 >= 0\n",
      "\n",
      "maxOut000__: output_000 <= 0\n",
      "\n",
      "minOutJAN__: output_JAN >= 2000\n",
      "\n",
      "maxOutJAN__: output_JAN <= 4000\n",
      "\n",
      "minOutFEB__: output_FEB >= 1750\n",
      "\n",
      "maxOutFEB__: output_FEB <= 3500\n",
      "\n",
      "minOutMAR__: output_MAR >= 2000\n",
      "\n",
      "maxOutMAR__: output_MAR <= 4000\n",
      "\n",
      "minOutAPR__: output_APR >= 2250\n",
      "\n",
      "maxOutAPR__: output_APR <= 4500\n",
      "\n",
      "minOutMAY__: output_MAY >= 2000\n",
      "\n",
      "maxOutMAY__: output_MAY <= 4000\n",
      "\n",
      "minOutJUN__: output_JUN >= 1750\n",
      "\n",
      "maxOutJUN__: output_JUN <= 3500\n",
      "\n",
      "balance_000: output_JAN + storage_000 - storage_JAN = 1000\n",
      "\n",
      "balance_JAN: output_FEB - storage_FEB + storage_JAN = 4500\n",
      "\n",
      "balance_FEB: output_MAR + storage_FEB - storage_MAR = 6000\n",
      "\n",
      "balance_MAR: output_APR - storage_APR + storage_MAR = 5500\n",
      "\n",
      "balance_APR: output_MAY + storage_APR - storage_MAY = 3500\n",
      "\n",
      "balance_MAY: output_JUN - storage_JUN + storage_MAY = 4000\n",
      "\n",
      "VARIABLES\n",
      "output_000 Continuous\n",
      "output_APR Continuous\n",
      "output_FEB Continuous\n",
      "output_JAN Continuous\n",
      "output_JUN Continuous\n",
      "output_MAR Continuous\n",
      "output_MAY Continuous\n",
      "1500 <= storage_000 <= 6000 Continuous\n",
      "1500 <= storage_APR <= 6000 Continuous\n",
      "1500 <= storage_FEB <= 6000 Continuous\n",
      "1500 <= storage_JAN <= 6000 Continuous\n",
      "1500 <= storage_JUN <= 6000 Continuous\n",
      "1500 <= storage_MAR <= 6000 Continuous\n",
      "1500 <= storage_MAY <= 6000 Continuous\n",
      "\n"
     ]
    }
   ],
   "source": [
    "print(prob)"
   ]
  },
  {
   "cell_type": "code",
   "execution_count": 4,
   "metadata": {},
   "outputs": [
    {
     "name": "stdout",
     "output_type": "stream",
     "text": [
      "Status = Optimal\n"
     ]
    }
   ],
   "source": [
    "# Optimize\n",
    "\n",
    "prob.solve()\n",
    "\n",
    "# Print the status of the solved LP\n",
    "print(\"Status = %s\" % LpStatus[prob.status])"
   ]
  },
  {
   "cell_type": "code",
   "execution_count": 5,
   "metadata": {},
   "outputs": [
    {
     "name": "stdout",
     "output_type": "stream",
     "text": [
      "000 | s= 2750.000000 | o= 0.000000\n",
      "JAN | s= 5750.000000 | o= 4000.000000\n",
      "FEB | s= 4750.000000 | o= 3500.000000\n",
      "MAR | s= 2750.000000 | o= 4000.000000\n",
      "APR | s= 1500.000000 | o= 4250.000000\n",
      "MAY | s= 2000.000000 | o= 4000.000000\n",
      "JUN | s= 1500.000000 | o= 3500.000000\n",
      "Objective = 6209403.125000\n"
     ]
    }
   ],
   "source": [
    "# Print the value of the variables at the optimum\n",
    "for i in months:\n",
    "    print(\"%s | s= %f | o= %f\" % (i, s[i].varValue, o[i].varValue))\n",
    "\n",
    "# Print the value of the objective\n",
    "print(\"Objective = %f\" % value(prob.objective))"
   ]
  },
  {
   "cell_type": "code",
   "execution_count": 6,
   "metadata": {},
   "outputs": [
    {
     "name": "stdout",
     "output_type": "stream",
     "text": [
      "Constraint  | Shadow Price | Slack\n",
      "initial____ | -271.537500 | -0.000000\n",
      "minOut000__ | 0.000000 | -0.000000\n",
      "maxOut000__ | 0.000000 | -0.000000\n",
      "minOutJAN__ | 0.000000 | -2000.000000\n",
      "maxOutJAN__ | -33.337500 | -0.000000\n",
      "minOutFEB__ | 0.000000 | -1750.000000\n",
      "maxOutFEB__ | -27.012500 | -0.000000\n",
      "minOutMAR__ | 0.000000 | -2000.000000\n",
      "maxOutMAR__ | -15.875000 | -0.000000\n",
      "minOutAPR__ | 0.000000 | -2000.000000\n",
      "maxOutAPR__ | 0.000000 | 250.000000\n",
      "minOutMAY__ | 0.000000 | -2000.000000\n",
      "maxOutMAY__ | 0.000000 | -0.000000\n",
      "minOutJUN__ | 0.000000 | -1750.000000\n",
      "maxOutJUN__ | -24.050000 | -0.000000\n",
      "balance_000 | 273.337500 | -0.000000\n",
      "balance_JAN | 277.012500 | -0.000000\n",
      "balance_FEB | 280.875000 | -0.000000\n",
      "balance_MAR | 285.000000 | -0.000000\n",
      "balance_APR | 280.000000 | -0.000000\n",
      "balance_MAY | 284.050000 | -0.000000\n"
     ]
    }
   ],
   "source": [
    "print(\"Constraint  | Shadow Price | Slack\")\n",
    "for c in prob.constraints:\n",
    "    print(\"%s | %f | %f\"  %(c,prob.constraints[c].pi,prob.constraints[c].slack))"
   ]
  }
 ],
 "metadata": {
  "kernelspec": {
   "display_name": "Python 3",
   "language": "python",
   "name": "python3"
  },
  "language_info": {
   "codemirror_mode": {
    "name": "ipython",
    "version": 3
   },
   "file_extension": ".py",
   "mimetype": "text/x-python",
   "name": "python",
   "nbconvert_exporter": "python",
   "pygments_lexer": "ipython3",
   "version": "3.7.1"
  },
  "toc": {
   "base_numbering": 1,
   "nav_menu": {},
   "number_sections": true,
   "sideBar": true,
   "skip_h1_title": false,
   "title_cell": "Table of Contents",
   "title_sidebar": "Contents",
   "toc_cell": false,
   "toc_position": {},
   "toc_section_display": true,
   "toc_window_display": false
  }
 },
 "nbformat": 4,
 "nbformat_minor": 2
}
