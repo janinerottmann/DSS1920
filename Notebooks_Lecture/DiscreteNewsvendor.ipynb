{
 "cells": [
  {
   "cell_type": "code",
   "execution_count": 1,
   "metadata": {},
   "outputs": [
    {
     "name": "stdout",
     "output_type": "stream",
     "text": [
      "Requirement already satisfied: pulp in c:\\users\\chris\\.julia\\conda\\3\\lib\\site-packages (1.6.10)\n",
      "Requirement already satisfied: pyparsing>=2.0.1 in c:\\users\\chris\\.julia\\conda\\3\\lib\\site-packages (from pulp) (2.4.5)\n"
     ]
    }
   ],
   "source": [
    "!pip install pulp\n",
    "from pulp import *"
   ]
  },
  {
   "cell_type": "code",
   "execution_count": 20,
   "metadata": {},
   "outputs": [],
   "source": [
    "# Creates a list of the scenarios\n",
    "scenarios = ['1', '2', '3', '4', '5']\n",
    "\n",
    "# A dictionary of the demand per scenario\n",
    "demand = {'1': 7000, \n",
    "         '2': 8000,\n",
    "         '3': 9000,\n",
    "         '4': 10000,\n",
    "         '5': 11000}\n",
    "\n",
    "# A dictionary of the probability of each scenario\n",
    "probability = {'1': 0.1, \n",
    "         '2': 0.2,\n",
    "         '3': 0.4,\n",
    "         '4': 0.2,\n",
    "         '5': 0.1}\n",
    "\n",
    "# Create the 'prob' variable to contain the problem data\n",
    "prob = LpProblem(\"Discrete Newsvendor\", LpMaximize)\n",
    "\n",
    "# Create decision variables\n",
    "order = LpVariable(\"Order Amount\") # non-recourse variable\n",
    "sales = LpVariable.dicts(\"Period Sales\",scenarios,0) # recourse variables\n",
    "\n",
    "# Create objective function\n",
    "prob += lpSum([probability[i]*sales[i]*5 for i in scenarios]) - order * 1.25\n",
    "for i in scenarios:\n",
    "    # Demand constraint\n",
    "    prob += sales[i] <= demand[i], \"Demand %s\" %i\n",
    "    # Inventory constraint\n",
    "    prob += sales[i] <= order, \"Inventory %s\" %i"
   ]
  },
  {
   "cell_type": "code",
   "execution_count": 21,
   "metadata": {},
   "outputs": [
    {
     "name": "stdout",
     "output_type": "stream",
     "text": [
      "Discrete Newsvendor:\n",
      "MAXIMIZE\n",
      "-1.25*Order_Amount + 0.5*Period_Sales_1 + 1.0*Period_Sales_2 + 2.0*Period_Sales_3 + 1.0*Period_Sales_4 + 0.5*Period_Sales_5 + 0.0\n",
      "SUBJECT TO\n",
      "Demand_1: Period_Sales_1 <= 7000\n",
      "\n",
      "Inventory_1: - Order_Amount + Period_Sales_1 <= 0\n",
      "\n",
      "Demand_2: Period_Sales_2 <= 8000\n",
      "\n",
      "Inventory_2: - Order_Amount + Period_Sales_2 <= 0\n",
      "\n",
      "Demand_3: Period_Sales_3 <= 9000\n",
      "\n",
      "Inventory_3: - Order_Amount + Period_Sales_3 <= 0\n",
      "\n",
      "Demand_4: Period_Sales_4 <= 10000\n",
      "\n",
      "Inventory_4: - Order_Amount + Period_Sales_4 <= 0\n",
      "\n",
      "Demand_5: Period_Sales_5 <= 11000\n",
      "\n",
      "Inventory_5: - Order_Amount + Period_Sales_5 <= 0\n",
      "\n",
      "VARIABLES\n",
      "Order_Amount free Continuous\n",
      "Period_Sales_1 Continuous\n",
      "Period_Sales_2 Continuous\n",
      "Period_Sales_3 Continuous\n",
      "Period_Sales_4 Continuous\n",
      "Period_Sales_5 Continuous\n",
      "\n"
     ]
    }
   ],
   "source": [
    "print(prob)"
   ]
  },
  {
   "cell_type": "code",
   "execution_count": 22,
   "metadata": {},
   "outputs": [
    {
     "name": "stdout",
     "output_type": "stream",
     "text": [
      "Status = Optimal\n",
      "Order_Amount = 10000.000000\n",
      "Period_Sales_1 = 7000.000000\n",
      "Period_Sales_2 = 8000.000000\n",
      "Period_Sales_3 = 9000.000000\n",
      "Period_Sales_4 = 10000.000000\n",
      "Period_Sales_5 = 10000.000000\n",
      "Objective = 32000.000000\n"
     ]
    }
   ],
   "source": [
    "# Optimize\n",
    "\n",
    "prob.solve()\n",
    "\n",
    "# Print the status of the solved LP\n",
    "print(\"Status = %s\" % LpStatus[prob.status])\n",
    "\n",
    "# Print the value of the variables at the optimum\n",
    "print(\"%s = %f\" % (order.name, order.varValue))\n",
    "\n",
    "for i in scenarios:\n",
    "    print(\"%s = %f\" % (sales[i].name, sales[i].varValue))\n",
    "\n",
    "# Print the value of the objective\n",
    "print(\"Objective = %f\" % value(prob.objective))"
   ]
  }
 ],
 "metadata": {
  "kernelspec": {
   "display_name": "Python 3",
   "language": "python",
   "name": "python3"
  },
  "language_info": {
   "codemirror_mode": {
    "name": "ipython",
    "version": 3
   },
   "file_extension": ".py",
   "mimetype": "text/x-python",
   "name": "python",
   "nbconvert_exporter": "python",
   "pygments_lexer": "ipython3",
   "version": "3.6.5"
  },
  "toc": {
   "base_numbering": 1,
   "nav_menu": {},
   "number_sections": true,
   "sideBar": true,
   "skip_h1_title": false,
   "title_cell": "Table of Contents",
   "title_sidebar": "Contents",
   "toc_cell": false,
   "toc_position": {},
   "toc_section_display": true,
   "toc_window_display": false
  }
 },
 "nbformat": 4,
 "nbformat_minor": 2
}
