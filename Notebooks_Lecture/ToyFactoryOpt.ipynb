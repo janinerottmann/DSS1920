{
 "cells": [
  {
   "cell_type": "code",
   "execution_count": 2,
   "metadata": {},
   "outputs": [
    {
     "name": "stdout",
     "output_type": "stream",
     "text": [
      "Requirement already satisfied: pulp in c:\\users\\toni greif\\anaconda3\\lib\\site-packages (1.6.10)\n",
      "Requirement already satisfied: pyparsing>=2.0.1 in c:\\users\\toni greif\\anaconda3\\lib\\site-packages (from pulp) (2.3.0)\n"
     ]
    }
   ],
   "source": [
    "!pip install pulp\n",
    "from pulp import *"
   ]
  },
  {
   "cell_type": "code",
   "execution_count": 3,
   "metadata": {},
   "outputs": [],
   "source": [
    "# Creates a list of the Toys\n",
    "toys = ['SOLDIER', 'TRAIN']\n",
    "\n",
    "# A dictionary of the profits per toy\n",
    "profit = {'SOLDIER': 3, \n",
    "         'TRAIN': 2}\n",
    "\n",
    "# A dictionary of the resource consumption per product\n",
    "consumption = {'CARPENTING':\n",
    "               {'SOLDIER': 1,\n",
    "                'TRAIN': 1\n",
    "               },\n",
    "               'FINISHING':\n",
    "               {'SOLDIER': 2,\n",
    "                'TRAIN': 1 \n",
    "               }\n",
    "              }\n",
    "\n",
    "# A dictionary of maximum output values (-1 is non binding)\n",
    "maxOutput = {'SOLDIER': 40, \n",
    "              'TRAIN': -1}\n",
    "\n",
    "# A dictionary of the resource availabilities\n",
    "resources = {\n",
    "    'CARPENTING': 80,\n",
    "    'FINISHING': 100\n",
    "}\n",
    "\n",
    "# Create the 'prob' variable to contain the problem data\n",
    "prob = LpProblem(\"Toy Factory Problem\", LpMaximize)\n",
    "\n",
    "# A dictionary called 'production_vars' is created to contain the referenced Variables\n",
    "x = LpVariable.dicts(\"Toy\",toys,0)\n",
    "\n",
    "# Create objective function\n",
    "prob += lpSum([profit[i]*x[i] for i in toys]), \"Total Profit of Production\"\n",
    "\n",
    "# Create resource constraints\n",
    "for resource in resources.keys():\n",
    "    prob += lpSum([x[i]*consumption[resource][i] for i in toys]) <= resources[resource], \"{}\".format(resource)\n",
    "\n",
    "# Create max Output constraints\n",
    "for toy in toys:\n",
    "    if(maxOutput[toy] >= 0):\n",
    "        prob += x[toy] <= maxOutput[toy], \"maxOutput{}\".format(toy)"
   ]
  },
  {
   "cell_type": "code",
   "execution_count": 4,
   "metadata": {},
   "outputs": [
    {
     "name": "stdout",
     "output_type": "stream",
     "text": [
      "Toy Factory Problem:\n",
      "MAXIMIZE\n",
      "3*Toy_SOLDIER + 2*Toy_TRAIN + 0\n",
      "SUBJECT TO\n",
      "CARPENTING: Toy_SOLDIER + Toy_TRAIN <= 80\n",
      "\n",
      "FINISHING: 2 Toy_SOLDIER + Toy_TRAIN <= 100\n",
      "\n",
      "maxOutputSOLDIER: Toy_SOLDIER <= 40\n",
      "\n",
      "VARIABLES\n",
      "Toy_SOLDIER Continuous\n",
      "Toy_TRAIN Continuous\n",
      "\n"
     ]
    }
   ],
   "source": [
    "print(prob)"
   ]
  },
  {
   "cell_type": "code",
   "execution_count": 5,
   "metadata": {},
   "outputs": [
    {
     "name": "stdout",
     "output_type": "stream",
     "text": [
      "Status = Optimal\n"
     ]
    }
   ],
   "source": [
    "# Optimize\n",
    "\n",
    "prob.solve()\n",
    "\n",
    "# Print the status of the solved LP\n",
    "print(\"Status = %s\" % LpStatus[prob.status])"
   ]
  },
  {
   "cell_type": "code",
   "execution_count": 6,
   "metadata": {},
   "outputs": [
    {
     "name": "stdout",
     "output_type": "stream",
     "text": [
      "Toy_SOLDIER = 20.000000\n",
      "Toy_TRAIN = 60.000000\n",
      "Objective = 180.000000\n"
     ]
    }
   ],
   "source": [
    "# Print the value of the variables at the optimum\n",
    "for i in toys:\n",
    "    print(\"%s = %f\" % (x[i].name, x[i].varValue))\n",
    "\n",
    "# Print the value of the objective\n",
    "print(\"Objective = %f\" % value(prob.objective))"
   ]
  }
 ],
 "metadata": {
  "kernelspec": {
   "display_name": "Python 3",
   "language": "python",
   "name": "python3"
  },
  "language_info": {
   "codemirror_mode": {
    "name": "ipython",
    "version": 3
   },
   "file_extension": ".py",
   "mimetype": "text/x-python",
   "name": "python",
   "nbconvert_exporter": "python",
   "pygments_lexer": "ipython3",
   "version": "3.7.1"
  },
  "toc": {
   "base_numbering": 1,
   "nav_menu": {},
   "number_sections": true,
   "sideBar": true,
   "skip_h1_title": false,
   "title_cell": "Table of Contents",
   "title_sidebar": "Contents",
   "toc_cell": false,
   "toc_position": {},
   "toc_section_display": true,
   "toc_window_display": false
  }
 },
 "nbformat": 4,
 "nbformat_minor": 2
}
